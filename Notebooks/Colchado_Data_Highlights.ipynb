{
  "nbformat": 4,
  "nbformat_minor": 0,
  "metadata": {
    "colab": {
      "provenance": []
    },
    "kernelspec": {
      "name": "python3",
      "display_name": "Python 3"
    },
    "language_info": {
      "name": "python"
    }
  },
  "cells": [
    {
      "cell_type": "code",
      "execution_count": null,
      "metadata": {
        "colab": {
          "base_uri": "https://localhost:8080/",
          "height": 504
        },
        "id": "1o0dCJ8pBwHG",
        "outputId": "4339cc91-b1c7-4a57-ab8e-538438980179"
      },
      "outputs": [
        {
          "output_type": "execute_result",
          "data": {
            "text/plain": [
              "   job_id                                      title            location  \\\n",
              "0       1                           Marketing Intern    US, NY, New York   \n",
              "1       2  Customer Service - Cloud Video Production      NZ, , Auckland   \n",
              "2       3    Commissioning Machinery Assistant (CMA)       US, IA, Wever   \n",
              "3       4          Account Executive - Washington DC  US, DC, Washington   \n",
              "4       5                        Bill Review Manager  US, FL, Fort Worth   \n",
              "\n",
              "  department salary_range                                    company_profile  \\\n",
              "0  Marketing          NaN  We're Food52, and we've created a groundbreaki...   \n",
              "1    Success          NaN  90 Seconds, the worlds Cloud Video Production ...   \n",
              "2        NaN          NaN  Valor Services provides Workforce Solutions th...   \n",
              "3      Sales          NaN  Our passion for improving quality of life thro...   \n",
              "4        NaN          NaN  SpotSource Solutions LLC is a Global Human Cap...   \n",
              "\n",
              "                                         description  \\\n",
              "0  Food52, a fast-growing, James Beard Award-winn...   \n",
              "1  Organised - Focused - Vibrant - Awesome!Do you...   \n",
              "2  Our client, located in Houston, is actively se...   \n",
              "3  THE COMPANY: ESRI – Environmental Systems Rese...   \n",
              "4  JOB TITLE: Itemization Review ManagerLOCATION:...   \n",
              "\n",
              "                                        requirements  \\\n",
              "0  Experience with content management systems a m...   \n",
              "1  What we expect from you:Your key responsibilit...   \n",
              "2  Implement pre-commissioning and commissioning ...   \n",
              "3  EDUCATION: Bachelor’s or Master’s in GIS, busi...   \n",
              "4  QUALIFICATIONS:RN license in the State of Texa...   \n",
              "\n",
              "                                            benefits  telecommuting  \\\n",
              "0                                                NaN              0   \n",
              "1  What you will get from usThrough being part of...              0   \n",
              "2                                                NaN              0   \n",
              "3  Our culture is anything but corporate—we have ...              0   \n",
              "4                              Full Benefits Offered              0   \n",
              "\n",
              "   has_company_logo  has_questions employment_type required_experience  \\\n",
              "0                 1              0           Other          Internship   \n",
              "1                 1              0       Full-time      Not Applicable   \n",
              "2                 1              0             NaN                 NaN   \n",
              "3                 1              0       Full-time    Mid-Senior level   \n",
              "4                 1              1       Full-time    Mid-Senior level   \n",
              "\n",
              "  required_education                   industry              function  \\\n",
              "0                NaN                        NaN             Marketing   \n",
              "1                NaN  Marketing and Advertising      Customer Service   \n",
              "2                NaN                        NaN                   NaN   \n",
              "3  Bachelor's Degree          Computer Software                 Sales   \n",
              "4  Bachelor's Degree     Hospital & Health Care  Health Care Provider   \n",
              "\n",
              "   fraudulent  \n",
              "0           0  \n",
              "1           0  \n",
              "2           0  \n",
              "3           0  \n",
              "4           0  "
            ],
            "text/html": [
              "\n",
              "  <div id=\"df-18a7d09b-fcf6-4535-9f52-0da7e104d05d\" class=\"colab-df-container\">\n",
              "    <div>\n",
              "<style scoped>\n",
              "    .dataframe tbody tr th:only-of-type {\n",
              "        vertical-align: middle;\n",
              "    }\n",
              "\n",
              "    .dataframe tbody tr th {\n",
              "        vertical-align: top;\n",
              "    }\n",
              "\n",
              "    .dataframe thead th {\n",
              "        text-align: right;\n",
              "    }\n",
              "</style>\n",
              "<table border=\"1\" class=\"dataframe\">\n",
              "  <thead>\n",
              "    <tr style=\"text-align: right;\">\n",
              "      <th></th>\n",
              "      <th>job_id</th>\n",
              "      <th>title</th>\n",
              "      <th>location</th>\n",
              "      <th>department</th>\n",
              "      <th>salary_range</th>\n",
              "      <th>company_profile</th>\n",
              "      <th>description</th>\n",
              "      <th>requirements</th>\n",
              "      <th>benefits</th>\n",
              "      <th>telecommuting</th>\n",
              "      <th>has_company_logo</th>\n",
              "      <th>has_questions</th>\n",
              "      <th>employment_type</th>\n",
              "      <th>required_experience</th>\n",
              "      <th>required_education</th>\n",
              "      <th>industry</th>\n",
              "      <th>function</th>\n",
              "      <th>fraudulent</th>\n",
              "    </tr>\n",
              "  </thead>\n",
              "  <tbody>\n",
              "    <tr>\n",
              "      <th>0</th>\n",
              "      <td>1</td>\n",
              "      <td>Marketing Intern</td>\n",
              "      <td>US, NY, New York</td>\n",
              "      <td>Marketing</td>\n",
              "      <td>NaN</td>\n",
              "      <td>We're Food52, and we've created a groundbreaki...</td>\n",
              "      <td>Food52, a fast-growing, James Beard Award-winn...</td>\n",
              "      <td>Experience with content management systems a m...</td>\n",
              "      <td>NaN</td>\n",
              "      <td>0</td>\n",
              "      <td>1</td>\n",
              "      <td>0</td>\n",
              "      <td>Other</td>\n",
              "      <td>Internship</td>\n",
              "      <td>NaN</td>\n",
              "      <td>NaN</td>\n",
              "      <td>Marketing</td>\n",
              "      <td>0</td>\n",
              "    </tr>\n",
              "    <tr>\n",
              "      <th>1</th>\n",
              "      <td>2</td>\n",
              "      <td>Customer Service - Cloud Video Production</td>\n",
              "      <td>NZ, , Auckland</td>\n",
              "      <td>Success</td>\n",
              "      <td>NaN</td>\n",
              "      <td>90 Seconds, the worlds Cloud Video Production ...</td>\n",
              "      <td>Organised - Focused - Vibrant - Awesome!Do you...</td>\n",
              "      <td>What we expect from you:Your key responsibilit...</td>\n",
              "      <td>What you will get from usThrough being part of...</td>\n",
              "      <td>0</td>\n",
              "      <td>1</td>\n",
              "      <td>0</td>\n",
              "      <td>Full-time</td>\n",
              "      <td>Not Applicable</td>\n",
              "      <td>NaN</td>\n",
              "      <td>Marketing and Advertising</td>\n",
              "      <td>Customer Service</td>\n",
              "      <td>0</td>\n",
              "    </tr>\n",
              "    <tr>\n",
              "      <th>2</th>\n",
              "      <td>3</td>\n",
              "      <td>Commissioning Machinery Assistant (CMA)</td>\n",
              "      <td>US, IA, Wever</td>\n",
              "      <td>NaN</td>\n",
              "      <td>NaN</td>\n",
              "      <td>Valor Services provides Workforce Solutions th...</td>\n",
              "      <td>Our client, located in Houston, is actively se...</td>\n",
              "      <td>Implement pre-commissioning and commissioning ...</td>\n",
              "      <td>NaN</td>\n",
              "      <td>0</td>\n",
              "      <td>1</td>\n",
              "      <td>0</td>\n",
              "      <td>NaN</td>\n",
              "      <td>NaN</td>\n",
              "      <td>NaN</td>\n",
              "      <td>NaN</td>\n",
              "      <td>NaN</td>\n",
              "      <td>0</td>\n",
              "    </tr>\n",
              "    <tr>\n",
              "      <th>3</th>\n",
              "      <td>4</td>\n",
              "      <td>Account Executive - Washington DC</td>\n",
              "      <td>US, DC, Washington</td>\n",
              "      <td>Sales</td>\n",
              "      <td>NaN</td>\n",
              "      <td>Our passion for improving quality of life thro...</td>\n",
              "      <td>THE COMPANY: ESRI – Environmental Systems Rese...</td>\n",
              "      <td>EDUCATION: Bachelor’s or Master’s in GIS, busi...</td>\n",
              "      <td>Our culture is anything but corporate—we have ...</td>\n",
              "      <td>0</td>\n",
              "      <td>1</td>\n",
              "      <td>0</td>\n",
              "      <td>Full-time</td>\n",
              "      <td>Mid-Senior level</td>\n",
              "      <td>Bachelor's Degree</td>\n",
              "      <td>Computer Software</td>\n",
              "      <td>Sales</td>\n",
              "      <td>0</td>\n",
              "    </tr>\n",
              "    <tr>\n",
              "      <th>4</th>\n",
              "      <td>5</td>\n",
              "      <td>Bill Review Manager</td>\n",
              "      <td>US, FL, Fort Worth</td>\n",
              "      <td>NaN</td>\n",
              "      <td>NaN</td>\n",
              "      <td>SpotSource Solutions LLC is a Global Human Cap...</td>\n",
              "      <td>JOB TITLE: Itemization Review ManagerLOCATION:...</td>\n",
              "      <td>QUALIFICATIONS:RN license in the State of Texa...</td>\n",
              "      <td>Full Benefits Offered</td>\n",
              "      <td>0</td>\n",
              "      <td>1</td>\n",
              "      <td>1</td>\n",
              "      <td>Full-time</td>\n",
              "      <td>Mid-Senior level</td>\n",
              "      <td>Bachelor's Degree</td>\n",
              "      <td>Hospital &amp; Health Care</td>\n",
              "      <td>Health Care Provider</td>\n",
              "      <td>0</td>\n",
              "    </tr>\n",
              "  </tbody>\n",
              "</table>\n",
              "</div>\n",
              "    <div class=\"colab-df-buttons\">\n",
              "\n",
              "  <div class=\"colab-df-container\">\n",
              "    <button class=\"colab-df-convert\" onclick=\"convertToInteractive('df-18a7d09b-fcf6-4535-9f52-0da7e104d05d')\"\n",
              "            title=\"Convert this dataframe to an interactive table.\"\n",
              "            style=\"display:none;\">\n",
              "\n",
              "  <svg xmlns=\"http://www.w3.org/2000/svg\" height=\"24px\" viewBox=\"0 -960 960 960\">\n",
              "    <path d=\"M120-120v-720h720v720H120Zm60-500h600v-160H180v160Zm220 220h160v-160H400v160Zm0 220h160v-160H400v160ZM180-400h160v-160H180v160Zm440 0h160v-160H620v160ZM180-180h160v-160H180v160Zm440 0h160v-160H620v160Z\"/>\n",
              "  </svg>\n",
              "    </button>\n",
              "\n",
              "  <style>\n",
              "    .colab-df-container {\n",
              "      display:flex;\n",
              "      gap: 12px;\n",
              "    }\n",
              "\n",
              "    .colab-df-convert {\n",
              "      background-color: #E8F0FE;\n",
              "      border: none;\n",
              "      border-radius: 50%;\n",
              "      cursor: pointer;\n",
              "      display: none;\n",
              "      fill: #1967D2;\n",
              "      height: 32px;\n",
              "      padding: 0 0 0 0;\n",
              "      width: 32px;\n",
              "    }\n",
              "\n",
              "    .colab-df-convert:hover {\n",
              "      background-color: #E2EBFA;\n",
              "      box-shadow: 0px 1px 2px rgba(60, 64, 67, 0.3), 0px 1px 3px 1px rgba(60, 64, 67, 0.15);\n",
              "      fill: #174EA6;\n",
              "    }\n",
              "\n",
              "    .colab-df-buttons div {\n",
              "      margin-bottom: 4px;\n",
              "    }\n",
              "\n",
              "    [theme=dark] .colab-df-convert {\n",
              "      background-color: #3B4455;\n",
              "      fill: #D2E3FC;\n",
              "    }\n",
              "\n",
              "    [theme=dark] .colab-df-convert:hover {\n",
              "      background-color: #434B5C;\n",
              "      box-shadow: 0px 1px 3px 1px rgba(0, 0, 0, 0.15);\n",
              "      filter: drop-shadow(0px 1px 2px rgba(0, 0, 0, 0.3));\n",
              "      fill: #FFFFFF;\n",
              "    }\n",
              "  </style>\n",
              "\n",
              "    <script>\n",
              "      const buttonEl =\n",
              "        document.querySelector('#df-18a7d09b-fcf6-4535-9f52-0da7e104d05d button.colab-df-convert');\n",
              "      buttonEl.style.display =\n",
              "        google.colab.kernel.accessAllowed ? 'block' : 'none';\n",
              "\n",
              "      async function convertToInteractive(key) {\n",
              "        const element = document.querySelector('#df-18a7d09b-fcf6-4535-9f52-0da7e104d05d');\n",
              "        const dataTable =\n",
              "          await google.colab.kernel.invokeFunction('convertToInteractive',\n",
              "                                                    [key], {});\n",
              "        if (!dataTable) return;\n",
              "\n",
              "        const docLinkHtml = 'Like what you see? Visit the ' +\n",
              "          '<a target=\"_blank\" href=https://colab.research.google.com/notebooks/data_table.ipynb>data table notebook</a>'\n",
              "          + ' to learn more about interactive tables.';\n",
              "        element.innerHTML = '';\n",
              "        dataTable['output_type'] = 'display_data';\n",
              "        await google.colab.output.renderOutput(dataTable, element);\n",
              "        const docLink = document.createElement('div');\n",
              "        docLink.innerHTML = docLinkHtml;\n",
              "        element.appendChild(docLink);\n",
              "      }\n",
              "    </script>\n",
              "  </div>\n",
              "\n",
              "\n",
              "<div id=\"df-4b7980ef-5808-4d05-83a2-b15ed8e9262d\">\n",
              "  <button class=\"colab-df-quickchart\" onclick=\"quickchart('df-4b7980ef-5808-4d05-83a2-b15ed8e9262d')\"\n",
              "            title=\"Suggest charts\"\n",
              "            style=\"display:none;\">\n",
              "\n",
              "<svg xmlns=\"http://www.w3.org/2000/svg\" height=\"24px\"viewBox=\"0 0 24 24\"\n",
              "     width=\"24px\">\n",
              "    <g>\n",
              "        <path d=\"M19 3H5c-1.1 0-2 .9-2 2v14c0 1.1.9 2 2 2h14c1.1 0 2-.9 2-2V5c0-1.1-.9-2-2-2zM9 17H7v-7h2v7zm4 0h-2V7h2v10zm4 0h-2v-4h2v4z\"/>\n",
              "    </g>\n",
              "</svg>\n",
              "  </button>\n",
              "\n",
              "<style>\n",
              "  .colab-df-quickchart {\n",
              "      --bg-color: #E8F0FE;\n",
              "      --fill-color: #1967D2;\n",
              "      --hover-bg-color: #E2EBFA;\n",
              "      --hover-fill-color: #174EA6;\n",
              "      --disabled-fill-color: #AAA;\n",
              "      --disabled-bg-color: #DDD;\n",
              "  }\n",
              "\n",
              "  [theme=dark] .colab-df-quickchart {\n",
              "      --bg-color: #3B4455;\n",
              "      --fill-color: #D2E3FC;\n",
              "      --hover-bg-color: #434B5C;\n",
              "      --hover-fill-color: #FFFFFF;\n",
              "      --disabled-bg-color: #3B4455;\n",
              "      --disabled-fill-color: #666;\n",
              "  }\n",
              "\n",
              "  .colab-df-quickchart {\n",
              "    background-color: var(--bg-color);\n",
              "    border: none;\n",
              "    border-radius: 50%;\n",
              "    cursor: pointer;\n",
              "    display: none;\n",
              "    fill: var(--fill-color);\n",
              "    height: 32px;\n",
              "    padding: 0;\n",
              "    width: 32px;\n",
              "  }\n",
              "\n",
              "  .colab-df-quickchart:hover {\n",
              "    background-color: var(--hover-bg-color);\n",
              "    box-shadow: 0 1px 2px rgba(60, 64, 67, 0.3), 0 1px 3px 1px rgba(60, 64, 67, 0.15);\n",
              "    fill: var(--button-hover-fill-color);\n",
              "  }\n",
              "\n",
              "  .colab-df-quickchart-complete:disabled,\n",
              "  .colab-df-quickchart-complete:disabled:hover {\n",
              "    background-color: var(--disabled-bg-color);\n",
              "    fill: var(--disabled-fill-color);\n",
              "    box-shadow: none;\n",
              "  }\n",
              "\n",
              "  .colab-df-spinner {\n",
              "    border: 2px solid var(--fill-color);\n",
              "    border-color: transparent;\n",
              "    border-bottom-color: var(--fill-color);\n",
              "    animation:\n",
              "      spin 1s steps(1) infinite;\n",
              "  }\n",
              "\n",
              "  @keyframes spin {\n",
              "    0% {\n",
              "      border-color: transparent;\n",
              "      border-bottom-color: var(--fill-color);\n",
              "      border-left-color: var(--fill-color);\n",
              "    }\n",
              "    20% {\n",
              "      border-color: transparent;\n",
              "      border-left-color: var(--fill-color);\n",
              "      border-top-color: var(--fill-color);\n",
              "    }\n",
              "    30% {\n",
              "      border-color: transparent;\n",
              "      border-left-color: var(--fill-color);\n",
              "      border-top-color: var(--fill-color);\n",
              "      border-right-color: var(--fill-color);\n",
              "    }\n",
              "    40% {\n",
              "      border-color: transparent;\n",
              "      border-right-color: var(--fill-color);\n",
              "      border-top-color: var(--fill-color);\n",
              "    }\n",
              "    60% {\n",
              "      border-color: transparent;\n",
              "      border-right-color: var(--fill-color);\n",
              "    }\n",
              "    80% {\n",
              "      border-color: transparent;\n",
              "      border-right-color: var(--fill-color);\n",
              "      border-bottom-color: var(--fill-color);\n",
              "    }\n",
              "    90% {\n",
              "      border-color: transparent;\n",
              "      border-bottom-color: var(--fill-color);\n",
              "    }\n",
              "  }\n",
              "</style>\n",
              "\n",
              "  <script>\n",
              "    async function quickchart(key) {\n",
              "      const quickchartButtonEl =\n",
              "        document.querySelector('#' + key + ' button');\n",
              "      quickchartButtonEl.disabled = true;  // To prevent multiple clicks.\n",
              "      quickchartButtonEl.classList.add('colab-df-spinner');\n",
              "      try {\n",
              "        const charts = await google.colab.kernel.invokeFunction(\n",
              "            'suggestCharts', [key], {});\n",
              "      } catch (error) {\n",
              "        console.error('Error during call to suggestCharts:', error);\n",
              "      }\n",
              "      quickchartButtonEl.classList.remove('colab-df-spinner');\n",
              "      quickchartButtonEl.classList.add('colab-df-quickchart-complete');\n",
              "    }\n",
              "    (() => {\n",
              "      let quickchartButtonEl =\n",
              "        document.querySelector('#df-4b7980ef-5808-4d05-83a2-b15ed8e9262d button');\n",
              "      quickchartButtonEl.style.display =\n",
              "        google.colab.kernel.accessAllowed ? 'block' : 'none';\n",
              "    })();\n",
              "  </script>\n",
              "</div>\n",
              "\n",
              "    </div>\n",
              "  </div>\n"
            ],
            "application/vnd.google.colaboratory.intrinsic+json": {
              "type": "dataframe",
              "repr_error": "Out of range float values are not JSON compliant: nan"
            }
          },
          "metadata": {},
          "execution_count": 4
        }
      ],
      "source": [
        "import pandas as pd\n",
        "import numpy as np\n",
        "import matplotlib.pyplot as plt\n",
        "import seaborn as sns\n",
        "df=pd.read_csv('/content/fake_job_postings.csv',on_bad_lines='skip')\n",
        "df.head()\n"
      ]
    },
    {
      "cell_type": "code",
      "source": [
        "#Look at the balance of data\n",
        "df['fraudulent'].value_counts(normalize=True)*100\n",
        "#"
      ],
      "metadata": {
        "colab": {
          "base_uri": "https://localhost:8080/",
          "height": 178
        },
        "id": "q_Z6j1_LjfNM",
        "outputId": "e709d5e6-dbc6-4ec6-e1ff-3e7552511fd1"
      },
      "execution_count": null,
      "outputs": [
        {
          "output_type": "execute_result",
          "data": {
            "text/plain": [
              "fraudulent\n",
              "0    95.1566\n",
              "1     4.8434\n",
              "Name: proportion, dtype: float64"
            ],
            "text/html": [
              "<div>\n",
              "<style scoped>\n",
              "    .dataframe tbody tr th:only-of-type {\n",
              "        vertical-align: middle;\n",
              "    }\n",
              "\n",
              "    .dataframe tbody tr th {\n",
              "        vertical-align: top;\n",
              "    }\n",
              "\n",
              "    .dataframe thead th {\n",
              "        text-align: right;\n",
              "    }\n",
              "</style>\n",
              "<table border=\"1\" class=\"dataframe\">\n",
              "  <thead>\n",
              "    <tr style=\"text-align: right;\">\n",
              "      <th></th>\n",
              "      <th>proportion</th>\n",
              "    </tr>\n",
              "    <tr>\n",
              "      <th>fraudulent</th>\n",
              "      <th></th>\n",
              "    </tr>\n",
              "  </thead>\n",
              "  <tbody>\n",
              "    <tr>\n",
              "      <th>0</th>\n",
              "      <td>95.1566</td>\n",
              "    </tr>\n",
              "    <tr>\n",
              "      <th>1</th>\n",
              "      <td>4.8434</td>\n",
              "    </tr>\n",
              "  </tbody>\n",
              "</table>\n",
              "</div><br><label><b>dtype:</b> float64</label>"
            ]
          },
          "metadata": {},
          "execution_count": 5
        }
      ]
    },
    {
      "cell_type": "code",
      "source": [
        "#balance our data\n"
      ],
      "metadata": {
        "id": "mFMKb0AGRj6j"
      },
      "execution_count": null,
      "outputs": []
    },
    {
      "cell_type": "code",
      "source": [
        "import pandas as pd\n",
        "import numpy as np\n",
        "import matplotlib.pyplot as plt\n",
        "import seaborn as sns\n",
        "df=pd.read_csv('/content/fake_job_postings.csv',on_bad_lines='skip')\n",
        "df.head()\n",
        "\n",
        "\n",
        "#Look at the balance of data\n",
        "fraud_distribution = df['fraudulent'].value_counts(normalize=True)*100 # Calculate fraud distribution here\n",
        "\n",
        "# Define background color\n",
        "background_color = (246/255, 246/255, 246/255)\n",
        "\n",
        "# Create the figure with background color\n",
        "fig, ax = plt.subplots(figsize=(8, 5), facecolor=background_color)\n",
        "ax.set_facecolor(background_color)\n",
        "\n",
        "# Create the bar chart with improved styling\n",
        "bars = ax.bar(\n",
        "    fraud_distribution.index,\n",
        "    fraud_distribution.values,\n",
        "    color=[\"lightblue\", \"grey\"],  # Define colors for real and fraud jobs\n",
        "    edgecolor=\"black\",  # Black edges for better visibility\n",
        "    tick_label=[\"Real Jobs\", \"Fraud Jobs\"]\n",
        ")\n",
        "\n",
        "# Add percentage labels on top of the bars\n",
        "for bar in bars:\n",
        "    ax.text(bar.get_x() + bar.get_width()/2, bar.get_height() + 1, f\"{bar.get_height():.1f}%\",\n",
        "             ha='center', fontsize=10, fontweight='bold', color=\"black\")\n",
        "\n",
        "# Labels and title\n",
        "ax.set_ylabel(\"Percentage (%)\")\n",
        "ax.set_title(\"Distribution of Real vs. Fraudulent Job Postings\", fontsize=12)\n",
        "ax.set_ylim(0, 100)  # Set y-axis to 100% scale\n",
        "ax.grid(False)  # Remove grid for a cleaner look\n",
        "\n",
        "\n",
        "# Show the plot\n",
        "plt.show()\n"
      ],
      "metadata": {
        "colab": {
          "base_uri": "https://localhost:8080/",
          "height": 468
        },
        "id": "q7PCz4JUkPgC",
        "outputId": "f1a308e9-e1c0-40b2-b7ab-72c9f24b5e36"
      },
      "execution_count": null,
      "outputs": [
        {
          "output_type": "display_data",
          "data": {
            "text/plain": [
              "<Figure size 800x500 with 1 Axes>"
            ],
            "image/png": "[encoded data removed]"
          },
          "metadata": {}
        }
      ]
    },
    {
      "cell_type": "code",
      "source": [
        "import seaborn as sns\n",
        "\n",
        "# Split the dataset into fake and real job postings\n",
        "fake_jobs = df[df['fraudulent'] == 1]\n",
        "real_jobs = df[df['fraudulent'] == 0]\n",
        "\n",
        "# Determine the number of samples to keep for each category\n",
        "min_count = min(len(fake_jobs), len(real_jobs))\n",
        "\n",
        "# Randomly sample the same number of fake and real job postings\n",
        "fake_jobs_sampled = fake_jobs.sample(n=min_count, random_state=42)\n",
        "real_jobs_sampled = real_jobs.sample(n=min_count, random_state=42)\n",
        "\n",
        "# Concatenate the sampled data back into a single DataFrame\n",
        "balanced_df = pd.concat([fake_jobs_sampled, real_jobs_sampled], axis=0)\n",
        "\n",
        "# Calculate fraud distribution after balancing\n",
        "fraud_distribution = balanced_df['fraudulent'].value_counts(normalize=True) * 100\n",
        "\n",
        "# Define background color\n",
        "background_color = (246/255, 246/255, 246/255)\n",
        "\n",
        "# Create the figure with background color\n",
        "fig, ax = plt.subplots(figsize=(8, 5), facecolor=background_color)\n",
        "ax.set_facecolor(background_color)\n",
        "\n",
        "# Create the bar chart with improved styling\n",
        "bars = ax.bar(\n",
        "    fraud_distribution.index.astype(str),\n",
        "    fraud_distribution.values,\n",
        "    color=[\"lightblue\", \"grey\"],  # Define colors for real and fraud jobs\n",
        "    edgecolor=\"black\",  # Black edges for better visibility\n",
        "    tick_label=[\"Real Jobs\", \"Fraud Jobs\"]\n",
        ")\n",
        "\n",
        "# Add percentage labels on top of the bars\n",
        "for bar in bars:\n",
        "    ax.text(bar.get_x() + bar.get_width()/2, bar.get_height() + 1, f\"{bar.get_height():.1f}%\",\n",
        "            ha='center', fontsize=10, fontweight='bold', color=\"black\")\n",
        "\n",
        "# Labels and title\n",
        "ax.set_ylabel(\"Percentage (%)\")\n",
        "ax.set_title(\"Balanced Distribution of Real vs. Fraudulent Job Postings\", fontsize=12)\n",
        "ax.set_ylim(0, 100)  # Set y-axis to 100% scale\n",
        "ax.grid(False)  # Remove grid for a cleaner look\n",
        "\n",
        "# Show the plot\n",
        "plt.show()\n"
      ],
      "metadata": {
        "id": "8llNU3piHkj6",
        "colab": {
          "base_uri": "https://localhost:8080/",
          "height": 468
        },
        "outputId": "19ca7aae-3d08-4459-e296-ed38f9dbd3a9"
      },
      "execution_count": null,
      "outputs": [
        {
          "output_type": "display_data",
          "data": {
            "text/plain": [
              "<Figure size 800x500 with 1 Axes>"
            ],
            "image/png": "[encoded data removed]"
          },
          "metadata": {}
        }
      ]
    },
    {
      "cell_type": "code",
      "source": [],
      "metadata": {
        "id": "npJ3svkkTPyQ"
      },
      "execution_count": null,
      "outputs": []
    },
    {
      "cell_type": "markdown",
      "source": [],
      "metadata": {
        "id": "G2ETkGBrG_1g"
      }
    },
    {
      "cell_type": "code",
      "source": [
        "df.columns"
      ],
      "metadata": {
        "colab": {
          "base_uri": "https://localhost:8080/"
        },
        "id": "SnTN1xiuG1uh",
        "outputId": "47692481-5efe-43f3-a806-cda08780ef6e"
      },
      "execution_count": null,
      "outputs": [
        {
          "output_type": "execute_result",
          "data": {
            "text/plain": [
              "Index(['job_id', 'title', 'location', 'department', 'salary_range',\n",
              "       'company_profile', 'description', 'requirements', 'benefits',\n",
              "       'telecommuting', 'has_company_logo', 'has_questions', 'employment_type',\n",
              "       'required_experience', 'required_education', 'industry', 'function',\n",
              "       'fraudulent'],\n",
              "      dtype='object')"
            ]
          },
          "metadata": {},
          "execution_count": 5
        }
      ]
    },
    {
      "cell_type": "code",
      "source": [
        "import pandas as pd\n",
        "\n",
        "# 1. Remove duplicates\n",
        "df.drop_duplicates(inplace=True)\n",
        "\n",
        "# ... (rest of your code)\n",
        "df.drop_duplicates(inplace=True)\n",
        "\n",
        "# 2. Handle missing values\n",
        "categorical_columns = [\"department\", \"employment_type\", \"required_experience\", \"required_education\", \"industry\", \"function\"]\n",
        "text_columns = [\"company_profile\", \"description\", \"requirements\", \"benefits\"]\n",
        "df['required_experience'].fillna('Experience Unavailable', inplace=True)\n",
        "\n",
        "df[categorical_columns] = df[categorical_columns].fillna(\"Unspecified\")\n",
        "df[text_columns] = df[text_columns].fillna(\"\")\n",
        "# Check if 'salary_range' column exists before filling missing values\n",
        "if 'salary_range' in df.columns:\n",
        "    df[\"salary_range\"] = df[\"salary_range\"].fillna(\"0-0\")  # Default salary range if missing\n",
        "else:\n",
        "    print(\"Warning: 'salary_range' column not found. Skipping imputation.\")\n",
        "\n",
        "\n",
        "\n",
        "# 5. Convert binary columns to readable format\n",
        "df[\"telecommuting\"] = df[\"telecommuting\"].map({1: \"Yes\", 0: \"No\"})\n",
        "df[\"has_company_logo\"] = df[\"has_company_logo\"].map({1: \"Yes\", 0: \"No\"})\n",
        "df[\"has_questions\"] = df[\"has_questions\"].map({1: \"Yes\", 0: \"No\"})\n",
        "df[\"fraudulent\"] = df[\"fraudulent\"].map({1: \"Fraudulent\", 0: \"Real\"})\n",
        "\n",
        "# 6. Drop unnecessary columns\n",
        "# Check if 'salary_range' column exists before dropping\n",
        "if 'salary_range' in df.columns:\n",
        "    df.drop(columns=[\"salary_range\"], inplace=True)\n",
        "else:\n",
        "    print(\"Warning: 'salary_range' column not found. Skipping drop.\")\n",
        "\n",
        "#7 job description\n",
        "\n",
        "df['job_desc_length'] = df['description'].str.len()\n",
        "\n",
        "\n",
        "\n",
        "# Display first few rows\n",
        "df.head(10)"
      ],
      "metadata": {
        "colab": {
          "base_uri": "https://localhost:8080/",
          "height": 963
        },
        "id": "CXoZBpyFG375",
        "outputId": "f0116494-cb8c-490b-be0d-938e8e851b4d"
      },
      "execution_count": null,
      "outputs": [
        {
          "output_type": "stream",
          "name": "stderr",
          "text": [
            "<ipython-input-8-6fcb1595c787>:12: FutureWarning: A value is trying to be set on a copy of a DataFrame or Series through chained assignment using an inplace method.\n",
            "The behavior will change in pandas 3.0. This inplace method will never work because the intermediate object on which we are setting values always behaves as a copy.\n",
            "\n",
            "For example, when doing 'df[col].method(value, inplace=True)', try using 'df.method({col: value}, inplace=True)' or df[col] = df[col].method(value) instead, to perform the operation inplace on the original object.\n",
            "\n",
            "\n",
            "  df['required_experience'].fillna('Experience Unavailable', inplace=True)\n"
          ]
        },
        {
          "output_type": "execute_result",
          "data": {
            "text/plain": [
              "   job_id                                      title               location  \\\n",
              "0       1                           Marketing Intern       US, NY, New York   \n",
              "1       2  Customer Service - Cloud Video Production         NZ, , Auckland   \n",
              "2       3    Commissioning Machinery Assistant (CMA)          US, IA, Wever   \n",
              "3       4          Account Executive - Washington DC     US, DC, Washington   \n",
              "4       5                        Bill Review Manager     US, FL, Fort Worth   \n",
              "5       6                           Accounting Clerk               US, MD,    \n",
              "6       7                      Head of Content (m/f)         DE, BE, Berlin   \n",
              "7       8           Lead Guest Service Specialist     US, CA, San Francisco   \n",
              "8       9                                 HP BSM SME      US, FL, Pensacola   \n",
              "9      10    Customer Service Associate - Part Time         US, AZ, Phoenix   \n",
              "\n",
              "    department                                    company_profile  \\\n",
              "0    Marketing  We're Food52, and we've created a groundbreaki...   \n",
              "1      Success  90 Seconds, the worlds Cloud Video Production ...   \n",
              "2  Unspecified  Valor Services provides Workforce Solutions th...   \n",
              "3        Sales  Our passion for improving quality of life thro...   \n",
              "4  Unspecified  SpotSource Solutions LLC is a Global Human Cap...   \n",
              "5  Unspecified                                                      \n",
              "6   ANDROIDPIT  Founded in 2009, the Fonpit AG rose with its i...   \n",
              "7  Unspecified  Airenvy’s mission is to provide lucrative yet ...   \n",
              "8  Unspecified  Solutions3 is a woman-owned small business who...   \n",
              "9  Unspecified  Novitex Enterprise Solutions, formerly Pitney ...   \n",
              "\n",
              "                                         description  \\\n",
              "0  Food52, a fast-growing, James Beard Award-winn...   \n",
              "1  Organised - Focused - Vibrant - Awesome!Do you...   \n",
              "2  Our client, located in Houston, is actively se...   \n",
              "3  THE COMPANY: ESRI – Environmental Systems Rese...   \n",
              "4  JOB TITLE: Itemization Review ManagerLOCATION:...   \n",
              "5  Job OverviewApex is an environmental consultin...   \n",
              "6  Your Responsibilities: Manage the English-spea...   \n",
              "7  Who is Airenvy?Hey there! We are seasoned entr...   \n",
              "8  Implementation/Configuration/Testing/Training ...   \n",
              "9  The Customer Service Associate will be based i...   \n",
              "\n",
              "                                        requirements  \\\n",
              "0  Experience with content management systems a m...   \n",
              "1  What we expect from you:Your key responsibilit...   \n",
              "2  Implement pre-commissioning and commissioning ...   \n",
              "3  EDUCATION: Bachelor’s or Master’s in GIS, busi...   \n",
              "4  QUALIFICATIONS:RN license in the State of Texa...   \n",
              "5                                                      \n",
              "6  Your Know-How:                                ...   \n",
              "7  Experience with CRM software, live chat, and p...   \n",
              "8  MUST BE A US CITIZEN.An active TS/SCI clearanc...   \n",
              "9  Minimum Requirements:Minimum of 6 months custo...   \n",
              "\n",
              "                                            benefits telecommuting  \\\n",
              "0                                                              NaN   \n",
              "1  What you will get from usThrough being part of...           NaN   \n",
              "2                                                              NaN   \n",
              "3  Our culture is anything but corporate—we have ...           NaN   \n",
              "4                              Full Benefits Offered           NaN   \n",
              "5                                                              NaN   \n",
              "6  Your Benefits: Being part of a fast-growing co...           NaN   \n",
              "7  Competitive Pay. You'll be able to eat steak e...           NaN   \n",
              "8                                                              NaN   \n",
              "9                                                              NaN   \n",
              "\n",
              "  has_company_logo has_questions employment_type     required_experience  \\\n",
              "0              NaN           NaN           Other              Internship   \n",
              "1              NaN           NaN       Full-time          Not Applicable   \n",
              "2              NaN           NaN     Unspecified  Experience Unavailable   \n",
              "3              NaN           NaN       Full-time        Mid-Senior level   \n",
              "4              NaN           NaN       Full-time        Mid-Senior level   \n",
              "5              NaN           NaN     Unspecified  Experience Unavailable   \n",
              "6              NaN           NaN       Full-time        Mid-Senior level   \n",
              "7              NaN           NaN     Unspecified  Experience Unavailable   \n",
              "8              NaN           NaN       Full-time               Associate   \n",
              "9              NaN           NaN       Part-time             Entry level   \n",
              "\n",
              "          required_education                             industry  \\\n",
              "0                Unspecified                          Unspecified   \n",
              "1                Unspecified            Marketing and Advertising   \n",
              "2                Unspecified                          Unspecified   \n",
              "3          Bachelor's Degree                    Computer Software   \n",
              "4          Bachelor's Degree               Hospital & Health Care   \n",
              "5                Unspecified                          Unspecified   \n",
              "6            Master's Degree                         Online Media   \n",
              "7                Unspecified                          Unspecified   \n",
              "8                Unspecified  Information Technology and Services   \n",
              "9  High School or equivalent                   Financial Services   \n",
              "\n",
              "               function fraudulent  job_desc_length  \n",
              "0             Marketing       Real              905  \n",
              "1      Customer Service       Real             2077  \n",
              "2           Unspecified       Real              355  \n",
              "3                 Sales       Real             2600  \n",
              "4  Health Care Provider       Real             1520  \n",
              "5           Unspecified       Real             3418  \n",
              "6            Management       Real              433  \n",
              "7           Unspecified       Real             2488  \n",
              "8           Unspecified       Real               75  \n",
              "9      Customer Service       Real             1219  "
            ],
            "text/html": [
              "\n",
              "  <div id=\"df-305ef891-8e7c-42d9-9da1-23c7334dd540\" class=\"colab-df-container\">\n",
              "    <div>\n",
              "<style scoped>\n",
              "    .dataframe tbody tr th:only-of-type {\n",
              "        vertical-align: middle;\n",
              "    }\n",
              "\n",
              "    .dataframe tbody tr th {\n",
              "        vertical-align: top;\n",
              "    }\n",
              "\n",
              "    .dataframe thead th {\n",
              "        text-align: right;\n",
              "    }\n",
              "</style>\n",
              "<table border=\"1\" class=\"dataframe\">\n",
              "  <thead>\n",
              "    <tr style=\"text-align: right;\">\n",
              "      <th></th>\n",
              "      <th>job_id</th>\n",
              "      <th>title</th>\n",
              "      <th>location</th>\n",
              "      <th>department</th>\n",
              "      <th>company_profile</th>\n",
              "      <th>description</th>\n",
              "      <th>requirements</th>\n",
              "      <th>benefits</th>\n",
              "      <th>telecommuting</th>\n",
              "      <th>has_company_logo</th>\n",
              "      <th>has_questions</th>\n",
              "      <th>employment_type</th>\n",
              "      <th>required_experience</th>\n",
              "      <th>required_education</th>\n",
              "      <th>industry</th>\n",
              "      <th>function</th>\n",
              "      <th>fraudulent</th>\n",
              "      <th>job_desc_length</th>\n",
              "    </tr>\n",
              "  </thead>\n",
              "  <tbody>\n",
              "    <tr>\n",
              "      <th>0</th>\n",
              "      <td>1</td>\n",
              "      <td>Marketing Intern</td>\n",
              "      <td>US, NY, New York</td>\n",
              "      <td>Marketing</td>\n",
              "      <td>We're Food52, and we've created a groundbreaki...</td>\n",
              "      <td>Food52, a fast-growing, James Beard Award-winn...</td>\n",
              "      <td>Experience with content management systems a m...</td>\n",
              "      <td></td>\n",
              "      <td>NaN</td>\n",
              "      <td>NaN</td>\n",
              "      <td>NaN</td>\n",
              "      <td>Other</td>\n",
              "      <td>Internship</td>\n",
              "      <td>Unspecified</td>\n",
              "      <td>Unspecified</td>\n",
              "      <td>Marketing</td>\n",
              "      <td>Real</td>\n",
              "      <td>905</td>\n",
              "    </tr>\n",
              "    <tr>\n",
              "      <th>1</th>\n",
              "      <td>2</td>\n",
              "      <td>Customer Service - Cloud Video Production</td>\n",
              "      <td>NZ, , Auckland</td>\n",
              "      <td>Success</td>\n",
              "      <td>90 Seconds, the worlds Cloud Video Production ...</td>\n",
              "      <td>Organised - Focused - Vibrant - Awesome!Do you...</td>\n",
              "      <td>What we expect from you:Your key responsibilit...</td>\n",
              "      <td>What you will get from usThrough being part of...</td>\n",
              "      <td>NaN</td>\n",
              "      <td>NaN</td>\n",
              "      <td>NaN</td>\n",
              "      <td>Full-time</td>\n",
              "      <td>Not Applicable</td>\n",
              "      <td>Unspecified</td>\n",
              "      <td>Marketing and Advertising</td>\n",
              "      <td>Customer Service</td>\n",
              "      <td>Real</td>\n",
              "      <td>2077</td>\n",
              "    </tr>\n",
              "    <tr>\n",
              "      <th>2</th>\n",
              "      <td>3</td>\n",
              "      <td>Commissioning Machinery Assistant (CMA)</td>\n",
              "      <td>US, IA, Wever</td>\n",
              "      <td>Unspecified</td>\n",
              "      <td>Valor Services provides Workforce Solutions th...</td>\n",
              "      <td>Our client, located in Houston, is actively se...</td>\n",
              "      <td>Implement pre-commissioning and commissioning ...</td>\n",
              "      <td></td>\n",
              "      <td>NaN</td>\n",
              "      <td>NaN</td>\n",
              "      <td>NaN</td>\n",
              "      <td>Unspecified</td>\n",
              "      <td>Experience Unavailable</td>\n",
              "      <td>Unspecified</td>\n",
              "      <td>Unspecified</td>\n",
              "      <td>Unspecified</td>\n",
              "      <td>Real</td>\n",
              "      <td>355</td>\n",
              "    </tr>\n",
              "    <tr>\n",
              "      <th>3</th>\n",
              "      <td>4</td>\n",
              "      <td>Account Executive - Washington DC</td>\n",
              "      <td>US, DC, Washington</td>\n",
              "      <td>Sales</td>\n",
              "      <td>Our passion for improving quality of life thro...</td>\n",
              "      <td>THE COMPANY: ESRI – Environmental Systems Rese...</td>\n",
              "      <td>EDUCATION: Bachelor’s or Master’s in GIS, busi...</td>\n",
              "      <td>Our culture is anything but corporate—we have ...</td>\n",
              "      <td>NaN</td>\n",
              "      <td>NaN</td>\n",
              "      <td>NaN</td>\n",
              "      <td>Full-time</td>\n",
              "      <td>Mid-Senior level</td>\n",
              "      <td>Bachelor's Degree</td>\n",
              "      <td>Computer Software</td>\n",
              "      <td>Sales</td>\n",
              "      <td>Real</td>\n",
              "      <td>2600</td>\n",
              "    </tr>\n",
              "    <tr>\n",
              "      <th>4</th>\n",
              "      <td>5</td>\n",
              "      <td>Bill Review Manager</td>\n",
              "      <td>US, FL, Fort Worth</td>\n",
              "      <td>Unspecified</td>\n",
              "      <td>SpotSource Solutions LLC is a Global Human Cap...</td>\n",
              "      <td>JOB TITLE: Itemization Review ManagerLOCATION:...</td>\n",
              "      <td>QUALIFICATIONS:RN license in the State of Texa...</td>\n",
              "      <td>Full Benefits Offered</td>\n",
              "      <td>NaN</td>\n",
              "      <td>NaN</td>\n",
              "      <td>NaN</td>\n",
              "      <td>Full-time</td>\n",
              "      <td>Mid-Senior level</td>\n",
              "      <td>Bachelor's Degree</td>\n",
              "      <td>Hospital &amp; Health Care</td>\n",
              "      <td>Health Care Provider</td>\n",
              "      <td>Real</td>\n",
              "      <td>1520</td>\n",
              "    </tr>\n",
              "    <tr>\n",
              "      <th>5</th>\n",
              "      <td>6</td>\n",
              "      <td>Accounting Clerk</td>\n",
              "      <td>US, MD,</td>\n",
              "      <td>Unspecified</td>\n",
              "      <td></td>\n",
              "      <td>Job OverviewApex is an environmental consultin...</td>\n",
              "      <td></td>\n",
              "      <td></td>\n",
              "      <td>NaN</td>\n",
              "      <td>NaN</td>\n",
              "      <td>NaN</td>\n",
              "      <td>Unspecified</td>\n",
              "      <td>Experience Unavailable</td>\n",
              "      <td>Unspecified</td>\n",
              "      <td>Unspecified</td>\n",
              "      <td>Unspecified</td>\n",
              "      <td>Real</td>\n",
              "      <td>3418</td>\n",
              "    </tr>\n",
              "    <tr>\n",
              "      <th>6</th>\n",
              "      <td>7</td>\n",
              "      <td>Head of Content (m/f)</td>\n",
              "      <td>DE, BE, Berlin</td>\n",
              "      <td>ANDROIDPIT</td>\n",
              "      <td>Founded in 2009, the Fonpit AG rose with its i...</td>\n",
              "      <td>Your Responsibilities: Manage the English-spea...</td>\n",
              "      <td>Your Know-How:                                ...</td>\n",
              "      <td>Your Benefits: Being part of a fast-growing co...</td>\n",
              "      <td>NaN</td>\n",
              "      <td>NaN</td>\n",
              "      <td>NaN</td>\n",
              "      <td>Full-time</td>\n",
              "      <td>Mid-Senior level</td>\n",
              "      <td>Master's Degree</td>\n",
              "      <td>Online Media</td>\n",
              "      <td>Management</td>\n",
              "      <td>Real</td>\n",
              "      <td>433</td>\n",
              "    </tr>\n",
              "    <tr>\n",
              "      <th>7</th>\n",
              "      <td>8</td>\n",
              "      <td>Lead Guest Service Specialist</td>\n",
              "      <td>US, CA, San Francisco</td>\n",
              "      <td>Unspecified</td>\n",
              "      <td>Airenvy’s mission is to provide lucrative yet ...</td>\n",
              "      <td>Who is Airenvy?Hey there! We are seasoned entr...</td>\n",
              "      <td>Experience with CRM software, live chat, and p...</td>\n",
              "      <td>Competitive Pay. You'll be able to eat steak e...</td>\n",
              "      <td>NaN</td>\n",
              "      <td>NaN</td>\n",
              "      <td>NaN</td>\n",
              "      <td>Unspecified</td>\n",
              "      <td>Experience Unavailable</td>\n",
              "      <td>Unspecified</td>\n",
              "      <td>Unspecified</td>\n",
              "      <td>Unspecified</td>\n",
              "      <td>Real</td>\n",
              "      <td>2488</td>\n",
              "    </tr>\n",
              "    <tr>\n",
              "      <th>8</th>\n",
              "      <td>9</td>\n",
              "      <td>HP BSM SME</td>\n",
              "      <td>US, FL, Pensacola</td>\n",
              "      <td>Unspecified</td>\n",
              "      <td>Solutions3 is a woman-owned small business who...</td>\n",
              "      <td>Implementation/Configuration/Testing/Training ...</td>\n",
              "      <td>MUST BE A US CITIZEN.An active TS/SCI clearanc...</td>\n",
              "      <td></td>\n",
              "      <td>NaN</td>\n",
              "      <td>NaN</td>\n",
              "      <td>NaN</td>\n",
              "      <td>Full-time</td>\n",
              "      <td>Associate</td>\n",
              "      <td>Unspecified</td>\n",
              "      <td>Information Technology and Services</td>\n",
              "      <td>Unspecified</td>\n",
              "      <td>Real</td>\n",
              "      <td>75</td>\n",
              "    </tr>\n",
              "    <tr>\n",
              "      <th>9</th>\n",
              "      <td>10</td>\n",
              "      <td>Customer Service Associate - Part Time</td>\n",
              "      <td>US, AZ, Phoenix</td>\n",
              "      <td>Unspecified</td>\n",
              "      <td>Novitex Enterprise Solutions, formerly Pitney ...</td>\n",
              "      <td>The Customer Service Associate will be based i...</td>\n",
              "      <td>Minimum Requirements:Minimum of 6 months custo...</td>\n",
              "      <td></td>\n",
              "      <td>NaN</td>\n",
              "      <td>NaN</td>\n",
              "      <td>NaN</td>\n",
              "      <td>Part-time</td>\n",
              "      <td>Entry level</td>\n",
              "      <td>High School or equivalent</td>\n",
              "      <td>Financial Services</td>\n",
              "      <td>Customer Service</td>\n",
              "      <td>Real</td>\n",
              "      <td>1219</td>\n",
              "    </tr>\n",
              "  </tbody>\n",
              "</table>\n",
              "</div>\n",
              "    <div class=\"colab-df-buttons\">\n",
              "\n",
              "  <div class=\"colab-df-container\">\n",
              "    <button class=\"colab-df-convert\" onclick=\"convertToInteractive('df-305ef891-8e7c-42d9-9da1-23c7334dd540')\"\n",
              "            title=\"Convert this dataframe to an interactive table.\"\n",
              "            style=\"display:none;\">\n",
              "\n",
              "  <svg xmlns=\"http://www.w3.org/2000/svg\" height=\"24px\" viewBox=\"0 -960 960 960\">\n",
              "    <path d=\"M120-120v-720h720v720H120Zm60-500h600v-160H180v160Zm220 220h160v-160H400v160Zm0 220h160v-160H400v160ZM180-400h160v-160H180v160Zm440 0h160v-160H620v160ZM180-180h160v-160H180v160Zm440 0h160v-160H620v160Z\"/>\n",
              "  </svg>\n",
              "    </button>\n",
              "\n",
              "  <style>\n",
              "    .colab-df-container {\n",
              "      display:flex;\n",
              "      gap: 12px;\n",
              "    }\n",
              "\n",
              "    .colab-df-convert {\n",
              "      background-color: #E8F0FE;\n",
              "      border: none;\n",
              "      border-radius: 50%;\n",
              "      cursor: pointer;\n",
              "      display: none;\n",
              "      fill: #1967D2;\n",
              "      height: 32px;\n",
              "      padding: 0 0 0 0;\n",
              "      width: 32px;\n",
              "    }\n",
              "\n",
              "    .colab-df-convert:hover {\n",
              "      background-color: #E2EBFA;\n",
              "      box-shadow: 0px 1px 2px rgba(60, 64, 67, 0.3), 0px 1px 3px 1px rgba(60, 64, 67, 0.15);\n",
              "      fill: #174EA6;\n",
              "    }\n",
              "\n",
              "    .colab-df-buttons div {\n",
              "      margin-bottom: 4px;\n",
              "    }\n",
              "\n",
              "    [theme=dark] .colab-df-convert {\n",
              "      background-color: #3B4455;\n",
              "      fill: #D2E3FC;\n",
              "    }\n",
              "\n",
              "    [theme=dark] .colab-df-convert:hover {\n",
              "      background-color: #434B5C;\n",
              "      box-shadow: 0px 1px 3px 1px rgba(0, 0, 0, 0.15);\n",
              "      filter: drop-shadow(0px 1px 2px rgba(0, 0, 0, 0.3));\n",
              "      fill: #FFFFFF;\n",
              "    }\n",
              "  </style>\n",
              "\n",
              "    <script>\n",
              "      const buttonEl =\n",
              "        document.querySelector('#df-305ef891-8e7c-42d9-9da1-23c7334dd540 button.colab-df-convert');\n",
              "      buttonEl.style.display =\n",
              "        google.colab.kernel.accessAllowed ? 'block' : 'none';\n",
              "\n",
              "      async function convertToInteractive(key) {\n",
              "        const element = document.querySelector('#df-305ef891-8e7c-42d9-9da1-23c7334dd540');\n",
              "        const dataTable =\n",
              "          await google.colab.kernel.invokeFunction('convertToInteractive',\n",
              "                                                    [key], {});\n",
              "        if (!dataTable) return;\n",
              "\n",
              "        const docLinkHtml = 'Like what you see? Visit the ' +\n",
              "          '<a target=\"_blank\" href=https://colab.research.google.com/notebooks/data_table.ipynb>data table notebook</a>'\n",
              "          + ' to learn more about interactive tables.';\n",
              "        element.innerHTML = '';\n",
              "        dataTable['output_type'] = 'display_data';\n",
              "        await google.colab.output.renderOutput(dataTable, element);\n",
              "        const docLink = document.createElement('div');\n",
              "        docLink.innerHTML = docLinkHtml;\n",
              "        element.appendChild(docLink);\n",
              "      }\n",
              "    </script>\n",
              "  </div>\n",
              "\n",
              "\n",
              "<div id=\"df-68139ca0-0e09-43de-922b-78be2dfc9b4e\">\n",
              "  <button class=\"colab-df-quickchart\" onclick=\"quickchart('df-68139ca0-0e09-43de-922b-78be2dfc9b4e')\"\n",
              "            title=\"Suggest charts\"\n",
              "            style=\"display:none;\">\n",
              "\n",
              "<svg xmlns=\"http://www.w3.org/2000/svg\" height=\"24px\"viewBox=\"0 0 24 24\"\n",
              "     width=\"24px\">\n",
              "    <g>\n",
              "        <path d=\"M19 3H5c-1.1 0-2 .9-2 2v14c0 1.1.9 2 2 2h14c1.1 0 2-.9 2-2V5c0-1.1-.9-2-2-2zM9 17H7v-7h2v7zm4 0h-2V7h2v10zm4 0h-2v-4h2v4z\"/>\n",
              "    </g>\n",
              "</svg>\n",
              "  </button>\n",
              "\n",
              "<style>\n",
              "  .colab-df-quickchart {\n",
              "      --bg-color: #E8F0FE;\n",
              "      --fill-color: #1967D2;\n",
              "      --hover-bg-color: #E2EBFA;\n",
              "      --hover-fill-color: #174EA6;\n",
              "      --disabled-fill-color: #AAA;\n",
              "      --disabled-bg-color: #DDD;\n",
              "  }\n",
              "\n",
              "  [theme=dark] .colab-df-quickchart {\n",
              "      --bg-color: #3B4455;\n",
              "      --fill-color: #D2E3FC;\n",
              "      --hover-bg-color: #434B5C;\n",
              "      --hover-fill-color: #FFFFFF;\n",
              "      --disabled-bg-color: #3B4455;\n",
              "      --disabled-fill-color: #666;\n",
              "  }\n",
              "\n",
              "  .colab-df-quickchart {\n",
              "    background-color: var(--bg-color);\n",
              "    border: none;\n",
              "    border-radius: 50%;\n",
              "    cursor: pointer;\n",
              "    display: none;\n",
              "    fill: var(--fill-color);\n",
              "    height: 32px;\n",
              "    padding: 0;\n",
              "    width: 32px;\n",
              "  }\n",
              "\n",
              "  .colab-df-quickchart:hover {\n",
              "    background-color: var(--hover-bg-color);\n",
              "    box-shadow: 0 1px 2px rgba(60, 64, 67, 0.3), 0 1px 3px 1px rgba(60, 64, 67, 0.15);\n",
              "    fill: var(--button-hover-fill-color);\n",
              "  }\n",
              "\n",
              "  .colab-df-quickchart-complete:disabled,\n",
              "  .colab-df-quickchart-complete:disabled:hover {\n",
              "    background-color: var(--disabled-bg-color);\n",
              "    fill: var(--disabled-fill-color);\n",
              "    box-shadow: none;\n",
              "  }\n",
              "\n",
              "  .colab-df-spinner {\n",
              "    border: 2px solid var(--fill-color);\n",
              "    border-color: transparent;\n",
              "    border-bottom-color: var(--fill-color);\n",
              "    animation:\n",
              "      spin 1s steps(1) infinite;\n",
              "  }\n",
              "\n",
              "  @keyframes spin {\n",
              "    0% {\n",
              "      border-color: transparent;\n",
              "      border-bottom-color: var(--fill-color);\n",
              "      border-left-color: var(--fill-color);\n",
              "    }\n",
              "    20% {\n",
              "      border-color: transparent;\n",
              "      border-left-color: var(--fill-color);\n",
              "      border-top-color: var(--fill-color);\n",
              "    }\n",
              "    30% {\n",
              "      border-color: transparent;\n",
              "      border-left-color: var(--fill-color);\n",
              "      border-top-color: var(--fill-color);\n",
              "      border-right-color: var(--fill-color);\n",
              "    }\n",
              "    40% {\n",
              "      border-color: transparent;\n",
              "      border-right-color: var(--fill-color);\n",
              "      border-top-color: var(--fill-color);\n",
              "    }\n",
              "    60% {\n",
              "      border-color: transparent;\n",
              "      border-right-color: var(--fill-color);\n",
              "    }\n",
              "    80% {\n",
              "      border-color: transparent;\n",
              "      border-right-color: var(--fill-color);\n",
              "      border-bottom-color: var(--fill-color);\n",
              "    }\n",
              "    90% {\n",
              "      border-color: transparent;\n",
              "      border-bottom-color: var(--fill-color);\n",
              "    }\n",
              "  }\n",
              "</style>\n",
              "\n",
              "  <script>\n",
              "    async function quickchart(key) {\n",
              "      const quickchartButtonEl =\n",
              "        document.querySelector('#' + key + ' button');\n",
              "      quickchartButtonEl.disabled = true;  // To prevent multiple clicks.\n",
              "      quickchartButtonEl.classList.add('colab-df-spinner');\n",
              "      try {\n",
              "        const charts = await google.colab.kernel.invokeFunction(\n",
              "            'suggestCharts', [key], {});\n",
              "      } catch (error) {\n",
              "        console.error('Error during call to suggestCharts:', error);\n",
              "      }\n",
              "      quickchartButtonEl.classList.remove('colab-df-spinner');\n",
              "      quickchartButtonEl.classList.add('colab-df-quickchart-complete');\n",
              "    }\n",
              "    (() => {\n",
              "      let quickchartButtonEl =\n",
              "        document.querySelector('#df-68139ca0-0e09-43de-922b-78be2dfc9b4e button');\n",
              "      quickchartButtonEl.style.display =\n",
              "        google.colab.kernel.accessAllowed ? 'block' : 'none';\n",
              "    })();\n",
              "  </script>\n",
              "</div>\n",
              "\n",
              "    </div>\n",
              "  </div>\n"
            ],
            "application/vnd.google.colaboratory.intrinsic+json": {
              "type": "dataframe",
              "variable_name": "df",
              "summary": "{\n  \"name\": \"df\",\n  \"rows\": 18572,\n  \"fields\": [\n    {\n      \"column\": \"job_id\",\n      \"properties\": {\n        \"dtype\": \"number\",\n        \"std\": 5319,\n        \"min\": 1,\n        \"max\": 17880,\n        \"num_unique_values\": 17867,\n        \"samples\": [\n          14976,\n          15361,\n          16652\n        ],\n        \"semantic_type\": \"\",\n        \"description\": \"\"\n      }\n    },\n    {\n      \"column\": \"title\",\n      \"properties\": {\n        \"dtype\": \"string\",\n        \"num_unique_values\": 11225,\n        \"samples\": [\n          \".Net Developer - C# SQL SOA SSIS - Albany, NY\",\n          \"Architectural Designer\",\n          \"Cardiologist, Interventional Fellow, MD, Group Practice\"\n        ],\n        \"semantic_type\": \"\",\n        \"description\": \"\"\n      }\n    },\n    {\n      \"column\": \"location\",\n      \"properties\": {\n        \"dtype\": \"category\",\n        \"num_unique_values\": 3109,\n        \"samples\": [\n          \"US, CA, Bakersfield, CA / Mt. Poso\",\n          \"US, PA, Beaver Falls\",\n          \"GR, I, Kessariani\"\n        ],\n        \"semantic_type\": \"\",\n        \"description\": \"\"\n      }\n    },\n    {\n      \"column\": \"department\",\n      \"properties\": {\n        \"dtype\": \"category\",\n        \"num_unique_values\": 1342,\n        \"samples\": [\n          \"Figo Pet Insurance\",\n          \"Marketing Intern\",\n          \"Financial Dept\"\n        ],\n        \"semantic_type\": \"\",\n        \"description\": \"\"\n      }\n    },\n    {\n      \"column\": \"company_profile\",\n      \"properties\": {\n        \"dtype\": \"category\",\n        \"num_unique_values\": 1731,\n        \"samples\": [\n          \"Infogram is the data visualization product that brings out the best in your data. Our infographics and charts are quick to use, fast to share, and easy on eye. Our customers range from small businesses to global media organizations, and we've been awarded multiple times during our short but fast-paced history. You can check us out here and try out the product.\",\n          \"We build products and supercharge startups.Helix is a unique federation of experience engineers that have worked for companies such as Google and Facebook. We have gathered together to work on interesting projects\\u00a0while also building our products. Our Clients range from early-stage startups (Canva, SoundByte) to well-established companies (Dropbox, Orient Express).\",\n          \"Wecando is a young company founded this year by\\u00a0veterans\\u00a0of Milk &amp; Vice. Our goal is to develop bleeding-edge technology in an\\u00a0effort to increase charitable donations. We work out of the\\u00a0Feuled\\u00a0space in Soho (which is awesome) and so will you!\"\n        ],\n        \"semantic_type\": \"\",\n        \"description\": \"\"\n      }\n    },\n    {\n      \"column\": \"description\",\n      \"properties\": {\n        \"dtype\": \"string\",\n        \"num_unique_values\": 14799,\n        \"samples\": [\n          \"Sendence provides essential data and trading technology to the financial services industry (broker-dealers, hedge funds and other services providers) at a far lower cost of ownership than in-house solutions, and at large scale with industry-standard SLAs.We are in \\u201chyper growth\\u201d - backed with revenue. Sendence is\\u00a0looking for high-impact, creative and experienced candidates that want to make a huge difference at a young company and work with other like-minded people.\\u00a0The Service Delivery Manager will be responsible for managing the delivery to clients of our products and services -\\u00a0large scale data warehousing, real-time analytics and alerting and associated reporting solutions, as well as trading services. We are looking for an experienced professional with the ability to manage strategic and technology-related initiatives.\",\n          \"Employment Opportunity: Part Time Cleaners in the Livonia and Farmington Hills Areas Populist Cleaning Co. is an independently owned, full-service commercial cleaning company.\\u00a0 Populist has been providing janitorial services to Southeast Michigan since 1980 and was founded on one simple idea: offer our customers the best possible service, quality, and value.As a growing company, we are looking for exceptional people who share our love for the customers we serve and the work we do!Currently, we are looking for energetic, dependable candidates for openings in the Ann Arbor area.\\u00a0 Typically, our positions are part time and done after 6pm.\\u00a0 Job location and specifics to be discussed during the interview process.When you work for Populist, you\\u2019ll enjoy flexible hours, a friendly atmosphere, and competitive pay.\\u00a0 You\\u2019ll also be a part of a team that is committed to supporting your career goals.\\u00a0 All necessary training will be provided.The ideal candidate is dedicated to providing outstanding customer service every day.Responsibilities may include:Perform various cleaning duties, such as vacuuming, sweeping, dusting, cleaning mirrors and\\u00a0wiping tables/desksClean, detail and re-stock paper products in restroomsRemove and dispose of garbage and recycle itemsProperly use all cleaning products and equipment\",\n          \"This\\u00a0is\\u00a0a\\u00a0MS\\u00a0SQL\\u00a0Server\\u00a0DBA\\u00a0role\\u00a0responsible\\u00a0for\\u00a0providing\\u00a0both\\u00a0operational\\u00a0database\\u00a0services\\u00a0and\\u00a0development\\u00a0guidance\\u00a0to\\u00a0the\\u00a0organization.\\u00a0Some\\u00a0of\\u00a0the\\u00a0primary\\u00a0responsibilities\\u00a0of\\u00a0this\\u00a0role\\u00a0would\\u00a0include\\u00a0owning,\\u00a0tracking\\u00a0and\\u00a0resolving\\u00a0database\\u00a0related\\u00a0incidents\\u00a0and\\u00a0requests,\\u00a0\\u00a0working\\u00a0with\\u00a0database\\u00a0developers\\u00a0and\\u00a0others\\u00a0in\\u00a0the\\u00a0engineering\\u00a0team\\u00a0to\\u00a0come\\u00a0up\\u00a0with\\u00a0strategic\\u00a0solutions\\u00a0to\\u00a0database\\u00a0related\\u00a0application\\u00a0issues.\"\n        ],\n        \"semantic_type\": \"\",\n        \"description\": \"\"\n      }\n    },\n    {\n      \"column\": \"requirements\",\n      \"properties\": {\n        \"dtype\": \"string\",\n        \"num_unique_values\": 11956,\n        \"samples\": [\n          \"Your skills:University Studies and experience in IT;Professional experience in designing interactive digital products, systems, and services using HTML, Javascript, CSS in Agile environment;Experience with user-centric design and ergonomics;Excellent command of English, both written and oral.\\u00a0\",\n          \"Experience in developing non-trivial projects in Ruby or JavaScriptYou already worked with APIs and integrations of third party servicesYou have a good understanding of how web applications are built and workYou have a good understanding of how mobile applications are built and workYou enjoy exchanging emails with customers and have excellent English communication skillsYou can clearly explain concepts and produce example code that complements your explanationYou\\u2019re confident with common UNIX command line toolsYou can read server logs and process them to aggregate/analyze dataIt would be nice if you had some exposure to mobile projects based on iOS or AndroidYou get stuff done. We are looking for someone we can trust to do a good job without much handholding - you should enjoy responsibility.\",\n          \"As a Senior Creative Developer at VML\\u2026You\\u2019ll be expected to:Be a leader in driving forward proactive ideas, prototypes and projects that challenge the agency and our clients\\u2019 expectations of the interactive webCreate dynamic web user interfaces with HTML5 and CSS3Review creative concepts and ideas for technical feasibilityShare knowledge outwards to the teams and company as a wholeEnsure that projects are delivered to high standards of quality in all aspects including, but not limited to code, documentation, configuration management and other software engineering best practices as applicableDeliver the technical output of a wide range of digital projectsYou should possess:5+ years experience as a User Interface Web DeveloperMastery of HTML5 and CSS3 features, especially transforms, animation and media queries to create interactive and engaging experiencesMastery of CSS2 layout techniques and cross-browser compatibility issues including custom fonts using Fontface or hosted services like FontDeckStrong knowledge of using AJAX patterns and the jQuery library to make event driven websites that feel like applicationsStrong experience with semantic markup for SEO and Accessibility objectivesStrong experience with mobile web and tablet-specific challenges such as responsive design implementation, mobile browser compatibility, performance, Retina display challenges and usabilityAbility to create template markups using FreeMarker, Velocity, Razor or similarExperience writing technical documentation including estimates, technical solutions, requirements specifications and test plansExperience with configuration management, using SVN or GitExperience any or all of the following technologies: PHP, Canvas, SVG, WebGL, Flash ActionScript, Facebook app specific integrations, and build systems such as Grunt or GulpStrong written and verbal communication skills, ideally gained in a fast-moving media environmentAbility to compellingly and clearly present ideas and solutionsAbility to multitask under pressure and work to long and short deadlinesSolution-oriented with a positive attitudeIn this specific role, you\\u2019ll have the opportunity to:Working closely with our Technical Director to report project progress, discuss changes and improvements to working practices and strategy for the technical team\\u2019s development.Collaborating with our Creative Director and Head of User Experience design to educate and inspire our creatives in the art of what\\u2019s possible with the latest web technologies, you\\u2019ll be a sounding board to debate and prototype feasibility of the most ambitious concepts.\"\n        ],\n        \"semantic_type\": \"\",\n        \"description\": \"\"\n      }\n    },\n    {\n      \"column\": \"benefits\",\n      \"properties\": {\n        \"dtype\": \"category\",\n        \"num_unique_values\": 6198,\n        \"samples\": [\n          \"Fun environment10.000 to 14.000 annually0.5% to 1.5% equity\",\n          \"Become a significant stakeholder in Radico as part of your compensation package.Work with repeat entrepreneurs and a team of ex-Etsy engineers who have deep understanding of online marketplaces.Receive top health insurance benefits.\",\n          \"- a fun, supportive team that spends more time laughing than doing anything else- a group passionate about improving people\\u2019s lives through knowledge and network- really driven by our mission to help people align their passion with profession- a company that helps growth-minded talent meet high-growth companies\"\n        ],\n        \"semantic_type\": \"\",\n        \"description\": \"\"\n      }\n    },\n    {\n      \"column\": \"telecommuting\",\n      \"properties\": {\n        \"dtype\": \"category\",\n        \"num_unique_values\": 2,\n        \"samples\": [\n          \"Yes\",\n          \"No\"\n        ],\n        \"semantic_type\": \"\",\n        \"description\": \"\"\n      }\n    },\n    {\n      \"column\": \"has_company_logo\",\n      \"properties\": {\n        \"dtype\": \"category\",\n        \"num_unique_values\": 2,\n        \"samples\": [\n          \"No\",\n          \"Yes\"\n        ],\n        \"semantic_type\": \"\",\n        \"description\": \"\"\n      }\n    },\n    {\n      \"column\": \"has_questions\",\n      \"properties\": {\n        \"dtype\": \"category\",\n        \"num_unique_values\": 2,\n        \"samples\": [\n          \"Yes\",\n          \"No\"\n        ],\n        \"semantic_type\": \"\",\n        \"description\": \"\"\n      }\n    },\n    {\n      \"column\": \"employment_type\",\n      \"properties\": {\n        \"dtype\": \"category\",\n        \"num_unique_values\": 18,\n        \"samples\": [\n          \"Other\",\n          \"Full-time\"\n        ],\n        \"semantic_type\": \"\",\n        \"description\": \"\"\n      }\n    },\n    {\n      \"column\": \"required_experience\",\n      \"properties\": {\n        \"dtype\": \"category\",\n        \"num_unique_values\": 17,\n        \"samples\": [\n          \"Internship\",\n          \"Not Applicable\"\n        ],\n        \"semantic_type\": \"\",\n        \"description\": \"\"\n      }\n    },\n    {\n      \"column\": \"required_education\",\n      \"properties\": {\n        \"dtype\": \"category\",\n        \"num_unique_values\": 21,\n        \"samples\": [\n          \"Unspecified\",\n          \"Food & Beverages\"\n        ],\n        \"semantic_type\": \"\",\n        \"description\": \"\"\n      }\n    },\n    {\n      \"column\": \"industry\",\n      \"properties\": {\n        \"dtype\": \"category\",\n        \"num_unique_values\": 140,\n        \"samples\": [\n          \"Renewables & Environment\",\n          \"Religious Institutions\"\n        ],\n        \"semantic_type\": \"\",\n        \"description\": \"\"\n      }\n    },\n    {\n      \"column\": \"function\",\n      \"properties\": {\n        \"dtype\": \"category\",\n        \"num_unique_values\": 39,\n        \"samples\": [\n          \"Writing/Editing\",\n          \"Science\"\n        ],\n        \"semantic_type\": \"\",\n        \"description\": \"\"\n      }\n    },\n    {\n      \"column\": \"fraudulent\",\n      \"properties\": {\n        \"dtype\": \"category\",\n        \"num_unique_values\": 2,\n        \"samples\": [\n          \"Fraudulent\",\n          \"Real\"\n        ],\n        \"semantic_type\": \"\",\n        \"description\": \"\"\n      }\n    },\n    {\n      \"column\": \"job_desc_length\",\n      \"properties\": {\n        \"dtype\": \"number\",\n        \"std\": 890,\n        \"min\": 0,\n        \"max\": 14907,\n        \"num_unique_values\": 3307,\n        \"samples\": [\n          334,\n          2043\n        ],\n        \"semantic_type\": \"\",\n        \"description\": \"\"\n      }\n    }\n  ]\n}"
            }
          },
          "metadata": {},
          "execution_count": 8
        }
      ]
    },
    {
      "cell_type": "code",
      "source": [
        "top_10_real_industries_percentage = df[df['fraudulent'] == 'Real']['industry'].value_counts(normalize=True).head(5) * 100\n",
        "top_10_real_industries_percentage"
      ],
      "metadata": {
        "colab": {
          "base_uri": "https://localhost:8080/",
          "height": 272
        },
        "id": "L_Y1Sze8yVQb",
        "outputId": "7e195c60-9769-4b3e-c211-e32bc8956d60"
      },
      "execution_count": null,
      "outputs": [
        {
          "output_type": "execute_result",
          "data": {
            "text/plain": [
              "industry\n",
              "Unspecified                            27.156439\n",
              "Information Technology and Services    10.014405\n",
              "Computer Software                       8.101412\n",
              "Internet                                6.246039\n",
              "Education Management                    4.742149\n",
              "Name: proportion, dtype: float64"
            ],
            "text/html": [
              "<div>\n",
              "<style scoped>\n",
              "    .dataframe tbody tr th:only-of-type {\n",
              "        vertical-align: middle;\n",
              "    }\n",
              "\n",
              "    .dataframe tbody tr th {\n",
              "        vertical-align: top;\n",
              "    }\n",
              "\n",
              "    .dataframe thead th {\n",
              "        text-align: right;\n",
              "    }\n",
              "</style>\n",
              "<table border=\"1\" class=\"dataframe\">\n",
              "  <thead>\n",
              "    <tr style=\"text-align: right;\">\n",
              "      <th></th>\n",
              "      <th>proportion</th>\n",
              "    </tr>\n",
              "    <tr>\n",
              "      <th>industry</th>\n",
              "      <th></th>\n",
              "    </tr>\n",
              "  </thead>\n",
              "  <tbody>\n",
              "    <tr>\n",
              "      <th>Unspecified</th>\n",
              "      <td>27.156439</td>\n",
              "    </tr>\n",
              "    <tr>\n",
              "      <th>Information Technology and Services</th>\n",
              "      <td>10.014405</td>\n",
              "    </tr>\n",
              "    <tr>\n",
              "      <th>Computer Software</th>\n",
              "      <td>8.101412</td>\n",
              "    </tr>\n",
              "    <tr>\n",
              "      <th>Internet</th>\n",
              "      <td>6.246039</td>\n",
              "    </tr>\n",
              "    <tr>\n",
              "      <th>Education Management</th>\n",
              "      <td>4.742149</td>\n",
              "    </tr>\n",
              "  </tbody>\n",
              "</table>\n",
              "</div><br><label><b>dtype:</b> float64</label>"
            ]
          },
          "metadata": {},
          "execution_count": 9
        }
      ]
    },
    {
      "cell_type": "code",
      "source": [
        "top_10_real_industries_percentage = df[df['fraudulent'] == 'Fraudulent']['industry'].value_counts(normalize=True).head(5) * 100\n",
        "top_10_real_industries_percentage"
      ],
      "metadata": {
        "colab": {
          "base_uri": "https://localhost:8080/",
          "height": 272
        },
        "id": "5zdhGoELy64V",
        "outputId": "14b2f9ec-9a40-44f7-80cf-d61de5ed4558"
      },
      "execution_count": null,
      "outputs": [
        {
          "output_type": "execute_result",
          "data": {
            "text/plain": [
              "industry\n",
              "Unspecified                  34.760705\n",
              "Oil & Energy                  9.487825\n",
              "Accounting                    7.304786\n",
              "Hospital & Health Care        6.045340\n",
              "Marketing and Advertising     4.869857\n",
              "Name: proportion, dtype: float64"
            ],
            "text/html": [
              "<div>\n",
              "<style scoped>\n",
              "    .dataframe tbody tr th:only-of-type {\n",
              "        vertical-align: middle;\n",
              "    }\n",
              "\n",
              "    .dataframe tbody tr th {\n",
              "        vertical-align: top;\n",
              "    }\n",
              "\n",
              "    .dataframe thead th {\n",
              "        text-align: right;\n",
              "    }\n",
              "</style>\n",
              "<table border=\"1\" class=\"dataframe\">\n",
              "  <thead>\n",
              "    <tr style=\"text-align: right;\">\n",
              "      <th></th>\n",
              "      <th>proportion</th>\n",
              "    </tr>\n",
              "    <tr>\n",
              "      <th>industry</th>\n",
              "      <th></th>\n",
              "    </tr>\n",
              "  </thead>\n",
              "  <tbody>\n",
              "    <tr>\n",
              "      <th>Unspecified</th>\n",
              "      <td>34.760705</td>\n",
              "    </tr>\n",
              "    <tr>\n",
              "      <th>Oil &amp; Energy</th>\n",
              "      <td>9.487825</td>\n",
              "    </tr>\n",
              "    <tr>\n",
              "      <th>Accounting</th>\n",
              "      <td>7.304786</td>\n",
              "    </tr>\n",
              "    <tr>\n",
              "      <th>Hospital &amp; Health Care</th>\n",
              "      <td>6.045340</td>\n",
              "    </tr>\n",
              "    <tr>\n",
              "      <th>Marketing and Advertising</th>\n",
              "      <td>4.869857</td>\n",
              "    </tr>\n",
              "  </tbody>\n",
              "</table>\n",
              "</div><br><label><b>dtype:</b> float64</label>"
            ]
          },
          "metadata": {},
          "execution_count": 10
        }
      ]
    },
    {
      "cell_type": "code",
      "source": [
        "# Check class distribution\n",
        "class_distribution = df[\"fraudulent\"].value_counts(normalize=True) * 100\n",
        "\n",
        "print(class_distribution)"
      ],
      "metadata": {
        "colab": {
          "base_uri": "https://localhost:8080/"
        },
        "id": "FNh6ktXDEKyW",
        "outputId": "deeb32b3-0fde-41bc-fd84-91e69c8c1660"
      },
      "execution_count": null,
      "outputs": [
        {
          "output_type": "stream",
          "name": "stdout",
          "text": [
            "fraudulent\n",
            "Real          93.57813\n",
            "Fraudulent     6.42187\n",
            "Name: proportion, dtype: float64\n"
          ]
        }
      ]
    },
    {
      "cell_type": "code",
      "source": [
        "import matplotlib.pyplot as plt\n",
        "# Plot bar graph\n",
        "plt.figure(figsize=(6, 4))\n",
        "plt.bar(class_distribution.index, class_distribution.values, color=['blue', 'red'])\n",
        "plt.xticks([0, 1], ['Real Jobs (0)', 'Fraudulent Jobs (1)'])\n",
        "plt.xlabel(\"Job Type\")\n",
        "plt.ylabel(\"Percentage (%)\")\n",
        "plt.title(\"Distribution of Real vs. Fraudulent Job Postings\")\n",
        "plt.ylim(0, 100)\n",
        "plt.grid(axis=\"y\", linestyle=\"--\", alpha=0.7)\n",
        "\n",
        "# Show plot\n",
        "plt.show()\n"
      ],
      "metadata": {
        "colab": {
          "base_uri": "https://localhost:8080/",
          "height": 410
        },
        "id": "Eow5fh12Fi34",
        "outputId": "42a3556f-3646-447b-a723-21cd5c197fb4"
      },
      "execution_count": null,
      "outputs": [
        {
          "output_type": "display_data",
          "data": {
            "text/plain": [
              "<Figure size 600x400 with 1 Axes>"
            ],
            "image/png": "[encoded data removed]"
          },
          "metadata": {}
        }
      ]
    },
    {
      "cell_type": "code",
      "source": [
        "#Find percentage of missing values\n",
        "missing_percentage = (df.isnull().sum() / len(df)) * 100\n",
        "print(missing_percentage)\n"
      ],
      "metadata": {
        "colab": {
          "base_uri": "https://localhost:8080/"
        },
        "id": "tzdvr9oIGMKn",
        "outputId": "e5cf2339-279a-4ae7-e70c-6e0fc1b78767"
      },
      "execution_count": null,
      "outputs": [
        {
          "output_type": "stream",
          "name": "stdout",
          "text": [
            "job_id                 0.0\n",
            "title                  0.0\n",
            "department             0.0\n",
            "company_profile        0.0\n",
            "description            0.0\n",
            "requirements           0.0\n",
            "benefits               0.0\n",
            "telecommuting          0.0\n",
            "has_company_logo       0.0\n",
            "has_questions          0.0\n",
            "employment_type        0.0\n",
            "required_experience    0.0\n",
            "required_education     0.0\n",
            "industry               0.0\n",
            "function               0.0\n",
            "fraudulent             0.0\n",
            "min_salary             0.0\n",
            "max_salary             0.0\n",
            "country                0.0\n",
            "state                  0.0\n",
            "city                   0.0\n",
            "job_desc_length        0.0\n",
            "dtype: float64\n"
          ]
        }
      ]
    },
    {
      "cell_type": "markdown",
      "source": [
        "The first thing we need to do is separate country, state and city\n",
        "For the NAN values we fill them as unspecified\n"
      ],
      "metadata": {
        "id": "jr4J1kd7HUs4"
      }
    },
    {
      "cell_type": "markdown",
      "source": [
        "This is the experience level based on real job data\n"
      ],
      "metadata": {
        "id": "vCCt__oBSblG"
      }
    },
    {
      "cell_type": "code",
      "source": [
        "# Create figure with background matching the slides\n",
        "real_experience_distribution = df[df['fraudulent'] == 'Real']['required_experience'].value_counts(normalize=True) * 100\n",
        "\n",
        "background_color = (246/255, 246/255, 246/255) # Define background_color here\n",
        "plt.figure(figsize=(8, 5), facecolor=background_color)\n",
        "ax = plt.gca()\n",
        "ax.set_facecolor(background_color)\n",
        "\n",
        "# Plot horizontal bar chart\n",
        "real_experience_distribution.sort_values().plot(kind='barh', color='skyblue', edgecolor='black')\n",
        "\n",
        "# Add title and labels\n",
        "plt.title(\"Required Experience Distribution in Real Job Postings\", fontsize=12, fontweight='bold', color=\"black\")\n",
        "plt.xlabel(\"Percentage (%)\", fontsize=10, color=\"black\")\n",
        "plt.ylabel(\"Required Experience\", fontsize=10, color=\"black\")\n",
        "plt.xlim(0, 100)\n",
        "\n",
        "# Remove gridlines\n",
        "ax.grid(False)\n",
        "\n",
        "# Add annotations\n",
        "for index, value in enumerate(real_experience_distribution.sort_values()):\n",
        "    plt.text(value + 2, index, f\"{value:.1f}%\", va='center', fontsize=10, fontweight='bold', color=\"black\")\n",
        "\n",
        "# Show the plot\n",
        "plt.show()\n"
      ],
      "metadata": {
        "colab": {
          "base_uri": "https://localhost:8080/",
          "height": 487
        },
        "id": "iha7q5AatWzI",
        "outputId": "2c5d44f7-659f-4e75-ef79-a33b201838df"
      },
      "execution_count": null,
      "outputs": [
        {
          "output_type": "display_data",
          "data": {
            "text/plain": [
              "<Figure size 800x500 with 1 Axes>"
            ],
            "image/png": "[encoded data removed]"
          },
          "metadata": {}
        }
      ]
    },
    {
      "cell_type": "markdown",
      "source": [
        "This is the experience level based on fraud data"
      ],
      "metadata": {
        "id": "5QkESRdxSW7W"
      }
    },
    {
      "cell_type": "code",
      "source": [
        "# Recalculate the experience distribution for fraudulent job postings\n",
        "fraud_experience_distribution = df[df['fraudulent'] == 'Fraudulent']['required_experience'].value_counts(normalize=True) * 100\n",
        "\n",
        "\n",
        "background_color = (246/255, 246/255, 246/255)\n",
        "\n",
        "\n",
        "plt.figure(figsize=(8, 5), facecolor=background_color)\n",
        "ax = plt.gca()\n",
        "ax.set_facecolor(background_color)\n",
        "\n",
        "fraud_experience_distribution.sort_values().plot(kind='barh', color='skyblue', edgecolor='black')\n",
        "\n",
        "# Remove gridlines\n",
        "ax.grid(False)\n",
        "\n",
        "# Add annotations\n",
        "for index, value in enumerate(fraud_experience_distribution.sort_values()):\n",
        "    plt.text(value + 2, index, f\"{value:.1f}%\", va='center', fontsize=10, fontweight='bold', color=\"black\")\n",
        "\n",
        "# Add title and labels\n",
        "plt.title(\"Required Experience Distribution in Fradulent Job Postings\", fontsize=12, fontweight='bold')\n",
        "plt.xlabel(\"Percentage (%)\", fontsize=10)\n",
        "plt.ylabel(\"Required Experience\", fontsize=10)\n",
        "plt.xlim(0, 100)\n",
        "\n",
        "\n",
        "# Show the plot\n",
        "plt.show()\n",
        "\n"
      ],
      "metadata": {
        "colab": {
          "base_uri": "https://localhost:8080/",
          "height": 487
        },
        "id": "3InI8kXYJD_z",
        "outputId": "c6bdaa47-0c3f-4f67-df4c-8278042b6467"
      },
      "execution_count": null,
      "outputs": [
        {
          "output_type": "display_data",
          "data": {
            "text/plain": [
              "<Figure size 800x500 with 1 Axes>"
            ],
            "image/png": "[encoded data removed]"
          },
          "metadata": {}
        }
      ]
    },
    {
      "cell_type": "markdown",
      "source": [
        "Make A Graph for Education for Real vs Fradulent\n"
      ],
      "metadata": {
        "id": "zWQQo7NoTS6I"
      }
    },
    {
      "cell_type": "code",
      "source": [
        "print(df[df['fraudulent'] == 'Real']['required_education'].value_counts())"
      ],
      "metadata": {
        "colab": {
          "base_uri": "https://localhost:8080/"
        },
        "id": "gNzBKH8jNRuI",
        "outputId": "4b606eeb-2914-4f25-8b4e-ddab4cfeac48"
      },
      "execution_count": null,
      "outputs": [
        {
          "output_type": "stream",
          "name": "stdout",
          "text": [
            "required_education\n",
            "Unspecified                          8990\n",
            "Bachelor's Degree                    5045\n",
            "High School or equivalent            1910\n",
            "Master's Degree                       385\n",
            "Associate Degree                      268\n",
            "Certification                         151\n",
            "Some College Coursework Completed      99\n",
            "Professional                           70\n",
            "Vocational                             49\n",
            "Doctorate                              25\n",
            "Vocational - HS Diploma                 9\n",
            "Some High School Coursework             7\n",
            "Vocational - Degree                     6\n",
            "Name: count, dtype: int64\n"
          ]
        }
      ]
    },
    {
      "cell_type": "code",
      "source": [
        "print(df[df['fraudulent'] == 'Fraudulent']['required_education'].value_counts())"
      ],
      "metadata": {
        "colab": {
          "base_uri": "https://localhost:8080/"
        },
        "id": "50xOa1aORfGt",
        "outputId": "f8d9cb6e-9dc4-46cb-ea99-4c40d1dc614f"
      },
      "execution_count": null,
      "outputs": [
        {
          "output_type": "stream",
          "name": "stdout",
          "text": [
            "required_education\n",
            "Unspecified                          512\n",
            "High School or equivalent            170\n",
            "Bachelor's Degree                    100\n",
            "Master's Degree                       31\n",
            "Some High School Coursework           20\n",
            "Certification                         19\n",
            "Associate Degree                       6\n",
            "Professional                           4\n",
            "Some College Coursework Completed      3\n",
            "Doctorate                              1\n",
            "Name: count, dtype: int64\n"
          ]
        }
      ]
    },
    {
      "cell_type": "code",
      "source": [
        "# Sort employment type distributions from greatest to least\n",
        "sorted_indices = real_experience_distribution.sort_values(ascending=False).index\n",
        "\n",
        "# Reorder both distributions based on the sorted real employment distribution\n",
        "real_experience_distribution = real_experience_distribution[sorted_indices]\n",
        "fraud_experience_distribution = fraud_experience_distribution[sorted_indices]\n",
        "\n",
        "# Update employment types order\n",
        "employment_types_sorted = [str(et) for et in sorted_indices]\n",
        "\n",
        "# Define bar width\n",
        "bar_width = 0.4\n",
        "x = np.arange(len(employment_types_sorted))\n",
        "\n",
        "# Set seaborn style and background\n",
        "sns.set_style('whitegrid')\n",
        "\n",
        "# Create figure with background matching the slides\n",
        "plt.figure(figsize=(10, 6), facecolor=background_color)\n",
        "ax = plt.gca()\n",
        "ax.set_facecolor(background_color)\n",
        "\n",
        "# Plot bars\n",
        "plt.bar(x - bar_width / 2, real_experience_distribution, bar_width, label=\"Real\", color='skyblue', edgecolor='black')\n",
        "plt.bar(x + bar_width / 2, fraud_experience_distribution, bar_width, label=\"Fraudulent\", color='lightgrey', edgecolor='black')\n",
        "\n",
        "# Add title and labels\n",
        "plt.title(\"Comparison of Employment Type: Real vs Fraudulent Job Postings\", fontsize=14, fontweight='bold', color=\"black\")\n",
        "plt.xlabel(\"Employment Type\", fontsize=12, color=\"black\")\n",
        "plt.ylabel(\"Percentage (%)\", fontsize=12, color=\"black\")\n",
        "plt.xticks(x, employment_types_sorted, rotation=45, ha='right', fontsize=10, color=\"black\")\n",
        "plt.ylim(0, 100)  # Set y-axis limits\n",
        "\n",
        "ax.grid(False)\n",
        "\n",
        "# Create a legend\n",
        "plt.legend(fontsize=12, loc='upper right')\n",
        "# Real employment is light skyblue and fraud is grey\n",
        "\n",
        "\n",
        "\n",
        "\n",
        "\n",
        "\n",
        "\n",
        "\n",
        "\n",
        "# Show the plot\n",
        "plt.show()\n"
      ],
      "metadata": {
        "colab": {
          "base_uri": "https://localhost:8080/",
          "height": 681
        },
        "id": "MaSAANY1yVeb",
        "outputId": "cbfb82e0-255b-47fa-e086-abb44fe3420b"
      },
      "execution_count": null,
      "outputs": [
        {
          "output_type": "display_data",
          "data": {
            "text/plain": [
              "<Figure size 1000x600 with 1 Axes>"
            ],
            "image/png": "[encoded data removed]"
          },
          "metadata": {}
        }
      ]
    },
    {
      "cell_type": "code",
      "source": [
        "#This is for the real\n",
        "print(df[df['fraudulent'] == 'Real']['employment_type'].value_counts(normalize=True) * 100)\n"
      ],
      "metadata": {
        "id": "SdTpkZARVXfS",
        "colab": {
          "base_uri": "https://localhost:8080/"
        },
        "outputId": "9b00b39c-5a0a-422d-8cec-992494b40ad0"
      },
      "execution_count": null,
      "outputs": [
        {
          "output_type": "stream",
          "name": "stdout",
          "text": [
            "employment_type\n",
            "Full-time      65.416716\n",
            "Unspecified    18.984366\n",
            "Contract        8.698719\n",
            "Part-time       4.249442\n",
            "Temporary       1.404726\n",
            "Other           1.246033\n",
            "Name: proportion, dtype: float64\n"
          ]
        }
      ]
    },
    {
      "cell_type": "code",
      "source": [
        "# Look at the top 10 industries for Real job postings and store the result\n",
        "top_10_real_industries_percentage = df[df['fraudulent'] == 'Real']['industry'].value_counts(normalize=True).head(5) * 100\n",
        "\n",
        "# Sort values to ensure the highest percentage is correctly colored\n",
        "sorted_industries = top_10_real_industries_percentage.sort_values()\n",
        "\n",
        "# Assign colors: highest percentage in skyblue, others in lightgrey\n",
        "colors = ['lightgrey'] * (len(sorted_industries) - 2) + ['skyblue']\n",
        "\n",
        "# Create figure with background matching the slides\n",
        "plt.figure(figsize=(10, 6), facecolor=background_color)\n",
        "ax = plt.gca()\n",
        "ax.set_facecolor(background_color)\n",
        "\n",
        "# Plot horizontal bar chart with custom colors\n",
        "sorted_industries.plot(kind='barh', color=colors, edgecolor='black')\n",
        "\n",
        "# Add title and labels\n",
        "plt.title(\"Top 5 Industries in Real Job Postings\", fontsize=14, fontweight='bold', color=\"black\")\n",
        "plt.xlabel(\"Percentage (%)\", fontsize=12, color=\"black\")\n",
        "plt.ylabel(\"Industry\", fontsize=12, color=\"black\")\n",
        "plt.xlim(0, 100)  # Set x-axis to 100%\n",
        "\n",
        "ax.grid(False)\n",
        "\n",
        "# Add annotations\n",
        "for index, value in enumerate(sorted_industries.sort_values()):\n",
        "    plt.text(value + 2, index, f\"{value:.1f}%\", va='center', fontsize=10, fontweight='bold', color=\"black\")\n",
        "\n",
        "\n",
        "\n",
        "\n",
        "\n",
        "\n",
        "\n",
        "# Adjust layout for clarity\n",
        "plt.tight_layout()\n",
        "\n",
        "# Show the plot\n",
        "plt.show()"
      ],
      "metadata": {
        "colab": {
          "base_uri": "https://localhost:8080/",
          "height": 607
        },
        "id": "NlnEz-KF1plb",
        "outputId": "a1046fdb-648c-400d-fbd1-cf46dc7b92e4"
      },
      "execution_count": null,
      "outputs": [
        {
          "output_type": "display_data",
          "data": {
            "text/plain": [
              "<Figure size 1000x600 with 1 Axes>"
            ],
            "image/png": "[encoded data removed]"
          },
          "metadata": {}
        }
      ]
    },
    {
      "cell_type": "code",
      "source": [
        "\n",
        "top_10_real_industries_percentage = df[df['fraudulent'] == 'Fraudulent']['industry'].value_counts(normalize=True).head(5) * 100\n",
        "\n",
        "# Sort values to ensure the highest percentage is correctly colored\n",
        "sorted_industries = top_10_real_industries_percentage.sort_values()\n",
        "\n",
        "# Assign colors: highest percentage in skyblue, others in lightgrey\n",
        "colors = ['lightgrey'] * (len(sorted_industries) - 2) + ['skyblue']\n",
        "\n",
        "# Create figure with background matching the slides\n",
        "plt.figure(figsize=(10, 6), facecolor=background_color)\n",
        "ax = plt.gca()\n",
        "ax.set_facecolor(background_color)\n",
        "\n",
        "# Plot horizontal bar chart with custom colors\n",
        "sorted_industries.plot(kind='barh', color=colors, edgecolor='black')\n",
        "\n",
        "ax.grid(False)\n",
        "\n",
        "# Add annotations\n",
        "for index, value in enumerate(sorted_industries.sort_values()):\n",
        "    plt.text(value + 2, index, f\"{value:.1f}%\", va='center', fontsize=10, fontweight='bold', color=\"black\")\n",
        "\n",
        "# Add title and labels\n",
        "plt.title(\"Top 5 Industries in Fraudulent Job Postings\", fontsize=14, fontweight='bold', color=\"black\")\n",
        "plt.xlabel(\"Percentage (%)\", fontsize=12, color=\"black\")\n",
        "plt.ylabel(\"Industry\", fontsize=12, color=\"black\")\n",
        "plt.xlim(0, 100)  # Set x-axis to 100%\n",
        "\n",
        "\n",
        "\n",
        "\n",
        "\n",
        "\n",
        "\n",
        "\n",
        "\n",
        "# Adjust layout for clarity\n",
        "plt.tight_layout()\n",
        "\n",
        "# Show the plot\n",
        "plt.show()"
      ],
      "metadata": {
        "colab": {
          "base_uri": "https://localhost:8080/",
          "height": 607
        },
        "id": "kgXVGpkONczM",
        "outputId": "86f664e8-f94e-407a-db8b-242f98bc1b8e"
      },
      "execution_count": null,
      "outputs": [
        {
          "output_type": "display_data",
          "data": {
            "text/plain": [
              "<Figure size 1000x600 with 1 Axes>"
            ],
            "image/png": "[encoded data removed]"
          },
          "metadata": {}
        }
      ]
    },
    {
      "cell_type": "code",
      "source": [
        "#Company Logo\n",
        "print(df[df['fraudulent'] == 'Real']['has_company_logo'].value_counts(normalize=True)*100)"
      ],
      "metadata": {
        "colab": {
          "base_uri": "https://localhost:8080/"
        },
        "id": "7rfYwxF0OYMW",
        "outputId": "128aed39-6c22-4e3c-c3ec-5c29f2a7ed5d"
      },
      "execution_count": null,
      "outputs": [
        {
          "output_type": "stream",
          "name": "stdout",
          "text": [
            "has_company_logo\n",
            "Yes    81.914894\n",
            "No     18.085106\n",
            "Name: proportion, dtype: float64\n"
          ]
        }
      ]
    },
    {
      "cell_type": "code",
      "source": [
        "print(df[df['fraudulent'] == 'Fraudulent']['has_company_logo'].value_counts(normalize=True)*100)"
      ],
      "metadata": {
        "colab": {
          "base_uri": "https://localhost:8080/"
        },
        "id": "1TajBjhXObS2",
        "outputId": "6f2ff3c9-26f8-4642-9009-8022da11c0cd"
      },
      "execution_count": null,
      "outputs": [
        {
          "output_type": "stream",
          "name": "stdout",
          "text": [
            "has_company_logo\n",
            "No     67.321016\n",
            "Yes    32.678984\n",
            "Name: proportion, dtype: float64\n"
          ]
        }
      ]
    },
    {
      "cell_type": "markdown",
      "source": [
        "Machine Learning part!"
      ],
      "metadata": {
        "id": "nh55jsjV7dYX"
      }
    },
    {
      "cell_type": "code",
      "source": [],
      "metadata": {
        "id": "Z2lOk-ex_1lX"
      },
      "execution_count": null,
      "outputs": []
    },
    {
      "cell_type": "code",
      "source": [
        "#Split the dataset into fake and real job postings\n",
        "fake_jobs = job_desc_df[job_desc_df['fraudulent'] == 1]\n",
        "real_jobs = job_desc_df[job_desc_df['fraudulent'] == 0]\n",
        "\n",
        "#Determine the number of samples to keep for each category\n",
        "min_count = min(len(fake_jobs), len(real_jobs))\n",
        "\n",
        "#Randomly sample the same number of fake and real job postings\n",
        "fake_jobs_sampled = fake_jobs.sample(n=min_count, random_state=42)\n",
        "real_jobs_sampled = real_jobs.sample(n=min_count, random_state=42)\n",
        "\n",
        "#Concatenate the sampled data back into a single DataFrame\n",
        "balanced_df = pd.concat([fake_jobs_sampled, real_jobs_sampled], axis=0)"
      ],
      "metadata": {
        "id": "X-06rTBu8T_D"
      },
      "execution_count": null,
      "outputs": []
    },
    {
      "cell_type": "code",
      "source": [
        "balanced_df.shape"
      ],
      "metadata": {
        "id": "8ntoPKtYPj8i",
        "colab": {
          "base_uri": "https://localhost:8080/"
        },
        "outputId": "8d065521-e1d3-4ef9-af54-65bcd6f56d88"
      },
      "execution_count": null,
      "outputs": [
        {
          "output_type": "execute_result",
          "data": {
            "text/plain": [
              "(0, 20)"
            ]
          },
          "metadata": {},
          "execution_count": 41
        }
      ]
    },
    {
      "cell_type": "code",
      "source": [],
      "metadata": {
        "id": "0ImNuY-UPju6"
      },
      "execution_count": null,
      "outputs": []
    },
    {
      "cell_type": "code",
      "source": [],
      "metadata": {
        "id": "3zsdP48pGW9p"
      },
      "execution_count": null,
      "outputs": []
    },
    {
      "cell_type": "markdown",
      "source": [
        "So we have categorical data. So we can use that as our output"
      ],
      "metadata": {
        "id": "iy1xjxeaGvN5"
      }
    },
    {
      "cell_type": "markdown",
      "source": [
        "\n",
        "\n",
        "```\n",
        "# This is formatted as code\n",
        "```\n",
        "\n",
        "We must use the F1 Metric as a score to see accuracy. The reason for this is because we dont want Real jobs to be predicted as fraud jobs and vice versa"
      ],
      "metadata": {
        "id": "0M059Ik6HwGS"
      }
    },
    {
      "cell_type": "markdown",
      "source": [
        "Input Columns considered to check  are : Telecommuting , Has Company Logo , Has Questions , Employment Type , Required Experience , Required Education , Industry , Function , Title , Location , Department.\n",
        "\n",
        "Output Columns: ''fradulent'' dependent on the column"
      ],
      "metadata": {
        "id": "468jsiv2JE5m"
      }
    },
    {
      "cell_type": "markdown",
      "source": [
        "We realized that the actual job descriptions, company profiles, and requirements contain important clues.\n",
        "So, instead of just using numerical data, we can add text-based features.\n"
      ],
      "metadata": {
        "id": "zmOvo4buKLEP"
      }
    },
    {
      "cell_type": "markdown",
      "source": [
        "Count Vectorizer (turns words into numbers based on frequency)"
      ],
      "metadata": {
        "id": "x8F5nQ20KO3n"
      }
    },
    {
      "cell_type": "markdown",
      "source": [
        "\n"
      ],
      "metadata": {
        "id": "6vLBPa4zKVa_"
      }
    },
    {
      "cell_type": "code",
      "source": [],
      "metadata": {
        "id": "nQXowuf6KEnW"
      },
      "execution_count": null,
      "outputs": []
    },
    {
      "cell_type": "code",
      "source": [],
      "metadata": {
        "id": "I5WL1ayHHsar"
      },
      "execution_count": null,
      "outputs": []
    },
    {
      "cell_type": "markdown",
      "source": [],
      "metadata": {
        "id": "bh6ZDBEuHoqL"
      }
    },
    {
      "cell_type": "code",
      "source": [],
      "metadata": {
        "id": "3PeFR9bIHoFj"
      },
      "execution_count": null,
      "outputs": []
    },
    {
      "cell_type": "code",
      "source": [],
      "metadata": {
        "id": "vg8G2JMoVRHK"
      },
      "execution_count": null,
      "outputs": []
    }
  ]
}