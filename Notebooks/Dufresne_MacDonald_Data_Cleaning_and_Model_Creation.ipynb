{
  "nbformat": 4,
  "nbformat_minor": 0,
  "metadata": {
    "colab": {
      "provenance": [],
      "collapsed_sections": [
        "c2MtBFm27r_C",
        "E-bHyIjRXE1R",
        "Z4pPz9SV3wuc",
        "ZryCrO76BBpY",
        "7U_i0KDEBmbX",
        "GDETeFBpDK_p",
        "I4qNvwYJYAec",
        "cEFaZ5FvZs91",
        "bFC6DgIXadAe"
      ]
    },
    "kernelspec": {
      "name": "python3",
      "display_name": "Python 3"
    },
    "language_info": {
      "name": "python"
    }
  },
  "cells": [
    {
      "cell_type": "markdown",
      "source": [
        "#Project 2 (Fradulent Job Postings)"
      ],
      "metadata": {
        "id": "qeDf2eXm7lf4"
      }
    },
    {
      "cell_type": "code",
      "source": [
        "#Necessary Imports for Data Cleaning and Analysis\n",
        "import pandas as pd\n",
        "import numpy as np\n",
        "import matplotlib.pyplot as plt\n",
        "import seaborn as sns\n",
        "import re"
      ],
      "metadata": {
        "id": "I_2gtnXRXIDF"
      },
      "execution_count": null,
      "outputs": []
    },
    {
      "cell_type": "code",
      "source": [
        "from google.colab import drive\n",
        "drive.mount('/content/drive')"
      ],
      "metadata": {
        "colab": {
          "base_uri": "https://localhost:8080/"
        },
        "id": "TBJDvv47c8jN",
        "outputId": "8550c79f-cd33-4d70-ad11-819072efcdf2"
      },
      "execution_count": null,
      "outputs": [
        {
          "output_type": "stream",
          "name": "stdout",
          "text": [
            "Mounted at /content/drive\n"
          ]
        }
      ]
    },
    {
      "cell_type": "markdown",
      "source": [
        "## Description\n",
        "This dataset contains listing information for legitimate and fradulent job postings from a variety of industrys. With the job market increasingly shifting online, this dataset offers a wealth of information capable of building machine learning models (MLM).\n",
        "\n"
      ],
      "metadata": {
        "id": "c2MtBFm27r_C"
      }
    },
    {
      "cell_type": "markdown",
      "source": [
        "### Dataset Context and Purpose\n",
        "With job hunting becoming an increasingly online activity, it's more important than ever to remain cognizant of fake job postings. This dataset thus allows analysts and researchers employed by popular online job markets create models using text data and key traits/features to predict real versus fake job descriptions."
      ],
      "metadata": {
        "id": "WOyLiFUVF9DZ"
      }
    },
    {
      "cell_type": "markdown",
      "source": [
        "### Content\n",
        "Included in this section are brief descriptions of the columns included in the dataset\n",
        "* **location** - geographical location of the job ad.\n",
        "* **department** - coporate department (i.e. sales)\n",
        "* **salary_range** - indicative salary range (e.g. \\$50,000 - \\$60,000)\n",
        "* **company_profile** - brief company description\n",
        "* **description** - details description of the job ad\n",
        "* **requirements** - enlished requirements for the job opening\n",
        "* **benefits** - enlishted offered benefits by the employer\n",
        "* **telecommuting** - true (1) for telecommuting positions\n",
        "* **has_company_logo** - true (1) is company logo is present\n",
        "* **has_questions** - true (1) if screening questions are present\n",
        "* **employment_type** - full-time, part-time, contract, etc.\n",
        "* **required_experience** - executive, entry level, intern, etc.\n",
        "* **requred_education** - doctorate, masters, bachelor's degree, etc.\n",
        "* **industry** - automotive, IT, health care, real estate, etc.\n",
        "* **function** - consulting, engineering, research, sales, etc.\n",
        "* **fradulent** - target-classification attribute. (~800 [4.47%] listings in this dataset are fake)"
      ],
      "metadata": {
        "id": "bdCvc9LMF_9N"
      }
    },
    {
      "cell_type": "markdown",
      "source": [
        "##Questions about the Data\n",
        "The following questions will help team members gain an understanding of the dataset, identify common characteristics of fradulent listings, and build a predictive model with the goal of providing more context to the question, \"how can we spot a fake job description?\"\n"
      ],
      "metadata": {
        "id": "jPhQNp6gCG7w"
      }
    },
    {
      "cell_type": "markdown",
      "source": [
        "####Familarizing Ourselves with the Dataset:\n",
        "* What are the most common department, salary range, employment type, industry, and function of the dataset? Does this different between legitmate and fradulent listings?\n",
        "* Where are real and fake job listings coming from? (location and company)\n",
        "* What is landscape of benefits, required experience, required education, and other \"additional\" details within the dataset? How does this compare across real and fake listings?\n"
      ],
      "metadata": {
        "id": "w6dVocUvGFd1"
      }
    },
    {
      "cell_type": "markdown",
      "source": [
        "####Building a Predictive Model\n",
        "* Which input columns fit our data the best in predicting the legitimacy of job listings?"
      ],
      "metadata": {
        "id": "oOlvS-M5GHh8"
      }
    },
    {
      "cell_type": "markdown",
      "source": [
        "## Data Cleaning/Modification"
      ],
      "metadata": {
        "id": "FMCyC37ZU6NC"
      }
    },
    {
      "cell_type": "markdown",
      "source": [
        "This section will detail the various data cleaning and modification tasks undertaken by team members. As you will soon see, we were dealing with primarily textual data, which required us to become creative in how we quanitified aspects of our data for use in our learning model."
      ],
      "metadata": {
        "id": "kGw-yezDU_Uu"
      }
    },
    {
      "cell_type": "markdown",
      "source": [
        "### Data Inspection/Cleaning"
      ],
      "metadata": {
        "id": "E-bHyIjRXE1R"
      }
    },
    {
      "cell_type": "code",
      "source": [
        "job_desc_df = pd.read_csv('/content/drive/Shareddrives/MATH 3439 Work/Project 2/fake_job_postings.csv')"
      ],
      "metadata": {
        "id": "DN4vHd7-XV4y"
      },
      "execution_count": null,
      "outputs": []
    },
    {
      "cell_type": "code",
      "source": [
        "job_desc_df.head()"
      ],
      "metadata": {
        "id": "mnicpN3QXhsc",
        "collapsed": true,
        "colab": {
          "base_uri": "https://localhost:8080/"
        },
        "outputId": "17ea3f9d-8df1-4c0e-e993-337063bac08c"
      },
      "execution_count": null,
      "outputs": [
        {
          "output_type": "execute_result",
          "data": {
            "text/plain": [
              "   job_id                                      title            location  \\\n",
              "0       1                           Marketing Intern    US, NY, New York   \n",
              "1       2  Customer Service - Cloud Video Production      NZ, , Auckland   \n",
              "2       3    Commissioning Machinery Assistant (CMA)       US, IA, Wever   \n",
              "3       4          Account Executive - Washington DC  US, DC, Washington   \n",
              "4       5                        Bill Review Manager  US, FL, Fort Worth   \n",
              "\n",
              "  department salary_range                                    company_profile  \\\n",
              "0  Marketing          NaN  We're Food52, and we've created a groundbreaki...   \n",
              "1    Success          NaN  90 Seconds, the worlds Cloud Video Production ...   \n",
              "2        NaN          NaN  Valor Services provides Workforce Solutions th...   \n",
              "3      Sales          NaN  Our passion for improving quality of life thro...   \n",
              "4        NaN          NaN  SpotSource Solutions LLC is a Global Human Cap...   \n",
              "\n",
              "                                         description  \\\n",
              "0  Food52, a fast-growing, James Beard Award-winn...   \n",
              "1  Organised - Focused - Vibrant - Awesome!Do you...   \n",
              "2  Our client, located in Houston, is actively se...   \n",
              "3  THE COMPANY: ESRI – Environmental Systems Rese...   \n",
              "4  JOB TITLE: Itemization Review ManagerLOCATION:...   \n",
              "\n",
              "                                        requirements  \\\n",
              "0  Experience with content management systems a m...   \n",
              "1  What we expect from you:Your key responsibilit...   \n",
              "2  Implement pre-commissioning and commissioning ...   \n",
              "3  EDUCATION: Bachelor’s or Master’s in GIS, busi...   \n",
              "4  QUALIFICATIONS:RN license in the State of Texa...   \n",
              "\n",
              "                                            benefits  telecommuting  \\\n",
              "0                                                NaN              0   \n",
              "1  What you will get from usThrough being part of...              0   \n",
              "2                                                NaN              0   \n",
              "3  Our culture is anything but corporate—we have ...              0   \n",
              "4                              Full Benefits Offered              0   \n",
              "\n",
              "   has_company_logo  has_questions employment_type required_experience  \\\n",
              "0                 1              0           Other          Internship   \n",
              "1                 1              0       Full-time      Not Applicable   \n",
              "2                 1              0             NaN                 NaN   \n",
              "3                 1              0       Full-time    Mid-Senior level   \n",
              "4                 1              1       Full-time    Mid-Senior level   \n",
              "\n",
              "  required_education                   industry              function  \\\n",
              "0                NaN                        NaN             Marketing   \n",
              "1                NaN  Marketing and Advertising      Customer Service   \n",
              "2                NaN                        NaN                   NaN   \n",
              "3  Bachelor's Degree          Computer Software                 Sales   \n",
              "4  Bachelor's Degree     Hospital & Health Care  Health Care Provider   \n",
              "\n",
              "   fraudulent  \n",
              "0           0  \n",
              "1           0  \n",
              "2           0  \n",
              "3           0  \n",
              "4           0  "
            ],
            "text/html": [
              "\n",
              "  <div id=\"df-6acccbd8-4cea-40f2-b849-8067978c79f9\" class=\"colab-df-container\">\n",
              "    <div>\n",
              "<style scoped>\n",
              "    .dataframe tbody tr th:only-of-type {\n",
              "        vertical-align: middle;\n",
              "    }\n",
              "\n",
              "    .dataframe tbody tr th {\n",
              "        vertical-align: top;\n",
              "    }\n",
              "\n",
              "    .dataframe thead th {\n",
              "        text-align: right;\n",
              "    }\n",
              "</style>\n",
              "<table border=\"1\" class=\"dataframe\">\n",
              "  <thead>\n",
              "    <tr style=\"text-align: right;\">\n",
              "      <th></th>\n",
              "      <th>job_id</th>\n",
              "      <th>title</th>\n",
              "      <th>location</th>\n",
              "      <th>department</th>\n",
              "      <th>salary_range</th>\n",
              "      <th>company_profile</th>\n",
              "      <th>description</th>\n",
              "      <th>requirements</th>\n",
              "      <th>benefits</th>\n",
              "      <th>telecommuting</th>\n",
              "      <th>has_company_logo</th>\n",
              "      <th>has_questions</th>\n",
              "      <th>employment_type</th>\n",
              "      <th>required_experience</th>\n",
              "      <th>required_education</th>\n",
              "      <th>industry</th>\n",
              "      <th>function</th>\n",
              "      <th>fraudulent</th>\n",
              "    </tr>\n",
              "  </thead>\n",
              "  <tbody>\n",
              "    <tr>\n",
              "      <th>0</th>\n",
              "      <td>1</td>\n",
              "      <td>Marketing Intern</td>\n",
              "      <td>US, NY, New York</td>\n",
              "      <td>Marketing</td>\n",
              "      <td>NaN</td>\n",
              "      <td>We're Food52, and we've created a groundbreaki...</td>\n",
              "      <td>Food52, a fast-growing, James Beard Award-winn...</td>\n",
              "      <td>Experience with content management systems a m...</td>\n",
              "      <td>NaN</td>\n",
              "      <td>0</td>\n",
              "      <td>1</td>\n",
              "      <td>0</td>\n",
              "      <td>Other</td>\n",
              "      <td>Internship</td>\n",
              "      <td>NaN</td>\n",
              "      <td>NaN</td>\n",
              "      <td>Marketing</td>\n",
              "      <td>0</td>\n",
              "    </tr>\n",
              "    <tr>\n",
              "      <th>1</th>\n",
              "      <td>2</td>\n",
              "      <td>Customer Service - Cloud Video Production</td>\n",
              "      <td>NZ, , Auckland</td>\n",
              "      <td>Success</td>\n",
              "      <td>NaN</td>\n",
              "      <td>90 Seconds, the worlds Cloud Video Production ...</td>\n",
              "      <td>Organised - Focused - Vibrant - Awesome!Do you...</td>\n",
              "      <td>What we expect from you:Your key responsibilit...</td>\n",
              "      <td>What you will get from usThrough being part of...</td>\n",
              "      <td>0</td>\n",
              "      <td>1</td>\n",
              "      <td>0</td>\n",
              "      <td>Full-time</td>\n",
              "      <td>Not Applicable</td>\n",
              "      <td>NaN</td>\n",
              "      <td>Marketing and Advertising</td>\n",
              "      <td>Customer Service</td>\n",
              "      <td>0</td>\n",
              "    </tr>\n",
              "    <tr>\n",
              "      <th>2</th>\n",
              "      <td>3</td>\n",
              "      <td>Commissioning Machinery Assistant (CMA)</td>\n",
              "      <td>US, IA, Wever</td>\n",
              "      <td>NaN</td>\n",
              "      <td>NaN</td>\n",
              "      <td>Valor Services provides Workforce Solutions th...</td>\n",
              "      <td>Our client, located in Houston, is actively se...</td>\n",
              "      <td>Implement pre-commissioning and commissioning ...</td>\n",
              "      <td>NaN</td>\n",
              "      <td>0</td>\n",
              "      <td>1</td>\n",
              "      <td>0</td>\n",
              "      <td>NaN</td>\n",
              "      <td>NaN</td>\n",
              "      <td>NaN</td>\n",
              "      <td>NaN</td>\n",
              "      <td>NaN</td>\n",
              "      <td>0</td>\n",
              "    </tr>\n",
              "    <tr>\n",
              "      <th>3</th>\n",
              "      <td>4</td>\n",
              "      <td>Account Executive - Washington DC</td>\n",
              "      <td>US, DC, Washington</td>\n",
              "      <td>Sales</td>\n",
              "      <td>NaN</td>\n",
              "      <td>Our passion for improving quality of life thro...</td>\n",
              "      <td>THE COMPANY: ESRI – Environmental Systems Rese...</td>\n",
              "      <td>EDUCATION: Bachelor’s or Master’s in GIS, busi...</td>\n",
              "      <td>Our culture is anything but corporate—we have ...</td>\n",
              "      <td>0</td>\n",
              "      <td>1</td>\n",
              "      <td>0</td>\n",
              "      <td>Full-time</td>\n",
              "      <td>Mid-Senior level</td>\n",
              "      <td>Bachelor's Degree</td>\n",
              "      <td>Computer Software</td>\n",
              "      <td>Sales</td>\n",
              "      <td>0</td>\n",
              "    </tr>\n",
              "    <tr>\n",
              "      <th>4</th>\n",
              "      <td>5</td>\n",
              "      <td>Bill Review Manager</td>\n",
              "      <td>US, FL, Fort Worth</td>\n",
              "      <td>NaN</td>\n",
              "      <td>NaN</td>\n",
              "      <td>SpotSource Solutions LLC is a Global Human Cap...</td>\n",
              "      <td>JOB TITLE: Itemization Review ManagerLOCATION:...</td>\n",
              "      <td>QUALIFICATIONS:RN license in the State of Texa...</td>\n",
              "      <td>Full Benefits Offered</td>\n",
              "      <td>0</td>\n",
              "      <td>1</td>\n",
              "      <td>1</td>\n",
              "      <td>Full-time</td>\n",
              "      <td>Mid-Senior level</td>\n",
              "      <td>Bachelor's Degree</td>\n",
              "      <td>Hospital &amp; Health Care</td>\n",
              "      <td>Health Care Provider</td>\n",
              "      <td>0</td>\n",
              "    </tr>\n",
              "  </tbody>\n",
              "</table>\n",
              "</div>\n",
              "    <div class=\"colab-df-buttons\">\n",
              "\n",
              "  <div class=\"colab-df-container\">\n",
              "    <button class=\"colab-df-convert\" onclick=\"convertToInteractive('df-6acccbd8-4cea-40f2-b849-8067978c79f9')\"\n",
              "            title=\"Convert this dataframe to an interactive table.\"\n",
              "            style=\"display:none;\">\n",
              "\n",
              "  <svg xmlns=\"http://www.w3.org/2000/svg\" height=\"24px\" viewBox=\"0 -960 960 960\">\n",
              "    <path d=\"M120-120v-720h720v720H120Zm60-500h600v-160H180v160Zm220 220h160v-160H400v160Zm0 220h160v-160H400v160ZM180-400h160v-160H180v160Zm440 0h160v-160H620v160ZM180-180h160v-160H180v160Zm440 0h160v-160H620v160Z\"/>\n",
              "  </svg>\n",
              "    </button>\n",
              "\n",
              "  <style>\n",
              "    .colab-df-container {\n",
              "      display:flex;\n",
              "      gap: 12px;\n",
              "    }\n",
              "\n",
              "    .colab-df-convert {\n",
              "      background-color: #E8F0FE;\n",
              "      border: none;\n",
              "      border-radius: 50%;\n",
              "      cursor: pointer;\n",
              "      display: none;\n",
              "      fill: #1967D2;\n",
              "      height: 32px;\n",
              "      padding: 0 0 0 0;\n",
              "      width: 32px;\n",
              "    }\n",
              "\n",
              "    .colab-df-convert:hover {\n",
              "      background-color: #E2EBFA;\n",
              "      box-shadow: 0px 1px 2px rgba(60, 64, 67, 0.3), 0px 1px 3px 1px rgba(60, 64, 67, 0.15);\n",
              "      fill: #174EA6;\n",
              "    }\n",
              "\n",
              "    .colab-df-buttons div {\n",
              "      margin-bottom: 4px;\n",
              "    }\n",
              "\n",
              "    [theme=dark] .colab-df-convert {\n",
              "      background-color: #3B4455;\n",
              "      fill: #D2E3FC;\n",
              "    }\n",
              "\n",
              "    [theme=dark] .colab-df-convert:hover {\n",
              "      background-color: #434B5C;\n",
              "      box-shadow: 0px 1px 3px 1px rgba(0, 0, 0, 0.15);\n",
              "      filter: drop-shadow(0px 1px 2px rgba(0, 0, 0, 0.3));\n",
              "      fill: #FFFFFF;\n",
              "    }\n",
              "  </style>\n",
              "\n",
              "    <script>\n",
              "      const buttonEl =\n",
              "        document.querySelector('#df-6acccbd8-4cea-40f2-b849-8067978c79f9 button.colab-df-convert');\n",
              "      buttonEl.style.display =\n",
              "        google.colab.kernel.accessAllowed ? 'block' : 'none';\n",
              "\n",
              "      async function convertToInteractive(key) {\n",
              "        const element = document.querySelector('#df-6acccbd8-4cea-40f2-b849-8067978c79f9');\n",
              "        const dataTable =\n",
              "          await google.colab.kernel.invokeFunction('convertToInteractive',\n",
              "                                                    [key], {});\n",
              "        if (!dataTable) return;\n",
              "\n",
              "        const docLinkHtml = 'Like what you see? Visit the ' +\n",
              "          '<a target=\"_blank\" href=https://colab.research.google.com/notebooks/data_table.ipynb>data table notebook</a>'\n",
              "          + ' to learn more about interactive tables.';\n",
              "        element.innerHTML = '';\n",
              "        dataTable['output_type'] = 'display_data';\n",
              "        await google.colab.output.renderOutput(dataTable, element);\n",
              "        const docLink = document.createElement('div');\n",
              "        docLink.innerHTML = docLinkHtml;\n",
              "        element.appendChild(docLink);\n",
              "      }\n",
              "    </script>\n",
              "  </div>\n",
              "\n",
              "\n",
              "<div id=\"df-51051c0c-9bbb-4834-a6d3-18d37f83dbc9\">\n",
              "  <button class=\"colab-df-quickchart\" onclick=\"quickchart('df-51051c0c-9bbb-4834-a6d3-18d37f83dbc9')\"\n",
              "            title=\"Suggest charts\"\n",
              "            style=\"display:none;\">\n",
              "\n",
              "<svg xmlns=\"http://www.w3.org/2000/svg\" height=\"24px\"viewBox=\"0 0 24 24\"\n",
              "     width=\"24px\">\n",
              "    <g>\n",
              "        <path d=\"M19 3H5c-1.1 0-2 .9-2 2v14c0 1.1.9 2 2 2h14c1.1 0 2-.9 2-2V5c0-1.1-.9-2-2-2zM9 17H7v-7h2v7zm4 0h-2V7h2v10zm4 0h-2v-4h2v4z\"/>\n",
              "    </g>\n",
              "</svg>\n",
              "  </button>\n",
              "\n",
              "<style>\n",
              "  .colab-df-quickchart {\n",
              "      --bg-color: #E8F0FE;\n",
              "      --fill-color: #1967D2;\n",
              "      --hover-bg-color: #E2EBFA;\n",
              "      --hover-fill-color: #174EA6;\n",
              "      --disabled-fill-color: #AAA;\n",
              "      --disabled-bg-color: #DDD;\n",
              "  }\n",
              "\n",
              "  [theme=dark] .colab-df-quickchart {\n",
              "      --bg-color: #3B4455;\n",
              "      --fill-color: #D2E3FC;\n",
              "      --hover-bg-color: #434B5C;\n",
              "      --hover-fill-color: #FFFFFF;\n",
              "      --disabled-bg-color: #3B4455;\n",
              "      --disabled-fill-color: #666;\n",
              "  }\n",
              "\n",
              "  .colab-df-quickchart {\n",
              "    background-color: var(--bg-color);\n",
              "    border: none;\n",
              "    border-radius: 50%;\n",
              "    cursor: pointer;\n",
              "    display: none;\n",
              "    fill: var(--fill-color);\n",
              "    height: 32px;\n",
              "    padding: 0;\n",
              "    width: 32px;\n",
              "  }\n",
              "\n",
              "  .colab-df-quickchart:hover {\n",
              "    background-color: var(--hover-bg-color);\n",
              "    box-shadow: 0 1px 2px rgba(60, 64, 67, 0.3), 0 1px 3px 1px rgba(60, 64, 67, 0.15);\n",
              "    fill: var(--button-hover-fill-color);\n",
              "  }\n",
              "\n",
              "  .colab-df-quickchart-complete:disabled,\n",
              "  .colab-df-quickchart-complete:disabled:hover {\n",
              "    background-color: var(--disabled-bg-color);\n",
              "    fill: var(--disabled-fill-color);\n",
              "    box-shadow: none;\n",
              "  }\n",
              "\n",
              "  .colab-df-spinner {\n",
              "    border: 2px solid var(--fill-color);\n",
              "    border-color: transparent;\n",
              "    border-bottom-color: var(--fill-color);\n",
              "    animation:\n",
              "      spin 1s steps(1) infinite;\n",
              "  }\n",
              "\n",
              "  @keyframes spin {\n",
              "    0% {\n",
              "      border-color: transparent;\n",
              "      border-bottom-color: var(--fill-color);\n",
              "      border-left-color: var(--fill-color);\n",
              "    }\n",
              "    20% {\n",
              "      border-color: transparent;\n",
              "      border-left-color: var(--fill-color);\n",
              "      border-top-color: var(--fill-color);\n",
              "    }\n",
              "    30% {\n",
              "      border-color: transparent;\n",
              "      border-left-color: var(--fill-color);\n",
              "      border-top-color: var(--fill-color);\n",
              "      border-right-color: var(--fill-color);\n",
              "    }\n",
              "    40% {\n",
              "      border-color: transparent;\n",
              "      border-right-color: var(--fill-color);\n",
              "      border-top-color: var(--fill-color);\n",
              "    }\n",
              "    60% {\n",
              "      border-color: transparent;\n",
              "      border-right-color: var(--fill-color);\n",
              "    }\n",
              "    80% {\n",
              "      border-color: transparent;\n",
              "      border-right-color: var(--fill-color);\n",
              "      border-bottom-color: var(--fill-color);\n",
              "    }\n",
              "    90% {\n",
              "      border-color: transparent;\n",
              "      border-bottom-color: var(--fill-color);\n",
              "    }\n",
              "  }\n",
              "</style>\n",
              "\n",
              "  <script>\n",
              "    async function quickchart(key) {\n",
              "      const quickchartButtonEl =\n",
              "        document.querySelector('#' + key + ' button');\n",
              "      quickchartButtonEl.disabled = true;  // To prevent multiple clicks.\n",
              "      quickchartButtonEl.classList.add('colab-df-spinner');\n",
              "      try {\n",
              "        const charts = await google.colab.kernel.invokeFunction(\n",
              "            'suggestCharts', [key], {});\n",
              "      } catch (error) {\n",
              "        console.error('Error during call to suggestCharts:', error);\n",
              "      }\n",
              "      quickchartButtonEl.classList.remove('colab-df-spinner');\n",
              "      quickchartButtonEl.classList.add('colab-df-quickchart-complete');\n",
              "    }\n",
              "    (() => {\n",
              "      let quickchartButtonEl =\n",
              "        document.querySelector('#df-51051c0c-9bbb-4834-a6d3-18d37f83dbc9 button');\n",
              "      quickchartButtonEl.style.display =\n",
              "        google.colab.kernel.accessAllowed ? 'block' : 'none';\n",
              "    })();\n",
              "  </script>\n",
              "</div>\n",
              "\n",
              "    </div>\n",
              "  </div>\n"
            ],
            "application/vnd.google.colaboratory.intrinsic+json": {
              "type": "dataframe",
              "variable_name": "job_desc_df",
              "summary": "{\n  \"name\": \"job_desc_df\",\n  \"rows\": 17880,\n  \"fields\": [\n    {\n      \"column\": \"job_id\",\n      \"properties\": {\n        \"dtype\": \"number\",\n        \"std\": 5161,\n        \"min\": 1,\n        \"max\": 17880,\n        \"num_unique_values\": 17880,\n        \"samples\": [\n          4709,\n          11080,\n          12358\n        ],\n        \"semantic_type\": \"\",\n        \"description\": \"\"\n      }\n    },\n    {\n      \"column\": \"title\",\n      \"properties\": {\n        \"dtype\": \"string\",\n        \"num_unique_values\": 11231,\n        \"samples\": [\n          \"Environmental Lab Technician\",\n          \"Junior Designer\",\n          \"Case Handler\"\n        ],\n        \"semantic_type\": \"\",\n        \"description\": \"\"\n      }\n    },\n    {\n      \"column\": \"location\",\n      \"properties\": {\n        \"dtype\": \"category\",\n        \"num_unique_values\": 3105,\n        \"samples\": [\n          \"US, VA, Arlington\",\n          \"US, AL, Dothan\",\n          \"US, CA, Long Beach\"\n        ],\n        \"semantic_type\": \"\",\n        \"description\": \"\"\n      }\n    },\n    {\n      \"column\": \"department\",\n      \"properties\": {\n        \"dtype\": \"category\",\n        \"num_unique_values\": 1337,\n        \"samples\": [\n          \"Finance team\",\n          \"Product Ops\",\n          \"Engineering - Hardware\"\n        ],\n        \"semantic_type\": \"\",\n        \"description\": \"\"\n      }\n    },\n    {\n      \"column\": \"salary_range\",\n      \"properties\": {\n        \"dtype\": \"category\",\n        \"num_unique_values\": 874,\n        \"samples\": [\n          \"60000-130000\",\n          \"30000-450000\",\n          \"120000-130000\"\n        ],\n        \"semantic_type\": \"\",\n        \"description\": \"\"\n      }\n    },\n    {\n      \"column\": \"company_profile\",\n      \"properties\": {\n        \"dtype\": \"category\",\n        \"num_unique_values\": 1709,\n        \"samples\": [\n          \"WHY WORK AT IMAGINET\\u00a0\\u201cWorking at Imaginet is great! I get to work with leading edge technology as well as the some of the best developers, project managers and management in the industry.\\u201d\\u00a0-- Evan Bosscher, Application Developer at Imaginet\\u201cImaginet enables me to use the latest tools and platforms to solve complex and challenging problems and encourages me to continue growing in my application development career.\\u00a0 My peers at Imaginet are some of the best and brightest developers in the country.\\u201d\\u00a0-- Tyler Doerksen, Cloud Application Specialist at Imaginet\\u00a0At Imaginet, our clients look to us to help them with their toughest projects using the newest technologies.\\u00a0 We are the technology partner who tames their chaos, who turns disruption into steady state and makes the unknown more predictable.\\u00a0 We are at the forefront of emerging technology trends, new product releases and shifts in the software development industry.\\u00a0 We are constantly learning about, and experimenting with the latest and greatest software platforms, controls, processes and design patterns.\\u00a0Our current projects include:\\u2022\\u00a0\\u00a0\\u00a0\\u00a0\\u00a0\\u00a0\\u00a0\\u00a0\\u00a0\\u00a0\\u00a0\\u00a0 Enterprise Mobility \\u2022\\u00a0\\u00a0\\u00a0\\u00a0\\u00a0\\u00a0\\u00a0\\u00a0\\u00a0\\u00a0\\u00a0\\u00a0 Dev Ops \\u2022\\u00a0\\u00a0\\u00a0\\u00a0\\u00a0\\u00a0\\u00a0\\u00a0\\u00a0\\u00a0\\u00a0\\u00a0 Business Intelligence \\u2022\\u00a0\\u00a0\\u00a0\\u00a0\\u00a0\\u00a0\\u00a0\\u00a0\\u00a0\\u00a0\\u00a0\\u00a0 Scrum/Lean/Kanban \\u2022\\u00a0\\u00a0\\u00a0\\u00a0\\u00a0\\u00a0\\u00a0\\u00a0\\u00a0\\u00a0\\u00a0\\u00a0 Enterprise Content ManagementIf you are passionate about being part of a leading edge software development team with a commitment to continuous learning, we want you as part of the Imaginet team.BalancePeople lead dynamic lives and not all personal commitments lie outside of 9-5.\\u00a0 At Imaginet, we recognize that our employees need the flexibility to support their families, hobbies, charities, and other interests to stay motivated and fulfilled.\\u00a0 Many employees work partially from home, start/stop work at different times or telecommute from a home office.\\u00a0 At Imaginet, it is passion and performance that counts, not which hours in the day you sit in the office.Personal DevelopmentWe want the best and brightest minds working with us.\\u00a0 Our employees are recognized thought leaders in software development and we encourage continued learning.\\u00a0Imaginet employees who wish to write exams are subsidized upon the completion of technical certifications and can receive raises for exemplary results.\\u00a0 We fund and encourage our employee\\u2019s participation at conferences with special interest in those who can speak on niche software development topics and practices. Imaginet has more Microsoft MVPs on staff per capita than any other Microsoft partner and we encourage employees to attend the MVP summits at Microsoft in Redmond.\\u00a0 Imaginet employees are very active in the local software community and lead .NET user groups in many of our employees residing cities.\\u00a0 We also encourage our employees to present internally via \\u201clunch and learns\\u201d on topics of interest.Compensation\\u00a0\\u00a0\\u00a0\\u00a0\\u00a0\\u00a0\\u00a0\\u00a0\\u00a0\\u00a0\\u00a0\\u00a0\\u00a0\\u00a0\\u00a0\\u00a0\\u00a0\\u00a0\\u00a0\\u00a0\\u00a0\\u00a0\\u00a0\\u00a0\\u00a0\\u00a0\\u00a0\\u00a0\\u00a0\\u00a0\\u00a0\\u00a0\\u00a0\\u00a0\\u00a0\\u00a0\\u00a0\\u00a0\\u00a0\\u00a0\\u00a0\\u00a0\\u00a0\\u00a0\\u00a0\\u00a0\\u00a0\\u00a0\\u00a0\\u00a0\\u00a0\\u00a0Even though Imaginet is a great place to work, it\\u2019s still a job and you want to be paid.\\u00a0 We pride ourselves on our \\u2018promote from within\\u2019 philosophy and provide competitive compensations. We provide excellent health care benefits including eye, dental and disability.\\u00a0 We also offer overtime to our employees that want to work extra hours on select projects.Recognized LeadersImaginet is globally recognized within the software industry as a premier consulting and software development organization.\\u00a0 We are a multiple Microsoft Gold Partner, Telerik Gold Partner, #URL_eb33f3e87ac1203366e8701171cb1ef8a42857099f85613b3b7f029ffb751723# Partner and a founding member of the Lean Kanban University.\\u00a0\\u00a0 We are invited to speak at conferences around the world and have published numerous books under Microsoft Press.\\u00a0 In addition, we have many Microsoft MVPs, Virtual Technical Specialists (VTSs) and Regional Directors on staff.\\u00a0Our experience spans over 2,400 engagements, 1,100 clients, and over 17 years.\\u00a0 We are the world leaders in ALM on the Microsoft platform and 1st Ever Winner of the Global Microsoft Partner of the Year Award in ALM.\",\n          \"Bluesmart is an early stage startup that is re-defining the way that we travel. We are currently in stealth mode, but we are planning to unveil our first product to the world very soon! We are a group of seasoned entrepreneurs with experience building companies in retail, travel, mobile applications, and product design. We are highly international, with our team splitting time between New York and Buenos Aires. Join us, and we guarantee that you will learn a lot, meet interesting people, and have fun at the same time.\",\n          \"Softomotive Ltd is a Software Development company located in Athens, Greece. We specialize in Process Automation software and our customers range from individual users to large Fortune500 companies all over the world.\"\n        ],\n        \"semantic_type\": \"\",\n        \"description\": \"\"\n      }\n    },\n    {\n      \"column\": \"description\",\n      \"properties\": {\n        \"dtype\": \"string\",\n        \"num_unique_values\": 14801,\n        \"samples\": [\n          \"EvergiveEvergive was born from a simple desire to donate in search of an easy way to transact.From these simple roots, Evergive grew into a transformative platform that improves and enhances the entire fundraising ecosystem. Our goal is to help nonprofits be more successful in their mission by providing technology to support the donor lifecycle and to provide a better fundraising experience. Partners think of us as a mobile presence for their organization.Evergive is designed to keep individuals connected to the causes and organizations they support. Whether you support a church, a school, a community group or a friend's cause - Evergive simplifies and enhances giving.We are located near Caltrain in Palo Alto, CA and backed by some of Silicon Valley's top investors.Engagement Marketing ManagerThe right candidate for this position is a smart, outside-the-box thinker who is ready to create and implement marketing strategies and excited to analyze engagement to make smarter marketing decisions. We're looking for someone creative and independent who doesn't sleep until goals are accomplished.\\u00a0We love candidates who have overcome adversity and created something out of nothing.\\u00a0This is a position with a lot of potential for growth and ownership, helping define our brand, identity and strategy at our partner organizations.\\u00a0On a daily basis, you will...* Give updates on engagement per partner and progress against our goals* Keep in touch with the partners through calls and visits to make sure their program is on track* Construct creative marketing campaigns to increase awareness of the Evergive platform within our partner communities* Run user engagement at Evergive, constructing and testing the email notification system for donors* Writing the partner adoption playbook, ensuring that we track and measure how we launched a new account and never repeat something that doesn't work\",\n          \"To work on analytics modelling using desktop and programming tools (R, SPSS) on business data in a financial investment institution.\",\n          \"We\\u2019re hiring a talented full time in-house web developer to join our team at The Mobile Majority.Responsibilities include:Developing stunning web applications by writing pixel perfect code.Efficiently communicating current tasks, issues, and recommendations on front end development tasks.Effectively gathering user input and bug reports an push updates accordingly.The Mobile Majority is a rapidly growing ad tech startup based in Santa Monica,\\u00a0CA, with offices in New York City, San Francisco, Chicago, Sao Paolo and Ho Chi\\u00a0Min City. We have been honored as the 'Best Creative Technology' by the American\\u00a0Association of Advertising Agencies and won 'Best Series A' By the Los Angeles\\u00a0Venture Association.\\u00a0We have raised $21M, and do business with some of the biggest brands in the world (Chase Bank, Unilever, Paramount, Warner Brothers, State Farm Insurance, Hershey\\u2019s, Clorox and Time Warner Cable, to name a few).The Mobile Majority has a culture of engineering focused, data-driven decision-making, and demands business intelligence that is timely, accurate, and actionable. \\u00a0As a key member of a small and versatile team, you will be responsible to design, test, deploy and maintain software solutions.\"\n        ],\n        \"semantic_type\": \"\",\n        \"description\": \"\"\n      }\n    },\n    {\n      \"column\": \"requirements\",\n      \"properties\": {\n        \"dtype\": \"string\",\n        \"num_unique_values\": 11967,\n        \"samples\": [\n          \"Minimum LPN (Licensed Practical Nurse) current license requiredMinimum\\u00a05 years\\u2019 experience as an LPNSolid computer skills (Microsoft applications) a MUSTMust be detail orientedKnowledge of MedWatch REQUIREDKnowledge of prescription medication, dietary supplements and common side effects of bothKnowledge of medical terminologyDemonstrated experience with Nutrition, elder care and quality improvement preferredStrong communication skills to communicate information verbally and in writing so that others can understandCustomer service skillsAbility to file and retrieve informationAbility to keep information confidentialAbility to interface with multiple levels of leadershipAbility to work independentlyAbility to multitask and work independentlyAbility to sit for long periods of timeAbility to lift 5 pounds\",\n          \"Significant experience with direct recruiting processes (not in a staffing firm), interview methods, and reference-checking.Organized and detail oriented but capable of prioritizing actions based on known objectives in any project.Self-starter capable of demonstrating the resourcefulness needed in a startup environment where objectives will change regularly.A good communicator capable of writing and speaking concisely and professionally with colleagues and external stakeholders.Experience running a small business or an office in a B2B business service environment desirable.Good skills using web-based applications, Google Apps, Google Docs, MS Word, MS Excel, and capable of quickly learning new tools.Comfortable working in a remote environment where colleagues may be located in multiple locations nationally.\",\n          \"Good knowledge of display advertising eco-system, advantageous with RTB knowledgeProactive, solution-oriented and with a lot of customer contact in your previous jobsStrong communication and presentation skills, both written and oralUnderstanding of data and its importance in business analysisFamiliarity with Excel features such as macros, pivots and data connections is a mustTravel may be requiredFluent in Polish and English\"\n        ],\n        \"semantic_type\": \"\",\n        \"description\": \"\"\n      }\n    },\n    {\n      \"column\": \"benefits\",\n      \"properties\": {\n        \"dtype\": \"category\",\n        \"num_unique_values\": 6204,\n        \"samples\": [\n          \"Ability to work independentlyClassy London office in ShoreditchTrips to different countries for events.Young dynamic team.\",\n          \"This is a part-time contracted employee position for long-term engagement. Sixteen-hour per week schedule and location are flexible, with a required minimum of eight hours per week in our Manhattan office, including attendance at weekly staff meetings. This position is non-exempt, without benefits.\",\n          \"What we offer:You work \\u201cat the core\\u201d; you take a substantial role in developing and running the backend of our ecommerce application that serves 1 billion requests per monthYou work on interesting stuff; we spent a lot of time optimizing our systems that deal with tens of millions of records, implementing complex business logic and even writing recommendation enginesYou work in a small backend team\\u00a0(&lt;5 devs) together with our frontend/rails team (10 devs)We have a culture of open-sourcing our backend systemsFlexible working hours and very flat hierarchiesAn appropriate amount of dirty, dirty moneyYou work in a beautiful loft in Berlin CharlottenburgAll emails, meetings, etc. are in English, you work in a very international team\"\n        ],\n        \"semantic_type\": \"\",\n        \"description\": \"\"\n      }\n    },\n    {\n      \"column\": \"telecommuting\",\n      \"properties\": {\n        \"dtype\": \"number\",\n        \"std\": 0,\n        \"min\": 0,\n        \"max\": 1,\n        \"num_unique_values\": 2,\n        \"samples\": [\n          1,\n          0\n        ],\n        \"semantic_type\": \"\",\n        \"description\": \"\"\n      }\n    },\n    {\n      \"column\": \"has_company_logo\",\n      \"properties\": {\n        \"dtype\": \"number\",\n        \"std\": 0,\n        \"min\": 0,\n        \"max\": 1,\n        \"num_unique_values\": 2,\n        \"samples\": [\n          0,\n          1\n        ],\n        \"semantic_type\": \"\",\n        \"description\": \"\"\n      }\n    },\n    {\n      \"column\": \"has_questions\",\n      \"properties\": {\n        \"dtype\": \"number\",\n        \"std\": 0,\n        \"min\": 0,\n        \"max\": 1,\n        \"num_unique_values\": 2,\n        \"samples\": [\n          1,\n          0\n        ],\n        \"semantic_type\": \"\",\n        \"description\": \"\"\n      }\n    },\n    {\n      \"column\": \"employment_type\",\n      \"properties\": {\n        \"dtype\": \"category\",\n        \"num_unique_values\": 5,\n        \"samples\": [\n          \"Full-time\",\n          \"Temporary\"\n        ],\n        \"semantic_type\": \"\",\n        \"description\": \"\"\n      }\n    },\n    {\n      \"column\": \"required_experience\",\n      \"properties\": {\n        \"dtype\": \"category\",\n        \"num_unique_values\": 7,\n        \"samples\": [\n          \"Internship\",\n          \"Not Applicable\"\n        ],\n        \"semantic_type\": \"\",\n        \"description\": \"\"\n      }\n    },\n    {\n      \"column\": \"required_education\",\n      \"properties\": {\n        \"dtype\": \"category\",\n        \"num_unique_values\": 13,\n        \"samples\": [\n          \"Vocational - Degree\",\n          \"Doctorate\"\n        ],\n        \"semantic_type\": \"\",\n        \"description\": \"\"\n      }\n    },\n    {\n      \"column\": \"industry\",\n      \"properties\": {\n        \"dtype\": \"category\",\n        \"num_unique_values\": 131,\n        \"samples\": [\n          \"Publishing\",\n          \"Music\"\n        ],\n        \"semantic_type\": \"\",\n        \"description\": \"\"\n      }\n    },\n    {\n      \"column\": \"function\",\n      \"properties\": {\n        \"dtype\": \"category\",\n        \"num_unique_values\": 37,\n        \"samples\": [\n          \"Human Resources\",\n          \"Business Development\"\n        ],\n        \"semantic_type\": \"\",\n        \"description\": \"\"\n      }\n    },\n    {\n      \"column\": \"fraudulent\",\n      \"properties\": {\n        \"dtype\": \"number\",\n        \"std\": 0,\n        \"min\": 0,\n        \"max\": 1,\n        \"num_unique_values\": 2,\n        \"samples\": [\n          1,\n          0\n        ],\n        \"semantic_type\": \"\",\n        \"description\": \"\"\n      }\n    }\n  ]\n}"
            }
          },
          "metadata": {},
          "execution_count": 4
        }
      ]
    },
    {
      "cell_type": "code",
      "source": [
        "(job_desc_df.isna().sum() / len(job_desc_df)) * 100"
      ],
      "metadata": {
        "id": "h0MSb6JeX3re",
        "collapsed": true,
        "colab": {
          "base_uri": "https://localhost:8080/"
        },
        "outputId": "12c6beb4-2791-4011-bd5d-330008097460"
      },
      "execution_count": null,
      "outputs": [
        {
          "output_type": "execute_result",
          "data": {
            "text/plain": [
              "job_id                  0.000000\n",
              "title                   0.000000\n",
              "location                1.935123\n",
              "department             64.580537\n",
              "salary_range           83.959732\n",
              "company_profile        18.501119\n",
              "description             0.005593\n",
              "requirements           15.078300\n",
              "benefits               40.335570\n",
              "telecommuting           0.000000\n",
              "has_company_logo        0.000000\n",
              "has_questions           0.000000\n",
              "employment_type        19.412752\n",
              "required_experience    39.429530\n",
              "required_education     45.329978\n",
              "industry               27.421700\n",
              "function               36.101790\n",
              "fraudulent              0.000000\n",
              "dtype: float64"
            ],
            "text/html": [
              "<div>\n",
              "<style scoped>\n",
              "    .dataframe tbody tr th:only-of-type {\n",
              "        vertical-align: middle;\n",
              "    }\n",
              "\n",
              "    .dataframe tbody tr th {\n",
              "        vertical-align: top;\n",
              "    }\n",
              "\n",
              "    .dataframe thead th {\n",
              "        text-align: right;\n",
              "    }\n",
              "</style>\n",
              "<table border=\"1\" class=\"dataframe\">\n",
              "  <thead>\n",
              "    <tr style=\"text-align: right;\">\n",
              "      <th></th>\n",
              "      <th>0</th>\n",
              "    </tr>\n",
              "  </thead>\n",
              "  <tbody>\n",
              "    <tr>\n",
              "      <th>job_id</th>\n",
              "      <td>0.000000</td>\n",
              "    </tr>\n",
              "    <tr>\n",
              "      <th>title</th>\n",
              "      <td>0.000000</td>\n",
              "    </tr>\n",
              "    <tr>\n",
              "      <th>location</th>\n",
              "      <td>1.935123</td>\n",
              "    </tr>\n",
              "    <tr>\n",
              "      <th>department</th>\n",
              "      <td>64.580537</td>\n",
              "    </tr>\n",
              "    <tr>\n",
              "      <th>salary_range</th>\n",
              "      <td>83.959732</td>\n",
              "    </tr>\n",
              "    <tr>\n",
              "      <th>company_profile</th>\n",
              "      <td>18.501119</td>\n",
              "    </tr>\n",
              "    <tr>\n",
              "      <th>description</th>\n",
              "      <td>0.005593</td>\n",
              "    </tr>\n",
              "    <tr>\n",
              "      <th>requirements</th>\n",
              "      <td>15.078300</td>\n",
              "    </tr>\n",
              "    <tr>\n",
              "      <th>benefits</th>\n",
              "      <td>40.335570</td>\n",
              "    </tr>\n",
              "    <tr>\n",
              "      <th>telecommuting</th>\n",
              "      <td>0.000000</td>\n",
              "    </tr>\n",
              "    <tr>\n",
              "      <th>has_company_logo</th>\n",
              "      <td>0.000000</td>\n",
              "    </tr>\n",
              "    <tr>\n",
              "      <th>has_questions</th>\n",
              "      <td>0.000000</td>\n",
              "    </tr>\n",
              "    <tr>\n",
              "      <th>employment_type</th>\n",
              "      <td>19.412752</td>\n",
              "    </tr>\n",
              "    <tr>\n",
              "      <th>required_experience</th>\n",
              "      <td>39.429530</td>\n",
              "    </tr>\n",
              "    <tr>\n",
              "      <th>required_education</th>\n",
              "      <td>45.329978</td>\n",
              "    </tr>\n",
              "    <tr>\n",
              "      <th>industry</th>\n",
              "      <td>27.421700</td>\n",
              "    </tr>\n",
              "    <tr>\n",
              "      <th>function</th>\n",
              "      <td>36.101790</td>\n",
              "    </tr>\n",
              "    <tr>\n",
              "      <th>fraudulent</th>\n",
              "      <td>0.000000</td>\n",
              "    </tr>\n",
              "  </tbody>\n",
              "</table>\n",
              "</div><br><label><b>dtype:</b> float64</label>"
            ]
          },
          "metadata": {},
          "execution_count": 5
        }
      ]
    },
    {
      "cell_type": "markdown",
      "source": [
        "For missing values, such as `salary_range`, `company_profile`, `requirements`, `employment_type`, `required_experience`, `required_education`, `industry`, and `function`, values that represent missing information will be substitued for NaN.\n",
        "\n",
        "This is done with the impression that several of these columns will be used in training and testing our model, so simply dropping NaN values is not in our best interest"
      ],
      "metadata": {
        "id": "zawjPLZ7zn4V"
      }
    },
    {
      "cell_type": "markdown",
      "source": [
        "#### `department` Column"
      ],
      "metadata": {
        "id": "Z4pPz9SV3wuc"
      }
    },
    {
      "cell_type": "code",
      "source": [
        "#Changing `Nan` values and other values indicating a lack of information with the 'Not Provided' string\n",
        "job_desc_df['department'] = job_desc_df['department'].replace(['Unknown', 'nan', '...', '0', ' '], np.nan)\n",
        "job_desc_df['department'] = job_desc_df['department'].fillna('Not Provided')\n",
        "\n",
        "#Sanity Check\n",
        "assert job_desc_df['department'].isna().sum() == 0, 'NaN values in `department` column'"
      ],
      "metadata": {
        "id": "oiXRESvN31v7"
      },
      "execution_count": null,
      "outputs": []
    },
    {
      "cell_type": "markdown",
      "source": [
        "Consolidating departments to streamline analysis and model building"
      ],
      "metadata": {
        "id": "haB1xN_LtMQb"
      }
    },
    {
      "cell_type": "code",
      "source": [
        "department_mapping = {\n",
        "    \"Marketing\": [\"Marketing\", \"MKT\", \"MKTG\", \"Marketing and Communications\", \"Marketing – Pame Stoixima\",\n",
        "                  \"Marketing & Sales\", \"Marketing / Customer Service\", \"Marketing Department\", \"Marketing team\",\n",
        "                  \"Marketing & Design\", \"Marketing, Sales\", \"Marketing Intern\"],\n",
        "\n",
        "    \"Sales\": [\"Sales\", \"Sales and Business Development\", \"Sales and Marketing\", \"Sales & Marketing\",\n",
        "              \"Sales Team\", \"Inside Sales\", \"Inside Sales Team\", \"Local Sales\", \"New Business Sales\",\n",
        "              \"Field Sales\", \"Sales - USA\", \"Sales Department\", \"Sales / BD\", \"Sales / Marketing\",\n",
        "              \"Sales&Support\", \"Sales/Marketing\", \"Sales / Engineering\", \"Outbound Sales\"],\n",
        "\n",
        "    \"Human Resources\": [\"HR\", \"Human Resources\", \"Recruiting HR\", \"HR Manager\", \"Recruitment\",\n",
        "                        \"Recruitment \", \"People & Culture\", \"Organisational Development\"],\n",
        "\n",
        "    \"Customer Service\": [\"Customer Service\", \"Customer Care\", \"Servicing-Customer Care\",\n",
        "                         \"Customer Support\", \"Customer and Compliance\", \"Client Services\",\n",
        "                         \"Member Services\", \"Client Success\", \"CustomerSuccess\", \"Customer Experience\",\n",
        "                         \"Customer Service Rep.\", \"Customer Champion\", \"Customer Happiness\"],\n",
        "\n",
        "    \"Engineering\": [\"Engineering\", \"Engineering \", \"Engineeering\", \"Engineering:Software Engineering\",\n",
        "                    \"Engineering:Dev Ops\", \"Software Engineering\", \"Electrical\", \"Engineers\",\n",
        "                    \"Engineering - Construction\", \"Engineering, Pipeline Design\", \"Design Engineering\"],\n",
        "\n",
        "     \"Technology\": [\"Software Development\", \"Software Engineering\", \"Application Development\",\n",
        "                    \"Front-End Development\", \"Back-End Development\", \"Web Development\",\n",
        "                    \"Mobile Development\", \"Game Design and Development\", \"Software / IT\",\n",
        "                    \"Tech\", \"Programming\", \"Engineering: Software Engineering\", \"Engineering: Dev Ops\",\n",
        "                    \"Development\", \"Technology\", \"Digital Design\", \"UI/UX Design\",\n",
        "                    \"UX Practice\", \"UX/API\", \"Digital Marketing\", \"Digital Department\",\n",
        "                    \"Dev and Software QA\", \"Dev - Web Team\"],\n",
        "\n",
        "\n",
        "    \"IT\": [\"IT\", \"IT Department\", \"IT Team\", \"IT Solution\", \"IT Sales\",\n",
        "           \"Information Technology\", \"Information Technology Group\",\n",
        "           \"Computer / Software\", \"IT Support\", \"IT Services\", \"IT Operations\",\n",
        "           \"Server Administration\", \"Infrastructure & Operations\", \"Infrastructure Support Services\",\n",
        "           \"Network Operations Center\", \"System Operations\", \"Technical Support\",\n",
        "           \"Security\", \"Cybersecurity\", \"Cloud Services\", \"CloudSpotter Technologies\",\n",
        "           \"Admin/Clerical\", \"Help Desk\"],\n",
        "\n",
        "    \"Operations\": [\"Operations\", \"Operations \", \"Infrastructure & Operations\",\n",
        "                   \"Infrastructure Support Services\", \"Field Operations\", \"Online Operations\",\n",
        "                   \"Business Operations\", \"Businessfriend.com\", \"Platform\", \"Business Development\",\n",
        "                   \"Strategic Initiatives\", \"Facility\", \"Facilities / Maintenance\"],\n",
        "\n",
        "    \"Finance & Accounting\": [\"Finance\", \"Financial\", \"Finance/Securities\", \"Finance and Operations\",\n",
        "                              \"Accounting\", \"Accounting / Finance\", \"Accounting & Finance\",\n",
        "                              \"Finance & Accounting\", \"Financial Services\"],\n",
        "\n",
        "    \"Product Management & Development\": [\"Product\", \"Product Management\", \"Product Team\",\n",
        "                                         \"Product Marketing\", \"Product & Innovation\",\n",
        "                                         \"Product Development\", \"Product Development Team\",\n",
        "                                         \"Product Innovation\", \"Product Development - Test\"],\n",
        "\n",
        "    \"Research & Development\": [\"R&D\", \"R&D Department\", \"Research\", \"Research & Development\",\n",
        "                                \"Development\", \"Development \", \"Development Dpt\", \"Development & Support\"],\n",
        "\n",
        "    \"Manufacturing & Production\": [\"Manufacturing\", \"Manufacturing & Production\", \"Production\",\n",
        "                                    \"Production \", \"Manufacturing - Quality\"],\n",
        "\n",
        "    \"Legal & Compliance\": [\"Legal\", \"Legal Services\", \"Finance, legal & compliance\",\n",
        "                            \"Compliance\", \"RISK MANAGEMENT \", \"Contracts\", \"AML\", \"FRAUD DEPT\"],\n",
        "\n",
        "    \"Administrative\": [\"Admin\", \"Administration\", \"Administrative\", \"Administrative Office\",\n",
        "                       \"Administration \", \"Management\", \"Management Team\", \"Upper Level Management\",\n",
        "                       \"Lower Level Management\", \"Entry Level Supervision\"],\n",
        "\n",
        "    \"Healthcare\": [\"Medical\", \"Healthcare\", \"Health Services\", \"Health and Social\", \"Health and Social \",\n",
        "                   \"Family Medicine\", \"Nursing\", \"Physical Therapy\", \"Healthcare Industries\"],\n",
        "\n",
        "    \"Creative & Design\": [\"Creative\", \"Creative Services\", \"Creative Department\", \"Design\",\n",
        "                          \"Designing\", \"Graphic Design\", \"Digital Design\", \"Design & Interface\",\n",
        "                          \"Design & Marketing\", \"Design/Architecture\"],\n",
        "\n",
        "    \"Media & Communications\": [\"Media\", \"Social Media\", \"Social Media Promotion\",\n",
        "                                \"Social Media Services\", \"Public Relations\", \"PR\",\n",
        "                                \"Public Relations & Communication\", \"Marketing & Communications\",\n",
        "                                \"Content Programming\", \"Broadcasting\"],\n",
        "\n",
        "    \"Project Management\": [\"Project Management\", \"Project Management \", \"Projects\",\n",
        "                            \"Program\", \"Programs\", \"Campaigns\", \"Partnerships\"],\n",
        "\n",
        "    \"Retail & Consumer\": [\"Retail\", \"Retail Pharmacy\", \"Grocery Stores\", \"Merchandising\",\n",
        "                           \"Merchandising \", \"Consumer\", \"Auto Sales\"],\n",
        "\n",
        "    \"Business Consulting\": [\"Consulting\", \"Professional Services\", \"Professional Services Team\",\n",
        "                             \"Business Consultancy\", \"Advisory\", \"Business Intelligence\"],\n",
        "\n",
        "    \"Education & Training\": [\"Education\", \"Instructor\", \"Academic\", \"Student Financial Services\",\n",
        "                              \"Community Training Center\", \"Training\"],\n",
        "\n",
        "    \"Logistics & Supply Chain\": [\"Logistics\", \"Supply\", \"Supply & Chain\", \"Transport\",\n",
        "                                  \"Shipping\", \"Warehouse\", \"Warehouse \"],\n",
        "\n",
        "    \"Hospitality & Food Services\": [\"Catering\", \"Food\", \"Food and Beverage\", \"Restaurant\",\n",
        "                                     \"Hotel\", \"Hospitality\"],\n",
        "\n",
        "    \"Quality Assurance & Testing\": [\"Quality Assurance\", \"Quality Engineering\", \"QA\",\n",
        "                                     \"Testing\", \"Solution Test\", \"Integration & Testing\"],\n",
        "\n",
        "    \"Government & Public Sector\": [\"Government\", \"Public Affairs\", \"Administration support\",\n",
        "                                    \"Head Office\", \"State of Indiana\"]\n",
        "}\n"
      ],
      "metadata": {
        "id": "Os0NT3iir50p"
      },
      "execution_count": null,
      "outputs": []
    },
    {
      "cell_type": "code",
      "source": [
        "def standardize_department(department_name):\n",
        "    for standard, variations in department_mapping.items():\n",
        "        if department_name in variations:\n",
        "            return standard\n",
        "    return 'Not Provided'  # Default if no match is found\n",
        "\n",
        "job_desc_df['Standardized_Department'] = job_desc_df['department'].apply(standardize_department)"
      ],
      "metadata": {
        "id": "kVDNeckquExL"
      },
      "execution_count": null,
      "outputs": []
    },
    {
      "cell_type": "markdown",
      "source": [
        "#### `company_profile` Column"
      ],
      "metadata": {
        "id": "ZryCrO76BBpY"
      }
    },
    {
      "cell_type": "code",
      "source": [
        "#Changing `NaN` values with the 'Not Provided' string\n",
        "job_desc_df['company_profile'] = job_desc_df['company_profile'].fillna('Not Provided')\n",
        "\n",
        "#Sanity Check\n",
        "assert job_desc_df['company_profile'].isna().sum() == 0, 'NaN values in `company_profile` column'"
      ],
      "metadata": {
        "id": "BxMnLar-BG9n"
      },
      "execution_count": null,
      "outputs": []
    },
    {
      "cell_type": "markdown",
      "source": [
        "#### `Salary_Range` Column"
      ],
      "metadata": {
        "id": "zo2BoKe_2taD"
      }
    },
    {
      "cell_type": "markdown",
      "source": [
        "Cleaning the `salary_range` column of the dates, hourly rates instead of estimated annual salary and creating a `salary_diff` column for use in predictive model."
      ],
      "metadata": {
        "id": "SC5pBnlcFXSh"
      }
    },
    {
      "cell_type": "code",
      "source": [
        "#Function to extract and clean salary range column\n",
        "def extract_salary(salary_str):\n",
        "  if pd.isna(salary_str):\n",
        "    return np.nan, np.nan\n",
        "  salary_str = salary_str.replace('$', '').replace(',', '').lower()\n",
        "\n",
        "  if '/hour' in salary_str or 'hourly' in salary_str:\n",
        "    try:\n",
        "      hourly_rate = float(re.findall(r'\\d+', salary_str)[0])\n",
        "      annual_salary = hourly_rate * 40 * 52\n",
        "      return int(annual_salary * 0.9), int(annual_salary * 1.1)\n",
        "    except:\n",
        "      return np.nan, np.nan\n",
        "\n",
        "  if '-' in salary_str:\n",
        "    try:\n",
        "      min_salary, max_salary = salary_str.split('-')\n",
        "      return int(min_salary.strip()), int(max_salary.strip())\n",
        "    except:\n",
        "      return np.nan, np.nan\n",
        "\n",
        "#Apply function to dataset\n",
        "job_desc_df[['min_salary', 'max_salary']] = job_desc_df['salary_range'].apply(lambda x: pd.Series(extract_salary(x)))\n",
        "\n",
        "# Fill NaN values with \"Not Provided\"\n",
        "job_desc_df[['min_salary', 'max_salary']] = job_desc_df[['min_salary', 'max_salary']].fillna(0)\n",
        "\n",
        "# Calculate salary range difference\n",
        "job_desc_df['salary_diff'] = job_desc_df['max_salary'] - job_desc_df['min_salary']"
      ],
      "metadata": {
        "id": "WubaI6YZB0qf"
      },
      "execution_count": null,
      "outputs": []
    },
    {
      "cell_type": "markdown",
      "source": [
        "#### `requirements` Column"
      ],
      "metadata": {
        "id": "7U_i0KDEBmbX"
      }
    },
    {
      "cell_type": "code",
      "source": [
        "#Changing 'NaN' values to the 'Not Provided' string\n",
        "job_desc_df['requirements'] = job_desc_df['requirements'].fillna('Not Provided')\n",
        "\n",
        "#Sanity Check\n",
        "assert job_desc_df['requirements'].isna().sum() == 0, 'NaN values in `requirements` column'"
      ],
      "metadata": {
        "id": "ejhlRI8PBpI3"
      },
      "execution_count": null,
      "outputs": []
    },
    {
      "cell_type": "markdown",
      "source": [
        "#### `benefits` Column"
      ],
      "metadata": {
        "id": "GDETeFBpDK_p"
      }
    },
    {
      "cell_type": "code",
      "source": [
        "#Changing 'NaN' and other values indicating a lack of information to the 'Not Provided' string\n",
        "job_desc_df['benefits'] = job_desc_df['benefits'].replace(['nan', '...'], np.nan)\n",
        "job_desc_df['benefits'] = job_desc_df['benefits'].fillna('Not Provided')\n",
        "\n",
        "#Sanity Check\n",
        "assert job_desc_df['benefits'].isna().sum() == 0, 'NaN values in `benefits` column'"
      ],
      "metadata": {
        "id": "M42h9l64DNsZ"
      },
      "execution_count": null,
      "outputs": []
    },
    {
      "cell_type": "markdown",
      "source": [
        "#### `employment_type` Column"
      ],
      "metadata": {
        "id": "I4qNvwYJYAec"
      }
    },
    {
      "cell_type": "code",
      "source": [
        "#Chaning `NaN` values to 'Not Provided'\n",
        "job_desc_df['employment_type'] = job_desc_df['employment_type'].replace(['nan'], np.nan)\n",
        "job_desc_df['employment_type'] = job_desc_df['employment_type'].fillna('Not Provided')\n",
        "\n",
        "#Sanity Check\n",
        "assert job_desc_df['employment_type'].isna().sum() == 0, 'NaN values in `employment_type` column'"
      ],
      "metadata": {
        "id": "31SitlkYYDD7"
      },
      "execution_count": null,
      "outputs": []
    },
    {
      "cell_type": "markdown",
      "source": [
        "#### `required_experience` Column"
      ],
      "metadata": {
        "id": "cEFaZ5FvZs91"
      }
    },
    {
      "cell_type": "code",
      "source": [
        "#Changing values\n",
        "job_desc_df['required_experience'] = job_desc_df['required_experience'].replace(['nan'], np.nan)\n",
        "job_desc_df['required_experience'] = job_desc_df['required_experience'].fillna('Not Provided')\n",
        "#Sanity Check\n",
        "assert job_desc_df['required_experience'].isna().sum() == 0, 'NaN values in `required_experience` column'"
      ],
      "metadata": {
        "id": "UVWOVRwSZwjd"
      },
      "execution_count": null,
      "outputs": []
    },
    {
      "cell_type": "markdown",
      "source": [
        "#### `required_education` Column"
      ],
      "metadata": {
        "id": "bFC6DgIXadAe"
      }
    },
    {
      "cell_type": "code",
      "source": [
        "#Changing values\n",
        "job_desc_df['required_education'] = job_desc_df['required_education'].replace(['nan'], np.nan)\n",
        "job_desc_df['required_education'] = job_desc_df['required_education'].fillna('Not Provided')\n",
        "\n",
        "#Sanity Check\n",
        "assert job_desc_df['required_education'].isna().sum() == 0, 'NaN values in `required_education` column'"
      ],
      "metadata": {
        "id": "Z_WDhD0Kagje"
      },
      "execution_count": null,
      "outputs": []
    },
    {
      "cell_type": "markdown",
      "source": [
        "#### `industry` Column"
      ],
      "metadata": {
        "id": "CGXWUekKa06G"
      }
    },
    {
      "cell_type": "code",
      "source": [
        "#Changing values\n",
        "job_desc_df['industry'] = job_desc_df['industry'].replace(['nan', '...'], np.nan)\n",
        "job_desc_df['industry'] = job_desc_df['industry'].fillna('Not Provided')\n",
        "\n",
        "#Sanity Check\n",
        "assert job_desc_df['industry'].isna().sum() == 0, 'NaN values in `industry` column'"
      ],
      "metadata": {
        "id": "KIi3cr-Oa4iW"
      },
      "execution_count": null,
      "outputs": []
    },
    {
      "cell_type": "markdown",
      "source": [
        "Standardizing the industry for easier analysis"
      ],
      "metadata": {
        "id": "mmRgCv9R5YYT"
      }
    },
    {
      "cell_type": "code",
      "source": [
        "industry_mapping = {\n",
        "    'Marketing': ['Marketing and Advertising', 'Public Relations and Communications', 'Market Research'],\n",
        "    'Electronics': ['Computer Software', 'Consumer Electronics', 'Electrical/Electronic Manufacturing', 'Computer Hardware'],\n",
        "    'Health Care': ['Hospital and Health Care', 'Medical Practice', 'Pharmaceuticals', 'Mental Health Care', 'Medical Devices'],\n",
        "    'Finance': ['Financial Services', 'Banking', 'Venture Capital & Private Equity', 'Investment Banking', 'Investment Management', 'Accounting'],\n",
        "    'Education': ['Education Management', 'E-Learning', 'Primary/Secondary Education', 'Higher Education'],\n",
        "    'IT Services': ['Information Technology and Services', 'Computer Networking', 'Computer & Network Security', 'Information Services'],\n",
        "    'Media': ['Online Media', 'Media Production', 'Broadcast Media'],\n",
        "    'Consumer Goods': ['Cosmetics', 'Luxury Goods & Jewelry', 'Apparel & Fashion', 'Sporting Goods'],\n",
        "    'Automotive': ['Automotive'],\n",
        "    'Law': ['Legal Services', 'Law Practice'],\n",
        "    'Engineering': ['Mechanical or Industrial Engineering', 'Civil Engineering'],\n",
        "    'Construction': ['Building Materials', 'Construction'],\n",
        "    'Retail': ['Retail'],\n",
        "    'Agriculture': ['Farming', 'Ranching'],\n",
        "    'Real Estate': ['Real Estate', 'Commercial Real Estate'],\n",
        "    'Government': ['Government Administration', 'Government Relations'],\n",
        "    'Entertainment': ['Music', 'Motion Pictures and Film', 'Performing Arts'],\n",
        "    'Transportation': ['Transportation/Trucking/Railroad', 'Airlines/Aviation', 'Aviation & Aerospace'],\n",
        "    'Security': ['Security and Investigations', 'Law Enforcement'],\n",
        "    'Environmental Services': ['Renewables & Environment', 'Environmental Services'],\n",
        "    'Consulting': ['Management Consulting'],\n",
        "    'Nonprofit': ['Nonprofit Organization Management', 'Philanthropy'],\n",
        "    'Not Provided' : ['Other']\n",
        "}\n",
        "\n",
        "def standardize_industry(industry_name):\n",
        "    for standard, variations in industry_mapping.items():\n",
        "        if industry_name in variations:\n",
        "            return standard\n",
        "    return 'Not Provided'  # Default if no match is found\n",
        "\n",
        "job_desc_df['Standardized_Industry'] = job_desc_df['industry'].apply(standardize_industry)"
      ],
      "metadata": {
        "id": "4YXr-kQd5eNe"
      },
      "execution_count": null,
      "outputs": []
    },
    {
      "cell_type": "markdown",
      "source": [
        "#### `function` Column"
      ],
      "metadata": {
        "id": "LM3SpmQ1clyv"
      }
    },
    {
      "cell_type": "code",
      "source": [
        "#Changing values\n",
        "job_desc_df['function'] = job_desc_df['function'].replace(['nan'], np.nan)\n",
        "job_desc_df['function'] = job_desc_df['function'].fillna('Not Provided')\n",
        "\n",
        "#Sanity Check\n",
        "assert job_desc_df['function'].isna().sum() == 0, 'NaN values in `function` column'"
      ],
      "metadata": {
        "id": "W0knH5R9coYn"
      },
      "execution_count": null,
      "outputs": []
    },
    {
      "cell_type": "code",
      "source": [
        "#Saving the cleaned data and new column(s) to a new file path and name\n",
        "job_desc_df.to_csv('/content/drive/Shareddrives/MATH 3439 Work/Project 2/cleaned_fake_job_postings.csv', index=False)"
      ],
      "metadata": {
        "id": "dp9vgu438F3W"
      },
      "execution_count": null,
      "outputs": []
    },
    {
      "cell_type": "markdown",
      "source": [
        "### Data Modification"
      ],
      "metadata": {
        "id": "lB-Z7-Psun2k"
      }
    },
    {
      "cell_type": "markdown",
      "source": [
        "In order to use this data in predictive models, it was necessary to assign numeric codes to several of our columns. In particular, `description`, `employment_type`, `required_education`, `Standardized_Industry`, and `Standardized_Department` needed to be quanitified."
      ],
      "metadata": {
        "id": "ELxwPStXus9A"
      }
    },
    {
      "cell_type": "markdown",
      "source": [
        "#### `description` column"
      ],
      "metadata": {
        "id": "t63zyvtxvVJX"
      }
    },
    {
      "cell_type": "markdown",
      "source": [
        "It was especially important to shift the job description column to be a numeric value because a job posting without any information about the job or associated responsibilties is a significant indicator of a fradulent listing to a human."
      ],
      "metadata": {
        "id": "hGVVaR6TvXtd"
      }
    },
    {
      "cell_type": "code",
      "source": [
        "job_desc_df['job_desc_length'] = job_desc_df['description'].str.len()"
      ],
      "metadata": {
        "id": "T0rz0NlTwVgi"
      },
      "execution_count": null,
      "outputs": []
    },
    {
      "cell_type": "markdown",
      "source": [
        "#### `required_education` Column"
      ],
      "metadata": {
        "id": "77YGZldQ2BSm"
      }
    },
    {
      "cell_type": "markdown",
      "source": [
        "Decided to utilize ordinal coding because education follows a natural hierarchy (highschool -> bachelors -> masters -> doctorate).\n",
        "\n",
        "The following assigns the value of 0 to `Not Provided`, 1 to `Unspecified`, etc. until the end of the list, with `Professional` encoded as 13."
      ],
      "metadata": {
        "id": "8wsPUKJv2FES"
      }
    },
    {
      "cell_type": "code",
      "source": [
        "from sklearn.preprocessing import OrdinalEncoder\n",
        "\n",
        "education_order = [\n",
        "    'Not Provided', 'Unspecified', 'Some High School Coursework', 'High School or equivalent',\n",
        "    'Vocational - HS Diploma', 'Some College Coursework Completed', 'Certification',\n",
        "    'Vocational', 'Vocational - Degree', 'Associate Degree', \"Bachelor's Degree\",\n",
        "    \"Master's Degree\", 'Doctorate', 'Professional'\n",
        "]\n",
        "\n",
        "encoder = OrdinalEncoder(categories=[education_order])\n",
        "job_desc_df['education_encoded'] = encoder.fit_transform(job_desc_df[['required_education']]).astype(int)"
      ],
      "metadata": {
        "id": "8zbn187Q2BBt"
      },
      "execution_count": null,
      "outputs": []
    },
    {
      "cell_type": "markdown",
      "source": [
        "#### `employment_type` Column"
      ],
      "metadata": {
        "id": "2m_BDtWX-tp_"
      }
    },
    {
      "cell_type": "markdown",
      "source": [
        "Utilzing ordinal encoding once again because education type, while not neceassarily a heirarchy where one is more challenging or \"better\" than the other, they do follow a logical progression.\n",
        "\n",
        "The following code assigns the value of 0 to `Not Provided`, 1 to `Other`, etc. until the end of the end of the list, with `Full-time` as 5"
      ],
      "metadata": {
        "id": "EeJCax3O-ztS"
      }
    },
    {
      "cell_type": "code",
      "source": [
        "employment_order = ['Not Provided', 'Other', 'Temporary', 'Contract',\n",
        "                    'Part-time', 'Full-time']\n",
        "\n",
        "encoder = OrdinalEncoder(categories=[employment_order])\n",
        "job_desc_df['employment_encoded'] = encoder.fit_transform(job_desc_df[['employment_type']]).astype(int)"
      ],
      "metadata": {
        "id": "YXyxCWCXts3Q"
      },
      "execution_count": null,
      "outputs": []
    },
    {
      "cell_type": "markdown",
      "source": [
        "#### `Standardized_Industry` column"
      ],
      "metadata": {
        "id": "j6Axcsysvq8o"
      }
    },
    {
      "cell_type": "markdown",
      "source": [
        "For the `industry` and `department` columns, the team decided to utilized One-Hot Encoding. This was done to avoid unintentional ranking of departments/industry's against each other."
      ],
      "metadata": {
        "id": "c0ezTqCdvvXP"
      }
    },
    {
      "cell_type": "code",
      "source": [
        "from sklearn.preprocessing import OneHotEncoder\n",
        "\n",
        "#parse_out='False' returns a dense MumPy array\n",
        "encoder = OneHotEncoder(sparse_output=False)\n",
        "\n",
        "#Fit and transform the 'standardized_industry' column\n",
        "encoded_array = encoder.fit_transform(job_desc_df[['Standardized_Industry']])\n",
        "\n",
        "#Convert the array into a DataFrame with named columns\n",
        "encoded_df = pd.DataFrame(encoded_array, columns=encoder.get_feature_names_out(['Standardized_Industry']))\n",
        "\n",
        "#Concatenate the original DataFrame with the encoded DataFrame, without dropping anything\n",
        "job_desc_df = pd.concat([job_desc_df, encoded_df], axis=1)"
      ],
      "metadata": {
        "id": "g3IkBd-aw0c9"
      },
      "execution_count": null,
      "outputs": []
    },
    {
      "cell_type": "markdown",
      "source": [
        "#### `Standardized_Department` Column"
      ],
      "metadata": {
        "id": "rReAeflyy0I2"
      }
    },
    {
      "cell_type": "markdown",
      "source": [
        "Repeating this same process for the department column"
      ],
      "metadata": {
        "id": "v__sPN9jy3XA"
      }
    },
    {
      "cell_type": "code",
      "source": [
        "from sklearn.preprocessing import OneHotEncoder\n",
        "\n",
        "#parse_out='False' returns a dense MumPy array\n",
        "encoder = OneHotEncoder(sparse_output=False)\n",
        "\n",
        "#Fit and transform the 'standardized_industry' column\n",
        "encoded_array = encoder.fit_transform(job_desc_df[['Standardized_Department']])\n",
        "\n",
        "#Convert the array into a DataFrame with named columns\n",
        "encoded_df = pd.DataFrame(encoded_array, columns=encoder.get_feature_names_out(['Standardized_Department']))\n",
        "\n",
        "#Concatenate the original DataFrame with the encoded DataFrame, without dropping anything\n",
        "job_desc_df = pd.concat([job_desc_df, encoded_df], axis=1)"
      ],
      "metadata": {
        "id": "ftMoZ8Y-y6ur"
      },
      "execution_count": null,
      "outputs": []
    },
    {
      "cell_type": "markdown",
      "source": [
        "#### Saving cleaned and modified DataFrame"
      ],
      "metadata": {
        "id": "i_vnbAcEzKyi"
      }
    },
    {
      "cell_type": "code",
      "source": [
        "#Rearranging columns to place related columns next to each other for ease of use\n",
        "job_desc_df = job_desc_df[['job_id', 'title', 'location', 'department','Standardized_Department',\n",
        "                           'Standardized_Department_Administrative', 'Standardized_Department_Business Consulting',\n",
        "                           'Standardized_Department_Creative & Design','Standardized_Department_Customer Service',\n",
        "                           'Standardized_Department_Education & Training','Standardized_Department_Engineering',\n",
        "                           'Standardized_Department_Finance & Accounting','Standardized_Department_Government & Public Sector',\n",
        "                           'Standardized_Department_Healthcare','Standardized_Department_Hospitality & Food Services',\n",
        "                           'Standardized_Department_Human Resources', 'Standardized_Department_IT','Standardized_Department_Legal & Compliance',\n",
        "                           'Standardized_Department_Logistics & Supply Chain','Standardized_Department_Manufacturing & Production',\n",
        "                           'Standardized_Department_Marketing','Standardized_Department_Media & Communications','Standardized_Department_Not Provided',\n",
        "                           'Standardized_Department_Operations','Standardized_Department_Product Management & Development','Standardized_Department_Project Management',\n",
        "                           'Standardized_Department_Quality Assurance & Testing','Standardized_Department_Research & Development','Standardized_Department_Retail & Consumer',\n",
        "                           'Standardized_Department_Sales', 'Standardized_Department_Technology', 'salary_range', 'salary_diff','company_profile', 'description', 'job_desc_length',\n",
        "                           'requirements', 'benefits','telecommuting', 'has_company_logo', 'has_questions', 'employment_type',\n",
        "                           'employment_encoded',  'required_experience','required_education', 'education_encoded', 'industry',\n",
        "                           'Standardized_Industry', 'Standardized_Industry_Agriculture', 'Standardized_Industry_Automotive',\n",
        "                           'Standardized_Industry_Construction','Standardized_Industry_Consulting','Standardized_Industry_Consumer Goods',\n",
        "                           'Standardized_Industry_Education', 'Standardized_Industry_Electronics','Standardized_Industry_Engineering',\n",
        "                           'Standardized_Industry_Entertainment','Standardized_Industry_Environmental Services','Standardized_Industry_Finance', 'Standardized_Industry_Government',\n",
        "                           'Standardized_Industry_Health Care','Standardized_Industry_IT Services', 'Standardized_Industry_Law',\n",
        "                           'Standardized_Industry_Marketing', 'Standardized_Industry_Media','Standardized_Industry_Nonprofit', 'Standardized_Industry_Not Provided',\n",
        "                           'Standardized_Industry_Real Estate', 'Standardized_Industry_Retail','Standardized_Industry_Security','Standardized_Industry_Transportation',\n",
        "                           'function','fraudulent']]\n"
      ],
      "metadata": {
        "id": "-Jqpnf3GzPu2"
      },
      "execution_count": null,
      "outputs": []
    },
    {
      "cell_type": "code",
      "source": [
        "#Saving the cleaned and modified DataFrame\n",
        "\n",
        "job_desc_df.to_csv('/content/drive/Shareddrives/MATH 3439 Work/Project 2/cleaned_fake_job_postings.csv', index=False)"
      ],
      "metadata": {
        "id": "Q9UDK9ae7YgD"
      },
      "execution_count": null,
      "outputs": []
    },
    {
      "cell_type": "markdown",
      "source": [
        "## First steps in Machine Learning Model Construction"
      ],
      "metadata": {
        "id": "cBouDYvNxyG4"
      }
    },
    {
      "cell_type": "markdown",
      "source": [
        "The following sections detail the first steps in building our predictive model."
      ],
      "metadata": {
        "id": "KuWvMMfmx7IR"
      }
    },
    {
      "cell_type": "markdown",
      "source": [
        "### Splitting Data"
      ],
      "metadata": {
        "id": "PZ_X7PrKL--Y"
      }
    },
    {
      "cell_type": "code",
      "source": [
        "#Splitting our data into train, test, and validation sets\n",
        "\n",
        "from sklearn.model_selection import train_test_split\n",
        "train_df, test_df = train_test_split(job_desc_df, train_size=0.7, test_size=0.3)\n",
        "\n",
        "test_df, val_df = train_test_split(test_df, train_size=0.5, test_size=0.5)"
      ],
      "metadata": {
        "id": "dFlYAUBBstd8"
      },
      "execution_count": null,
      "outputs": []
    },
    {
      "cell_type": "markdown",
      "source": [
        "### Preprocessing Data"
      ],
      "metadata": {
        "id": "Diu4QhyPMDKO"
      }
    },
    {
      "cell_type": "code",
      "source": [
        "from sklearn.preprocessing import StandardScaler\n",
        "from sklearn.impute import SimpleImputer\n",
        "\n",
        "# Preprocessing (Imputation and Scaling)\n",
        "\n",
        "# --- 1. Imputation ---\n",
        "# Create a SimpleImputer object to replace missing values with the mean\n",
        "imputer = SimpleImputer(strategy='mean')\n",
        "\n",
        "# Select numerical features for imputation (excluding 'fraudulent', 'job_id', and 'salary_range')\n",
        "numerical_features = train_df.drop(columns=['fraudulent', 'job_id', 'salary_range']).select_dtypes(include=['float64', 'int64']).columns\n",
        "\n",
        "# Apply imputation to training, validation, and test sets\n",
        "train_df[numerical_features] = imputer.fit_transform(train_df[numerical_features])\n",
        "val_df[numerical_features] = imputer.transform(val_df[numerical_features])\n",
        "test_df[numerical_features] = imputer.transform(test_df[numerical_features])\n",
        "\n",
        "# --- 2. Scaling ---\n",
        "# Create a StandardScaler object to scale numerical features\n",
        "scaler = StandardScaler()\n",
        "\n",
        "# Fit the scaler on the training data and transform training, validation, and test sets\n",
        "train_df[numerical_features] = scaler.fit_transform(train_df[numerical_features])\n",
        "val_df[numerical_features] = scaler.transform(val_df[numerical_features])\n",
        "test_df[numerical_features] = scaler.transform(test_df[numerical_features])"
      ],
      "metadata": {
        "id": "E4y1IsqoMGmB"
      },
      "execution_count": null,
      "outputs": []
    },
    {
      "cell_type": "markdown",
      "source": [
        "### Model Training & Evaluation"
      ],
      "metadata": {
        "id": "O7qbUoi_MIdp"
      }
    },
    {
      "cell_type": "code",
      "source": [
        "\"\"\"\n",
        "Assessing the Logistic Regression Coefficients of each of our target columns\n",
        "for initial review of the relative power of different variables\n",
        "\"\"\"\n",
        "\n",
        "from sklearn.linear_model import LogisticRegression\n",
        "\n",
        "# Ensure 'fraudulent' is the target variable and remove non-numeric or unnecessary columns\n",
        "X = train_df.drop(columns=['fraudulent', 'salary_range', 'job_id']).select_dtypes(include=['float64', 'int64'])\n",
        "\n",
        "# Ensure target variable matches the index of X\n",
        "y = train_df.loc[X.index, 'fraudulent']\n",
        "\n",
        "# Scale the features (using the scaler from the preprocessing section)\n",
        "X_scaled = scaler.transform(X)  # Use the existing scaler\n",
        "\n",
        "# Fit Logistic Regression model\n",
        "model = LogisticRegression(solver='saga', max_iter=1000)\n",
        "model.fit(X_scaled, y)"
      ],
      "metadata": {
        "collapsed": true,
        "id": "PzcszBSRIsK3",
        "colab": {
          "base_uri": "https://localhost:8080/",
          "height": 135
        },
        "outputId": "5672f365-071f-4193-8b51-94f9ea7fc195"
      },
      "execution_count": null,
      "outputs": [
        {
          "output_type": "stream",
          "name": "stderr",
          "text": [
            "/usr/local/lib/python3.11/dist-packages/sklearn/linear_model/_sag.py:348: ConvergenceWarning: The max_iter was reached which means the coef_ did not converge\n",
            "  warnings.warn(\n"
          ]
        },
        {
          "output_type": "execute_result",
          "data": {
            "text/plain": [
              "LogisticRegression(max_iter=1000, solver='saga')"
            ],
            "text/html": [
              "<style>#sk-container-id-1 {\n",
              "  /* Definition of color scheme common for light and dark mode */\n",
              "  --sklearn-color-text: #000;\n",
              "  --sklearn-color-text-muted: #666;\n",
              "  --sklearn-color-line: gray;\n",
              "  /* Definition of color scheme for unfitted estimators */\n",
              "  --sklearn-color-unfitted-level-0: #fff5e6;\n",
              "  --sklearn-color-unfitted-level-1: #f6e4d2;\n",
              "  --sklearn-color-unfitted-level-2: #ffe0b3;\n",
              "  --sklearn-color-unfitted-level-3: chocolate;\n",
              "  /* Definition of color scheme for fitted estimators */\n",
              "  --sklearn-color-fitted-level-0: #f0f8ff;\n",
              "  --sklearn-color-fitted-level-1: #d4ebff;\n",
              "  --sklearn-color-fitted-level-2: #b3dbfd;\n",
              "  --sklearn-color-fitted-level-3: cornflowerblue;\n",
              "\n",
              "  /* Specific color for light theme */\n",
              "  --sklearn-color-text-on-default-background: var(--sg-text-color, var(--theme-code-foreground, var(--jp-content-font-color1, black)));\n",
              "  --sklearn-color-background: var(--sg-background-color, var(--theme-background, var(--jp-layout-color0, white)));\n",
              "  --sklearn-color-border-box: var(--sg-text-color, var(--theme-code-foreground, var(--jp-content-font-color1, black)));\n",
              "  --sklearn-color-icon: #696969;\n",
              "\n",
              "  @media (prefers-color-scheme: dark) {\n",
              "    /* Redefinition of color scheme for dark theme */\n",
              "    --sklearn-color-text-on-default-background: var(--sg-text-color, var(--theme-code-foreground, var(--jp-content-font-color1, white)));\n",
              "    --sklearn-color-background: var(--sg-background-color, var(--theme-background, var(--jp-layout-color0, #111)));\n",
              "    --sklearn-color-border-box: var(--sg-text-color, var(--theme-code-foreground, var(--jp-content-font-color1, white)));\n",
              "    --sklearn-color-icon: #878787;\n",
              "  }\n",
              "}\n",
              "\n",
              "#sk-container-id-1 {\n",
              "  color: var(--sklearn-color-text);\n",
              "}\n",
              "\n",
              "#sk-container-id-1 pre {\n",
              "  padding: 0;\n",
              "}\n",
              "\n",
              "#sk-container-id-1 input.sk-hidden--visually {\n",
              "  border: 0;\n",
              "  clip: rect(1px 1px 1px 1px);\n",
              "  clip: rect(1px, 1px, 1px, 1px);\n",
              "  height: 1px;\n",
              "  margin: -1px;\n",
              "  overflow: hidden;\n",
              "  padding: 0;\n",
              "  position: absolute;\n",
              "  width: 1px;\n",
              "}\n",
              "\n",
              "#sk-container-id-1 div.sk-dashed-wrapped {\n",
              "  border: 1px dashed var(--sklearn-color-line);\n",
              "  margin: 0 0.4em 0.5em 0.4em;\n",
              "  box-sizing: border-box;\n",
              "  padding-bottom: 0.4em;\n",
              "  background-color: var(--sklearn-color-background);\n",
              "}\n",
              "\n",
              "#sk-container-id-1 div.sk-container {\n",
              "  /* jupyter's `normalize.less` sets `[hidden] { display: none; }`\n",
              "     but bootstrap.min.css set `[hidden] { display: none !important; }`\n",
              "     so we also need the `!important` here to be able to override the\n",
              "     default hidden behavior on the sphinx rendered scikit-learn.org.\n",
              "     See: https://github.com/scikit-learn/scikit-learn/issues/21755 */\n",
              "  display: inline-block !important;\n",
              "  position: relative;\n",
              "}\n",
              "\n",
              "#sk-container-id-1 div.sk-text-repr-fallback {\n",
              "  display: none;\n",
              "}\n",
              "\n",
              "div.sk-parallel-item,\n",
              "div.sk-serial,\n",
              "div.sk-item {\n",
              "  /* draw centered vertical line to link estimators */\n",
              "  background-image: linear-gradient(var(--sklearn-color-text-on-default-background), var(--sklearn-color-text-on-default-background));\n",
              "  background-size: 2px 100%;\n",
              "  background-repeat: no-repeat;\n",
              "  background-position: center center;\n",
              "}\n",
              "\n",
              "/* Parallel-specific style estimator block */\n",
              "\n",
              "#sk-container-id-1 div.sk-parallel-item::after {\n",
              "  content: \"\";\n",
              "  width: 100%;\n",
              "  border-bottom: 2px solid var(--sklearn-color-text-on-default-background);\n",
              "  flex-grow: 1;\n",
              "}\n",
              "\n",
              "#sk-container-id-1 div.sk-parallel {\n",
              "  display: flex;\n",
              "  align-items: stretch;\n",
              "  justify-content: center;\n",
              "  background-color: var(--sklearn-color-background);\n",
              "  position: relative;\n",
              "}\n",
              "\n",
              "#sk-container-id-1 div.sk-parallel-item {\n",
              "  display: flex;\n",
              "  flex-direction: column;\n",
              "}\n",
              "\n",
              "#sk-container-id-1 div.sk-parallel-item:first-child::after {\n",
              "  align-self: flex-end;\n",
              "  width: 50%;\n",
              "}\n",
              "\n",
              "#sk-container-id-1 div.sk-parallel-item:last-child::after {\n",
              "  align-self: flex-start;\n",
              "  width: 50%;\n",
              "}\n",
              "\n",
              "#sk-container-id-1 div.sk-parallel-item:only-child::after {\n",
              "  width: 0;\n",
              "}\n",
              "\n",
              "/* Serial-specific style estimator block */\n",
              "\n",
              "#sk-container-id-1 div.sk-serial {\n",
              "  display: flex;\n",
              "  flex-direction: column;\n",
              "  align-items: center;\n",
              "  background-color: var(--sklearn-color-background);\n",
              "  padding-right: 1em;\n",
              "  padding-left: 1em;\n",
              "}\n",
              "\n",
              "\n",
              "/* Toggleable style: style used for estimator/Pipeline/ColumnTransformer box that is\n",
              "clickable and can be expanded/collapsed.\n",
              "- Pipeline and ColumnTransformer use this feature and define the default style\n",
              "- Estimators will overwrite some part of the style using the `sk-estimator` class\n",
              "*/\n",
              "\n",
              "/* Pipeline and ColumnTransformer style (default) */\n",
              "\n",
              "#sk-container-id-1 div.sk-toggleable {\n",
              "  /* Default theme specific background. It is overwritten whether we have a\n",
              "  specific estimator or a Pipeline/ColumnTransformer */\n",
              "  background-color: var(--sklearn-color-background);\n",
              "}\n",
              "\n",
              "/* Toggleable label */\n",
              "#sk-container-id-1 label.sk-toggleable__label {\n",
              "  cursor: pointer;\n",
              "  display: flex;\n",
              "  width: 100%;\n",
              "  margin-bottom: 0;\n",
              "  padding: 0.5em;\n",
              "  box-sizing: border-box;\n",
              "  text-align: center;\n",
              "  align-items: start;\n",
              "  justify-content: space-between;\n",
              "  gap: 0.5em;\n",
              "}\n",
              "\n",
              "#sk-container-id-1 label.sk-toggleable__label .caption {\n",
              "  font-size: 0.6rem;\n",
              "  font-weight: lighter;\n",
              "  color: var(--sklearn-color-text-muted);\n",
              "}\n",
              "\n",
              "#sk-container-id-1 label.sk-toggleable__label-arrow:before {\n",
              "  /* Arrow on the left of the label */\n",
              "  content: \"▸\";\n",
              "  float: left;\n",
              "  margin-right: 0.25em;\n",
              "  color: var(--sklearn-color-icon);\n",
              "}\n",
              "\n",
              "#sk-container-id-1 label.sk-toggleable__label-arrow:hover:before {\n",
              "  color: var(--sklearn-color-text);\n",
              "}\n",
              "\n",
              "/* Toggleable content - dropdown */\n",
              "\n",
              "#sk-container-id-1 div.sk-toggleable__content {\n",
              "  max-height: 0;\n",
              "  max-width: 0;\n",
              "  overflow: hidden;\n",
              "  text-align: left;\n",
              "  /* unfitted */\n",
              "  background-color: var(--sklearn-color-unfitted-level-0);\n",
              "}\n",
              "\n",
              "#sk-container-id-1 div.sk-toggleable__content.fitted {\n",
              "  /* fitted */\n",
              "  background-color: var(--sklearn-color-fitted-level-0);\n",
              "}\n",
              "\n",
              "#sk-container-id-1 div.sk-toggleable__content pre {\n",
              "  margin: 0.2em;\n",
              "  border-radius: 0.25em;\n",
              "  color: var(--sklearn-color-text);\n",
              "  /* unfitted */\n",
              "  background-color: var(--sklearn-color-unfitted-level-0);\n",
              "}\n",
              "\n",
              "#sk-container-id-1 div.sk-toggleable__content.fitted pre {\n",
              "  /* unfitted */\n",
              "  background-color: var(--sklearn-color-fitted-level-0);\n",
              "}\n",
              "\n",
              "#sk-container-id-1 input.sk-toggleable__control:checked~div.sk-toggleable__content {\n",
              "  /* Expand drop-down */\n",
              "  max-height: 200px;\n",
              "  max-width: 100%;\n",
              "  overflow: auto;\n",
              "}\n",
              "\n",
              "#sk-container-id-1 input.sk-toggleable__control:checked~label.sk-toggleable__label-arrow:before {\n",
              "  content: \"▾\";\n",
              "}\n",
              "\n",
              "/* Pipeline/ColumnTransformer-specific style */\n",
              "\n",
              "#sk-container-id-1 div.sk-label input.sk-toggleable__control:checked~label.sk-toggleable__label {\n",
              "  color: var(--sklearn-color-text);\n",
              "  background-color: var(--sklearn-color-unfitted-level-2);\n",
              "}\n",
              "\n",
              "#sk-container-id-1 div.sk-label.fitted input.sk-toggleable__control:checked~label.sk-toggleable__label {\n",
              "  background-color: var(--sklearn-color-fitted-level-2);\n",
              "}\n",
              "\n",
              "/* Estimator-specific style */\n",
              "\n",
              "/* Colorize estimator box */\n",
              "#sk-container-id-1 div.sk-estimator input.sk-toggleable__control:checked~label.sk-toggleable__label {\n",
              "  /* unfitted */\n",
              "  background-color: var(--sklearn-color-unfitted-level-2);\n",
              "}\n",
              "\n",
              "#sk-container-id-1 div.sk-estimator.fitted input.sk-toggleable__control:checked~label.sk-toggleable__label {\n",
              "  /* fitted */\n",
              "  background-color: var(--sklearn-color-fitted-level-2);\n",
              "}\n",
              "\n",
              "#sk-container-id-1 div.sk-label label.sk-toggleable__label,\n",
              "#sk-container-id-1 div.sk-label label {\n",
              "  /* The background is the default theme color */\n",
              "  color: var(--sklearn-color-text-on-default-background);\n",
              "}\n",
              "\n",
              "/* On hover, darken the color of the background */\n",
              "#sk-container-id-1 div.sk-label:hover label.sk-toggleable__label {\n",
              "  color: var(--sklearn-color-text);\n",
              "  background-color: var(--sklearn-color-unfitted-level-2);\n",
              "}\n",
              "\n",
              "/* Label box, darken color on hover, fitted */\n",
              "#sk-container-id-1 div.sk-label.fitted:hover label.sk-toggleable__label.fitted {\n",
              "  color: var(--sklearn-color-text);\n",
              "  background-color: var(--sklearn-color-fitted-level-2);\n",
              "}\n",
              "\n",
              "/* Estimator label */\n",
              "\n",
              "#sk-container-id-1 div.sk-label label {\n",
              "  font-family: monospace;\n",
              "  font-weight: bold;\n",
              "  display: inline-block;\n",
              "  line-height: 1.2em;\n",
              "}\n",
              "\n",
              "#sk-container-id-1 div.sk-label-container {\n",
              "  text-align: center;\n",
              "}\n",
              "\n",
              "/* Estimator-specific */\n",
              "#sk-container-id-1 div.sk-estimator {\n",
              "  font-family: monospace;\n",
              "  border: 1px dotted var(--sklearn-color-border-box);\n",
              "  border-radius: 0.25em;\n",
              "  box-sizing: border-box;\n",
              "  margin-bottom: 0.5em;\n",
              "  /* unfitted */\n",
              "  background-color: var(--sklearn-color-unfitted-level-0);\n",
              "}\n",
              "\n",
              "#sk-container-id-1 div.sk-estimator.fitted {\n",
              "  /* fitted */\n",
              "  background-color: var(--sklearn-color-fitted-level-0);\n",
              "}\n",
              "\n",
              "/* on hover */\n",
              "#sk-container-id-1 div.sk-estimator:hover {\n",
              "  /* unfitted */\n",
              "  background-color: var(--sklearn-color-unfitted-level-2);\n",
              "}\n",
              "\n",
              "#sk-container-id-1 div.sk-estimator.fitted:hover {\n",
              "  /* fitted */\n",
              "  background-color: var(--sklearn-color-fitted-level-2);\n",
              "}\n",
              "\n",
              "/* Specification for estimator info (e.g. \"i\" and \"?\") */\n",
              "\n",
              "/* Common style for \"i\" and \"?\" */\n",
              "\n",
              ".sk-estimator-doc-link,\n",
              "a:link.sk-estimator-doc-link,\n",
              "a:visited.sk-estimator-doc-link {\n",
              "  float: right;\n",
              "  font-size: smaller;\n",
              "  line-height: 1em;\n",
              "  font-family: monospace;\n",
              "  background-color: var(--sklearn-color-background);\n",
              "  border-radius: 1em;\n",
              "  height: 1em;\n",
              "  width: 1em;\n",
              "  text-decoration: none !important;\n",
              "  margin-left: 0.5em;\n",
              "  text-align: center;\n",
              "  /* unfitted */\n",
              "  border: var(--sklearn-color-unfitted-level-1) 1pt solid;\n",
              "  color: var(--sklearn-color-unfitted-level-1);\n",
              "}\n",
              "\n",
              ".sk-estimator-doc-link.fitted,\n",
              "a:link.sk-estimator-doc-link.fitted,\n",
              "a:visited.sk-estimator-doc-link.fitted {\n",
              "  /* fitted */\n",
              "  border: var(--sklearn-color-fitted-level-1) 1pt solid;\n",
              "  color: var(--sklearn-color-fitted-level-1);\n",
              "}\n",
              "\n",
              "/* On hover */\n",
              "div.sk-estimator:hover .sk-estimator-doc-link:hover,\n",
              ".sk-estimator-doc-link:hover,\n",
              "div.sk-label-container:hover .sk-estimator-doc-link:hover,\n",
              ".sk-estimator-doc-link:hover {\n",
              "  /* unfitted */\n",
              "  background-color: var(--sklearn-color-unfitted-level-3);\n",
              "  color: var(--sklearn-color-background);\n",
              "  text-decoration: none;\n",
              "}\n",
              "\n",
              "div.sk-estimator.fitted:hover .sk-estimator-doc-link.fitted:hover,\n",
              ".sk-estimator-doc-link.fitted:hover,\n",
              "div.sk-label-container:hover .sk-estimator-doc-link.fitted:hover,\n",
              ".sk-estimator-doc-link.fitted:hover {\n",
              "  /* fitted */\n",
              "  background-color: var(--sklearn-color-fitted-level-3);\n",
              "  color: var(--sklearn-color-background);\n",
              "  text-decoration: none;\n",
              "}\n",
              "\n",
              "/* Span, style for the box shown on hovering the info icon */\n",
              ".sk-estimator-doc-link span {\n",
              "  display: none;\n",
              "  z-index: 9999;\n",
              "  position: relative;\n",
              "  font-weight: normal;\n",
              "  right: .2ex;\n",
              "  padding: .5ex;\n",
              "  margin: .5ex;\n",
              "  width: min-content;\n",
              "  min-width: 20ex;\n",
              "  max-width: 50ex;\n",
              "  color: var(--sklearn-color-text);\n",
              "  box-shadow: 2pt 2pt 4pt #999;\n",
              "  /* unfitted */\n",
              "  background: var(--sklearn-color-unfitted-level-0);\n",
              "  border: .5pt solid var(--sklearn-color-unfitted-level-3);\n",
              "}\n",
              "\n",
              ".sk-estimator-doc-link.fitted span {\n",
              "  /* fitted */\n",
              "  background: var(--sklearn-color-fitted-level-0);\n",
              "  border: var(--sklearn-color-fitted-level-3);\n",
              "}\n",
              "\n",
              ".sk-estimator-doc-link:hover span {\n",
              "  display: block;\n",
              "}\n",
              "\n",
              "/* \"?\"-specific style due to the `<a>` HTML tag */\n",
              "\n",
              "#sk-container-id-1 a.estimator_doc_link {\n",
              "  float: right;\n",
              "  font-size: 1rem;\n",
              "  line-height: 1em;\n",
              "  font-family: monospace;\n",
              "  background-color: var(--sklearn-color-background);\n",
              "  border-radius: 1rem;\n",
              "  height: 1rem;\n",
              "  width: 1rem;\n",
              "  text-decoration: none;\n",
              "  /* unfitted */\n",
              "  color: var(--sklearn-color-unfitted-level-1);\n",
              "  border: var(--sklearn-color-unfitted-level-1) 1pt solid;\n",
              "}\n",
              "\n",
              "#sk-container-id-1 a.estimator_doc_link.fitted {\n",
              "  /* fitted */\n",
              "  border: var(--sklearn-color-fitted-level-1) 1pt solid;\n",
              "  color: var(--sklearn-color-fitted-level-1);\n",
              "}\n",
              "\n",
              "/* On hover */\n",
              "#sk-container-id-1 a.estimator_doc_link:hover {\n",
              "  /* unfitted */\n",
              "  background-color: var(--sklearn-color-unfitted-level-3);\n",
              "  color: var(--sklearn-color-background);\n",
              "  text-decoration: none;\n",
              "}\n",
              "\n",
              "#sk-container-id-1 a.estimator_doc_link.fitted:hover {\n",
              "  /* fitted */\n",
              "  background-color: var(--sklearn-color-fitted-level-3);\n",
              "}\n",
              "</style><div id=\"sk-container-id-1\" class=\"sk-top-container\"><div class=\"sk-text-repr-fallback\"><pre>LogisticRegression(max_iter=1000, solver=&#x27;saga&#x27;)</pre><b>In a Jupyter environment, please rerun this cell to show the HTML representation or trust the notebook. <br />On GitHub, the HTML representation is unable to render, please try loading this page with nbviewer.org.</b></div><div class=\"sk-container\" hidden><div class=\"sk-item\"><div class=\"sk-estimator fitted sk-toggleable\"><input class=\"sk-toggleable__control sk-hidden--visually\" id=\"sk-estimator-id-1\" type=\"checkbox\" checked><label for=\"sk-estimator-id-1\" class=\"sk-toggleable__label fitted sk-toggleable__label-arrow\"><div><div>LogisticRegression</div></div><div><a class=\"sk-estimator-doc-link fitted\" rel=\"noreferrer\" target=\"_blank\" href=\"https://scikit-learn.org/1.6/modules/generated/sklearn.linear_model.LogisticRegression.html\">?<span>Documentation for LogisticRegression</span></a><span class=\"sk-estimator-doc-link fitted\">i<span>Fitted</span></span></div></label><div class=\"sk-toggleable__content fitted\"><pre>LogisticRegression(max_iter=1000, solver=&#x27;saga&#x27;)</pre></div> </div></div></div></div>"
            ]
          },
          "metadata": {},
          "execution_count": 29
        }
      ]
    },
    {
      "cell_type": "markdown",
      "source": [
        "We removed the `salary_range` column and instead used the `salary_diff` column to evaluate power of different input columns"
      ],
      "metadata": {
        "id": "yccfIZZOr_tW"
      }
    },
    {
      "cell_type": "code",
      "source": [
        "from sklearn.metrics import accuracy_score, log_loss\n",
        "\n",
        "# Select features and target variable from val_df\n",
        "X_val = val_df.drop(columns=['fraudulent', 'salary_range', 'job_id']).select_dtypes(include=['float64', 'int64'])\n",
        "y_val = val_df['fraudulent']\n",
        "\n",
        "# Dropping missing information from the `location` column in val_df\n",
        "val_df = val_df.dropna(subset=['location'])\n",
        "\n",
        "# Impute or drop NaN in X_val before predicting\n",
        "X_val = X_val.dropna()\n",
        "y_val = y_val[X_val.index]  # Adjust y_val to match the X_val indices\n",
        "\n",
        "# Scale the features using the same scaler fitted on train_df\n",
        "X_val_scaled = scaler.transform(X_val)\n",
        "\n",
        "# Evaluate on Validation Set\n",
        "y_val_pred = model.predict(X_val_scaled)\n",
        "y_val_pred_prob = model.predict_proba(X_val_scaled)[:, 1]\n",
        "\n",
        "val_accuracy = accuracy_score(y_val, y_val_pred)\n",
        "val_log_loss = log_loss(y_val, y_val_pred_prob)\n",
        "\n",
        "# Print Results\n",
        "print(f\"Validation Accuracy: {val_accuracy:.4f}\")\n",
        "print(f\"Validation Log-Loss: {val_log_loss:.4f}\")\n",
        "print(f\"Coefficient Range: {model.coef_.min()} to {model.coef_.max()}\")\n"
      ],
      "metadata": {
        "id": "IPok48oI6nCp",
        "colab": {
          "base_uri": "https://localhost:8080/"
        },
        "outputId": "9db1596f-0300-4b4e-9325-47236f2c337e"
      },
      "execution_count": null,
      "outputs": [
        {
          "output_type": "stream",
          "name": "stdout",
          "text": [
            "Validation Accuracy: 0.9571\n",
            "Validation Log-Loss: 0.2631\n",
            "Coefficient Range: -0.0004311127789193482 to 0.22887978398737022\n"
          ]
        }
      ]
    },
    {
      "cell_type": "markdown",
      "source": [
        "These results indicate that our logistic regression model performs very well in predicting whether job postings are fradulent and that the models predictions are close to the actual values.\n",
        "\n",
        "The main purpose of this assessment is to know how much the team should trust these coefficients in determining impactful input columns.\n",
        "\n",
        "Focusing on **department** first, we have the following top 4 departments with strong positive coefficients and strong negative coefficients:\n",
        "* Enginneering: 0.4298\n",
        "* Not Provided: 0.2848\n",
        "* Customer Service: 0.1626\n",
        "* Administrative: 0.1510\n",
        "* Human Resources: 0.0916\n",
        "\n",
        "\n",
        "* Operations: -0.4617\n",
        "* Electronics: -0.3325\n",
        "* Education & Training: -0.1744\n",
        "* Hospitality & Food Service: -0.0807\n",
        "\n",
        "Below are the coefficients for the top **industries**:\n",
        "* Finance: 0.2758\n",
        "* Not Provided: 0.3230\n",
        "* Real Estate: 0.1622\n",
        "* Marketing: 0.1383\n",
        "\n",
        "\n",
        "* Education:-0.4083\n",
        "* Electronics: -0.3325\n",
        "* Law: -0.3386\n",
        "* Nonprofit: -0.2556\n",
        "* Transportation:  -0.0689\n",
        "\n",
        "Based these coefficients, these departments and industries should be kept in mind when further evaluating our predictive models as they currently seem to have strong effects on indicating if a job listings is real or fake.\n",
        "\n",
        "\n",
        "Aside from the department and industry, the input columns `telecommuting` (coefficient = 0.1044) has a strong positive coefficient, indicating that job postings offering telecommuting options are more likely to be legitimate. The `job_desc_length` column(coefficient = -0.0690) has a negative coefficient, but is so close to zero, that it could be thought of as a neutral feature.\n",
        "\n",
        "As for strong negative coefficients, `has_company_logo` (coefficient = -0.8574) strongly indicates that job postings without a company logo are more likely to be fraudulent. Other negative coefficients included `has_questions` (coefficient = -0.1785), `employment_encoded` (coefficent = -0.1051), and `education_encoded` (coefficient = -0.0082).\n",
        "\n",
        "These coefficients indicate that job postings with questions are less likely to be fraudulent, listings have specific employment types are associated with a lower likelihood a job posting is fraudulent, and the small negative coefficient with education suggests a slight decrease in the likelihood of a fraudulent job posting as required education level increases.\n",
        "\n",
        "The next steps are identifying which specific employment types and required education levels are the best predictors of a fraudulent listing."
      ],
      "metadata": {
        "id": "WOTZrqD87bVo"
      }
    },
    {
      "cell_type": "markdown",
      "source": [
        "## Double Checking Data Highlights w/ Clean Data"
      ],
      "metadata": {
        "id": "IdgpbUwA12UG"
      }
    },
    {
      "cell_type": "code",
      "source": [
        "job_desc_df['fraudulent'].value_counts()"
      ],
      "metadata": {
        "collapsed": true,
        "id": "WtFTo3jK2TcP",
        "colab": {
          "base_uri": "https://localhost:8080/",
          "height": 178
        },
        "outputId": "840dea78-95a1-42df-b4ac-0fb644ca900a"
      },
      "execution_count": null,
      "outputs": [
        {
          "output_type": "execute_result",
          "data": {
            "text/plain": [
              "fraudulent\n",
              "0    17014\n",
              "1      866\n",
              "Name: count, dtype: int64"
            ],
            "text/html": [
              "<div>\n",
              "<style scoped>\n",
              "    .dataframe tbody tr th:only-of-type {\n",
              "        vertical-align: middle;\n",
              "    }\n",
              "\n",
              "    .dataframe tbody tr th {\n",
              "        vertical-align: top;\n",
              "    }\n",
              "\n",
              "    .dataframe thead th {\n",
              "        text-align: right;\n",
              "    }\n",
              "</style>\n",
              "<table border=\"1\" class=\"dataframe\">\n",
              "  <thead>\n",
              "    <tr style=\"text-align: right;\">\n",
              "      <th></th>\n",
              "      <th>count</th>\n",
              "    </tr>\n",
              "    <tr>\n",
              "      <th>fraudulent</th>\n",
              "      <th></th>\n",
              "    </tr>\n",
              "  </thead>\n",
              "  <tbody>\n",
              "    <tr>\n",
              "      <th>0</th>\n",
              "      <td>17014</td>\n",
              "    </tr>\n",
              "    <tr>\n",
              "      <th>1</th>\n",
              "      <td>866</td>\n",
              "    </tr>\n",
              "  </tbody>\n",
              "</table>\n",
              "</div><br><label><b>dtype:</b> int64</label>"
            ]
          },
          "metadata": {},
          "execution_count": 31
        }
      ]
    },
    {
      "cell_type": "code",
      "source": [
        "top_10_real_industries = job_desc_df[job_desc_df['fraudulent'] == 0]['Standardized_Industry'].value_counts(normalize=True) * 100\n",
        "top_10_real_industries.head()"
      ],
      "metadata": {
        "id": "-m9o_pAM1940",
        "colab": {
          "base_uri": "https://localhost:8080/",
          "height": 272
        },
        "outputId": "8284cd9e-5523-4fe1-f1d7-43746ac926cb"
      },
      "execution_count": null,
      "outputs": [
        {
          "output_type": "execute_result",
          "data": {
            "text/plain": [
              "Standardized_Industry\n",
              "Not Provided    52.633126\n",
              "IT Services     10.603033\n",
              "Electronics      9.016104\n",
              "Education        5.736452\n",
              "Finance          5.671800\n",
              "Name: proportion, dtype: float64"
            ],
            "text/html": [
              "<div>\n",
              "<style scoped>\n",
              "    .dataframe tbody tr th:only-of-type {\n",
              "        vertical-align: middle;\n",
              "    }\n",
              "\n",
              "    .dataframe tbody tr th {\n",
              "        vertical-align: top;\n",
              "    }\n",
              "\n",
              "    .dataframe thead th {\n",
              "        text-align: right;\n",
              "    }\n",
              "</style>\n",
              "<table border=\"1\" class=\"dataframe\">\n",
              "  <thead>\n",
              "    <tr style=\"text-align: right;\">\n",
              "      <th></th>\n",
              "      <th>proportion</th>\n",
              "    </tr>\n",
              "    <tr>\n",
              "      <th>Standardized_Industry</th>\n",
              "      <th></th>\n",
              "    </tr>\n",
              "  </thead>\n",
              "  <tbody>\n",
              "    <tr>\n",
              "      <th>Not Provided</th>\n",
              "      <td>52.633126</td>\n",
              "    </tr>\n",
              "    <tr>\n",
              "      <th>IT Services</th>\n",
              "      <td>10.603033</td>\n",
              "    </tr>\n",
              "    <tr>\n",
              "      <th>Electronics</th>\n",
              "      <td>9.016104</td>\n",
              "    </tr>\n",
              "    <tr>\n",
              "      <th>Education</th>\n",
              "      <td>5.736452</td>\n",
              "    </tr>\n",
              "    <tr>\n",
              "      <th>Finance</th>\n",
              "      <td>5.671800</td>\n",
              "    </tr>\n",
              "  </tbody>\n",
              "</table>\n",
              "</div><br><label><b>dtype:</b> float64</label>"
            ]
          },
          "metadata": {},
          "execution_count": 32
        }
      ]
    },
    {
      "cell_type": "code",
      "source": [
        "top_10_fake_industries = job_desc_df[job_desc_df['fraudulent'] == 1]['Standardized_Industry'].value_counts(normalize=True) * 100\n",
        "top_10_fake_industries.head()"
      ],
      "metadata": {
        "collapsed": true,
        "id": "6M6TG6-Z5MM_",
        "colab": {
          "base_uri": "https://localhost:8080/",
          "height": 272
        },
        "outputId": "871869a7-3fcc-4113-83eb-4423972baed0"
      },
      "execution_count": null,
      "outputs": [
        {
          "output_type": "execute_result",
          "data": {
            "text/plain": [
              "Standardized_Industry\n",
              "Not Provided    68.129330\n",
              "Finance         11.085450\n",
              "IT Services      5.889145\n",
              "Marketing        5.427252\n",
              "Real Estate      2.771363\n",
              "Name: proportion, dtype: float64"
            ],
            "text/html": [
              "<div>\n",
              "<style scoped>\n",
              "    .dataframe tbody tr th:only-of-type {\n",
              "        vertical-align: middle;\n",
              "    }\n",
              "\n",
              "    .dataframe tbody tr th {\n",
              "        vertical-align: top;\n",
              "    }\n",
              "\n",
              "    .dataframe thead th {\n",
              "        text-align: right;\n",
              "    }\n",
              "</style>\n",
              "<table border=\"1\" class=\"dataframe\">\n",
              "  <thead>\n",
              "    <tr style=\"text-align: right;\">\n",
              "      <th></th>\n",
              "      <th>proportion</th>\n",
              "    </tr>\n",
              "    <tr>\n",
              "      <th>Standardized_Industry</th>\n",
              "      <th></th>\n",
              "    </tr>\n",
              "  </thead>\n",
              "  <tbody>\n",
              "    <tr>\n",
              "      <th>Not Provided</th>\n",
              "      <td>68.129330</td>\n",
              "    </tr>\n",
              "    <tr>\n",
              "      <th>Finance</th>\n",
              "      <td>11.085450</td>\n",
              "    </tr>\n",
              "    <tr>\n",
              "      <th>IT Services</th>\n",
              "      <td>5.889145</td>\n",
              "    </tr>\n",
              "    <tr>\n",
              "      <th>Marketing</th>\n",
              "      <td>5.427252</td>\n",
              "    </tr>\n",
              "    <tr>\n",
              "      <th>Real Estate</th>\n",
              "      <td>2.771363</td>\n",
              "    </tr>\n",
              "  </tbody>\n",
              "</table>\n",
              "</div><br><label><b>dtype:</b> float64</label>"
            ]
          },
          "metadata": {},
          "execution_count": 33
        }
      ]
    },
    {
      "cell_type": "code",
      "source": [
        "# Calculate the percentage of 'Finance' and 'IT Services' in 'Standardized_Industry'\n",
        "industry_counts = job_desc_df['Standardized_Industry'].value_counts(normalize=True) * 100\n",
        "finance_it_percentage = industry_counts[['Finance', 'IT Services']].sum()\n",
        "\n",
        "print(f\"Percentage of 'Finance' and 'IT Services' in 'Standardized_Industry': {finance_it_percentage:.2f}%\")"
      ],
      "metadata": {
        "id": "w0ysh5M93NLY",
        "colab": {
          "base_uri": "https://localhost:8080/"
        },
        "outputId": "38d86d08-e1fe-4b37-eafd-c17115d1eb1b"
      },
      "execution_count": null,
      "outputs": [
        {
          "output_type": "stream",
          "name": "stdout",
          "text": [
            "Percentage of 'Finance' and 'IT Services' in 'Standardized_Industry': 16.31%\n"
          ]
        }
      ]
    },
    {
      "cell_type": "code",
      "source": [
        "top_5_real_deapartments = job_desc_df[job_desc_df['fraudulent'] == 0]['Standardized_Department'].value_counts(normalize=True) * 100\n",
        "top_5_real_deapartments.head()"
      ],
      "metadata": {
        "collapsed": true,
        "id": "o-QpI_WK-rIR",
        "colab": {
          "base_uri": "https://localhost:8080/",
          "height": 272
        },
        "outputId": "9ef61fb1-d2bc-46e1-8865-5b70c95aee2c"
      },
      "execution_count": null,
      "outputs": [
        {
          "output_type": "execute_result",
          "data": {
            "text/plain": [
              "Standardized_Department\n",
              "Not Provided    78.617609\n",
              "Sales            3.432467\n",
              "Engineering      2.750676\n",
              "Marketing        2.509698\n",
              "IT               2.086517\n",
              "Name: proportion, dtype: float64"
            ],
            "text/html": [
              "<div>\n",
              "<style scoped>\n",
              "    .dataframe tbody tr th:only-of-type {\n",
              "        vertical-align: middle;\n",
              "    }\n",
              "\n",
              "    .dataframe tbody tr th {\n",
              "        vertical-align: top;\n",
              "    }\n",
              "\n",
              "    .dataframe thead th {\n",
              "        text-align: right;\n",
              "    }\n",
              "</style>\n",
              "<table border=\"1\" class=\"dataframe\">\n",
              "  <thead>\n",
              "    <tr style=\"text-align: right;\">\n",
              "      <th></th>\n",
              "      <th>proportion</th>\n",
              "    </tr>\n",
              "    <tr>\n",
              "      <th>Standardized_Department</th>\n",
              "      <th></th>\n",
              "    </tr>\n",
              "  </thead>\n",
              "  <tbody>\n",
              "    <tr>\n",
              "      <th>Not Provided</th>\n",
              "      <td>78.617609</td>\n",
              "    </tr>\n",
              "    <tr>\n",
              "      <th>Sales</th>\n",
              "      <td>3.432467</td>\n",
              "    </tr>\n",
              "    <tr>\n",
              "      <th>Engineering</th>\n",
              "      <td>2.750676</td>\n",
              "    </tr>\n",
              "    <tr>\n",
              "      <th>Marketing</th>\n",
              "      <td>2.509698</td>\n",
              "    </tr>\n",
              "    <tr>\n",
              "      <th>IT</th>\n",
              "      <td>2.086517</td>\n",
              "    </tr>\n",
              "  </tbody>\n",
              "</table>\n",
              "</div><br><label><b>dtype:</b> float64</label>"
            ]
          },
          "metadata": {},
          "execution_count": 35
        }
      ]
    },
    {
      "cell_type": "code",
      "source": [
        "top_5_fake_departments = job_desc_df[job_desc_df['fraudulent'] == 1]['Standardized_Department'].value_counts(normalize=True) * 100\n",
        "top_5_fake_departments.head()"
      ],
      "metadata": {
        "collapsed": true,
        "id": "StP7KCk2_ORK",
        "colab": {
          "base_uri": "https://localhost:8080/",
          "height": 272
        },
        "outputId": "92eb1ae4-31bb-49af-fe7b-970678d3b414"
      },
      "execution_count": null,
      "outputs": [
        {
          "output_type": "execute_result",
          "data": {
            "text/plain": [
              "Standardized_Department\n",
              "Not Provided        83.487298\n",
              "Engineering          6.581986\n",
              "IT                   2.193995\n",
              "Customer Service     2.078522\n",
              "Administrative       1.732102\n",
              "Name: proportion, dtype: float64"
            ],
            "text/html": [
              "<div>\n",
              "<style scoped>\n",
              "    .dataframe tbody tr th:only-of-type {\n",
              "        vertical-align: middle;\n",
              "    }\n",
              "\n",
              "    .dataframe tbody tr th {\n",
              "        vertical-align: top;\n",
              "    }\n",
              "\n",
              "    .dataframe thead th {\n",
              "        text-align: right;\n",
              "    }\n",
              "</style>\n",
              "<table border=\"1\" class=\"dataframe\">\n",
              "  <thead>\n",
              "    <tr style=\"text-align: right;\">\n",
              "      <th></th>\n",
              "      <th>proportion</th>\n",
              "    </tr>\n",
              "    <tr>\n",
              "      <th>Standardized_Department</th>\n",
              "      <th></th>\n",
              "    </tr>\n",
              "  </thead>\n",
              "  <tbody>\n",
              "    <tr>\n",
              "      <th>Not Provided</th>\n",
              "      <td>83.487298</td>\n",
              "    </tr>\n",
              "    <tr>\n",
              "      <th>Engineering</th>\n",
              "      <td>6.581986</td>\n",
              "    </tr>\n",
              "    <tr>\n",
              "      <th>IT</th>\n",
              "      <td>2.193995</td>\n",
              "    </tr>\n",
              "    <tr>\n",
              "      <th>Customer Service</th>\n",
              "      <td>2.078522</td>\n",
              "    </tr>\n",
              "    <tr>\n",
              "      <th>Administrative</th>\n",
              "      <td>1.732102</td>\n",
              "    </tr>\n",
              "  </tbody>\n",
              "</table>\n",
              "</div><br><label><b>dtype:</b> float64</label>"
            ]
          },
          "metadata": {},
          "execution_count": 36
        }
      ]
    },
    {
      "cell_type": "code",
      "source": [
        "# Calculate the percentage of 'Engineering' and 'IT' in 'Standardized_Department'\n",
        "industry_counts = job_desc_df['Standardized_Department'].value_counts(normalize=True) * 100\n",
        "it_engin_percentage = industry_counts[['Engineering', 'IT']].sum()\n",
        "\n",
        "print(f\"Percentage of 'Engineering' and 'IT' in 'Standardized_Department': {it_engin_percentage:.2f}%\")"
      ],
      "metadata": {
        "id": "h2LInMCV_e1r",
        "colab": {
          "base_uri": "https://localhost:8080/"
        },
        "outputId": "29a0eaa0-619f-4a97-fd77-27378ab7e0fd"
      },
      "execution_count": null,
      "outputs": [
        {
          "output_type": "stream",
          "name": "stdout",
          "text": [
            "Percentage of 'Engineering' and 'IT' in 'Standardized_Department': 5.03%\n"
          ]
        }
      ]
    },
    {
      "cell_type": "code",
      "source": [
        "department_counts = job_desc_df['Standardized_Department'].value_counts(normalize=True) * 100\n",
        "department_counts"
      ],
      "metadata": {
        "collapsed": true,
        "id": "HU1ZlQ8v_vvn",
        "colab": {
          "base_uri": "https://localhost:8080/",
          "height": 931
        },
        "outputId": "6766ec59-5607-4446-f460-7adbac5b7fb6"
      },
      "execution_count": null,
      "outputs": [
        {
          "output_type": "execute_result",
          "data": {
            "text/plain": [
              "Standardized_Department\n",
              "Not Provided                        78.853468\n",
              "Sales                                3.344519\n",
              "Engineering                          2.936242\n",
              "Marketing                            2.399329\n",
              "IT                                   2.091723\n",
              "Operations                           1.840045\n",
              "Technology                           1.638702\n",
              "Product Management & Development     1.118568\n",
              "Customer Service                     0.906040\n",
              "Creative & Design                    0.838926\n",
              "Finance & Accounting                 0.648770\n",
              "Administrative                       0.559284\n",
              "Human Resources                      0.536913\n",
              "Research & Development               0.425056\n",
              "Retail & Consumer                    0.335570\n",
              "Manufacturing & Production           0.206935\n",
              "Project Management                   0.184564\n",
              "Legal & Compliance                   0.184564\n",
              "Media & Communications               0.184564\n",
              "Healthcare                           0.156600\n",
              "Quality Assurance & Testing          0.145414\n",
              "Business Consulting                  0.139821\n",
              "Logistics & Supply Chain             0.134228\n",
              "Education & Training                 0.117450\n",
              "Hospitality & Food Services          0.050336\n",
              "Government & Public Sector           0.022371\n",
              "Name: proportion, dtype: float64"
            ],
            "text/html": [
              "<div>\n",
              "<style scoped>\n",
              "    .dataframe tbody tr th:only-of-type {\n",
              "        vertical-align: middle;\n",
              "    }\n",
              "\n",
              "    .dataframe tbody tr th {\n",
              "        vertical-align: top;\n",
              "    }\n",
              "\n",
              "    .dataframe thead th {\n",
              "        text-align: right;\n",
              "    }\n",
              "</style>\n",
              "<table border=\"1\" class=\"dataframe\">\n",
              "  <thead>\n",
              "    <tr style=\"text-align: right;\">\n",
              "      <th></th>\n",
              "      <th>proportion</th>\n",
              "    </tr>\n",
              "    <tr>\n",
              "      <th>Standardized_Department</th>\n",
              "      <th></th>\n",
              "    </tr>\n",
              "  </thead>\n",
              "  <tbody>\n",
              "    <tr>\n",
              "      <th>Not Provided</th>\n",
              "      <td>78.853468</td>\n",
              "    </tr>\n",
              "    <tr>\n",
              "      <th>Sales</th>\n",
              "      <td>3.344519</td>\n",
              "    </tr>\n",
              "    <tr>\n",
              "      <th>Engineering</th>\n",
              "      <td>2.936242</td>\n",
              "    </tr>\n",
              "    <tr>\n",
              "      <th>Marketing</th>\n",
              "      <td>2.399329</td>\n",
              "    </tr>\n",
              "    <tr>\n",
              "      <th>IT</th>\n",
              "      <td>2.091723</td>\n",
              "    </tr>\n",
              "    <tr>\n",
              "      <th>Operations</th>\n",
              "      <td>1.840045</td>\n",
              "    </tr>\n",
              "    <tr>\n",
              "      <th>Technology</th>\n",
              "      <td>1.638702</td>\n",
              "    </tr>\n",
              "    <tr>\n",
              "      <th>Product Management &amp; Development</th>\n",
              "      <td>1.118568</td>\n",
              "    </tr>\n",
              "    <tr>\n",
              "      <th>Customer Service</th>\n",
              "      <td>0.906040</td>\n",
              "    </tr>\n",
              "    <tr>\n",
              "      <th>Creative &amp; Design</th>\n",
              "      <td>0.838926</td>\n",
              "    </tr>\n",
              "    <tr>\n",
              "      <th>Finance &amp; Accounting</th>\n",
              "      <td>0.648770</td>\n",
              "    </tr>\n",
              "    <tr>\n",
              "      <th>Administrative</th>\n",
              "      <td>0.559284</td>\n",
              "    </tr>\n",
              "    <tr>\n",
              "      <th>Human Resources</th>\n",
              "      <td>0.536913</td>\n",
              "    </tr>\n",
              "    <tr>\n",
              "      <th>Research &amp; Development</th>\n",
              "      <td>0.425056</td>\n",
              "    </tr>\n",
              "    <tr>\n",
              "      <th>Retail &amp; Consumer</th>\n",
              "      <td>0.335570</td>\n",
              "    </tr>\n",
              "    <tr>\n",
              "      <th>Manufacturing &amp; Production</th>\n",
              "      <td>0.206935</td>\n",
              "    </tr>\n",
              "    <tr>\n",
              "      <th>Project Management</th>\n",
              "      <td>0.184564</td>\n",
              "    </tr>\n",
              "    <tr>\n",
              "      <th>Legal &amp; Compliance</th>\n",
              "      <td>0.184564</td>\n",
              "    </tr>\n",
              "    <tr>\n",
              "      <th>Media &amp; Communications</th>\n",
              "      <td>0.184564</td>\n",
              "    </tr>\n",
              "    <tr>\n",
              "      <th>Healthcare</th>\n",
              "      <td>0.156600</td>\n",
              "    </tr>\n",
              "    <tr>\n",
              "      <th>Quality Assurance &amp; Testing</th>\n",
              "      <td>0.145414</td>\n",
              "    </tr>\n",
              "    <tr>\n",
              "      <th>Business Consulting</th>\n",
              "      <td>0.139821</td>\n",
              "    </tr>\n",
              "    <tr>\n",
              "      <th>Logistics &amp; Supply Chain</th>\n",
              "      <td>0.134228</td>\n",
              "    </tr>\n",
              "    <tr>\n",
              "      <th>Education &amp; Training</th>\n",
              "      <td>0.117450</td>\n",
              "    </tr>\n",
              "    <tr>\n",
              "      <th>Hospitality &amp; Food Services</th>\n",
              "      <td>0.050336</td>\n",
              "    </tr>\n",
              "    <tr>\n",
              "      <th>Government &amp; Public Sector</th>\n",
              "      <td>0.022371</td>\n",
              "    </tr>\n",
              "  </tbody>\n",
              "</table>\n",
              "</div><br><label><b>dtype:</b> float64</label>"
            ]
          },
          "metadata": {},
          "execution_count": 38
        }
      ]
    },
    {
      "cell_type": "code",
      "source": [
        "req_experience_real = job_desc_df[job_desc_df['fraudulent'] == 0]['required_experience'].value_counts(normalize=True) * 100\n",
        "req_experience_real"
      ],
      "metadata": {
        "collapsed": true,
        "id": "a256o6t45E0t",
        "colab": {
          "base_uri": "https://localhost:8080/",
          "height": 366
        },
        "outputId": "dd8bae4f-8e6d-4b98-aac6-6e5dfd10e510"
      },
      "execution_count": null,
      "outputs": [
        {
          "output_type": "execute_result",
          "data": {
            "text/plain": [
              "required_experience\n",
              "Not Provided        38.879746\n",
              "Mid-Senior level    21.723287\n",
              "Entry level         14.799577\n",
              "Associate           13.253791\n",
              "Not Applicable       6.206653\n",
              "Director             2.186435\n",
              "Internship           2.180557\n",
              "Executive            0.769954\n",
              "Name: proportion, dtype: float64"
            ],
            "text/html": [
              "<div>\n",
              "<style scoped>\n",
              "    .dataframe tbody tr th:only-of-type {\n",
              "        vertical-align: middle;\n",
              "    }\n",
              "\n",
              "    .dataframe tbody tr th {\n",
              "        vertical-align: top;\n",
              "    }\n",
              "\n",
              "    .dataframe thead th {\n",
              "        text-align: right;\n",
              "    }\n",
              "</style>\n",
              "<table border=\"1\" class=\"dataframe\">\n",
              "  <thead>\n",
              "    <tr style=\"text-align: right;\">\n",
              "      <th></th>\n",
              "      <th>proportion</th>\n",
              "    </tr>\n",
              "    <tr>\n",
              "      <th>required_experience</th>\n",
              "      <th></th>\n",
              "    </tr>\n",
              "  </thead>\n",
              "  <tbody>\n",
              "    <tr>\n",
              "      <th>Not Provided</th>\n",
              "      <td>38.879746</td>\n",
              "    </tr>\n",
              "    <tr>\n",
              "      <th>Mid-Senior level</th>\n",
              "      <td>21.723287</td>\n",
              "    </tr>\n",
              "    <tr>\n",
              "      <th>Entry level</th>\n",
              "      <td>14.799577</td>\n",
              "    </tr>\n",
              "    <tr>\n",
              "      <th>Associate</th>\n",
              "      <td>13.253791</td>\n",
              "    </tr>\n",
              "    <tr>\n",
              "      <th>Not Applicable</th>\n",
              "      <td>6.206653</td>\n",
              "    </tr>\n",
              "    <tr>\n",
              "      <th>Director</th>\n",
              "      <td>2.186435</td>\n",
              "    </tr>\n",
              "    <tr>\n",
              "      <th>Internship</th>\n",
              "      <td>2.180557</td>\n",
              "    </tr>\n",
              "    <tr>\n",
              "      <th>Executive</th>\n",
              "      <td>0.769954</td>\n",
              "    </tr>\n",
              "  </tbody>\n",
              "</table>\n",
              "</div><br><label><b>dtype:</b> float64</label>"
            ]
          },
          "metadata": {},
          "execution_count": 39
        }
      ]
    },
    {
      "cell_type": "code",
      "source": [
        "req_experience_fake = job_desc_df[job_desc_df['fraudulent'] == 1]['required_experience'].value_counts(normalize=True) * 100\n",
        "req_experience_fake\n",
        "#"
      ],
      "metadata": {
        "collapsed": true,
        "id": "07AT7bZV5ehL",
        "colab": {
          "base_uri": "https://localhost:8080/",
          "height": 366
        },
        "outputId": "9ecb148b-1dfa-4d9e-9d17-e96722c7e98a"
      },
      "execution_count": null,
      "outputs": [
        {
          "output_type": "execute_result",
          "data": {
            "text/plain": [
              "required_experience\n",
              "Not Provided        50.230947\n",
              "Entry level         20.669746\n",
              "Mid-Senior level    13.048499\n",
              "Not Applicable       6.928406\n",
              "Associate            4.849885\n",
              "Director             1.963048\n",
              "Executive            1.154734\n",
              "Internship           1.154734\n",
              "Name: proportion, dtype: float64"
            ],
            "text/html": [
              "<div>\n",
              "<style scoped>\n",
              "    .dataframe tbody tr th:only-of-type {\n",
              "        vertical-align: middle;\n",
              "    }\n",
              "\n",
              "    .dataframe tbody tr th {\n",
              "        vertical-align: top;\n",
              "    }\n",
              "\n",
              "    .dataframe thead th {\n",
              "        text-align: right;\n",
              "    }\n",
              "</style>\n",
              "<table border=\"1\" class=\"dataframe\">\n",
              "  <thead>\n",
              "    <tr style=\"text-align: right;\">\n",
              "      <th></th>\n",
              "      <th>proportion</th>\n",
              "    </tr>\n",
              "    <tr>\n",
              "      <th>required_experience</th>\n",
              "      <th></th>\n",
              "    </tr>\n",
              "  </thead>\n",
              "  <tbody>\n",
              "    <tr>\n",
              "      <th>Not Provided</th>\n",
              "      <td>50.230947</td>\n",
              "    </tr>\n",
              "    <tr>\n",
              "      <th>Entry level</th>\n",
              "      <td>20.669746</td>\n",
              "    </tr>\n",
              "    <tr>\n",
              "      <th>Mid-Senior level</th>\n",
              "      <td>13.048499</td>\n",
              "    </tr>\n",
              "    <tr>\n",
              "      <th>Not Applicable</th>\n",
              "      <td>6.928406</td>\n",
              "    </tr>\n",
              "    <tr>\n",
              "      <th>Associate</th>\n",
              "      <td>4.849885</td>\n",
              "    </tr>\n",
              "    <tr>\n",
              "      <th>Director</th>\n",
              "      <td>1.963048</td>\n",
              "    </tr>\n",
              "    <tr>\n",
              "      <th>Executive</th>\n",
              "      <td>1.154734</td>\n",
              "    </tr>\n",
              "    <tr>\n",
              "      <th>Internship</th>\n",
              "      <td>1.154734</td>\n",
              "    </tr>\n",
              "  </tbody>\n",
              "</table>\n",
              "</div><br><label><b>dtype:</b> float64</label>"
            ]
          },
          "metadata": {},
          "execution_count": 40
        }
      ]
    },
    {
      "cell_type": "code",
      "source": [
        "req_education_real = job_desc_df[job_desc_df['fraudulent'] == 0]['required_education'].value_counts(normalize=True) * 100\n",
        "req_education_real"
      ],
      "metadata": {
        "collapsed": true,
        "id": "pA5ppRXb61Py",
        "colab": {
          "base_uri": "https://localhost:8080/",
          "height": 554
        },
        "outputId": "862459c6-42dc-47e2-8472-826110ca6c8b"
      },
      "execution_count": null,
      "outputs": [
        {
          "output_type": "execute_result",
          "data": {
            "text/plain": [
              "required_education\n",
              "Not Provided                         44.986482\n",
              "Bachelor's Degree                    29.652051\n",
              "High School or equivalent            11.226049\n",
              "Unspecified                           7.852357\n",
              "Master's Degree                       2.262842\n",
              "Associate Degree                      1.575173\n",
              "Certification                         0.887504\n",
              "Some College Coursework Completed     0.581874\n",
              "Professional                          0.411426\n",
              "Vocational                            0.287998\n",
              "Doctorate                             0.146938\n",
              "Vocational - HS Diploma               0.052898\n",
              "Some High School Coursework           0.041143\n",
              "Vocational - Degree                   0.035265\n",
              "Name: proportion, dtype: float64"
            ],
            "text/html": [
              "<div>\n",
              "<style scoped>\n",
              "    .dataframe tbody tr th:only-of-type {\n",
              "        vertical-align: middle;\n",
              "    }\n",
              "\n",
              "    .dataframe tbody tr th {\n",
              "        vertical-align: top;\n",
              "    }\n",
              "\n",
              "    .dataframe thead th {\n",
              "        text-align: right;\n",
              "    }\n",
              "</style>\n",
              "<table border=\"1\" class=\"dataframe\">\n",
              "  <thead>\n",
              "    <tr style=\"text-align: right;\">\n",
              "      <th></th>\n",
              "      <th>proportion</th>\n",
              "    </tr>\n",
              "    <tr>\n",
              "      <th>required_education</th>\n",
              "      <th></th>\n",
              "    </tr>\n",
              "  </thead>\n",
              "  <tbody>\n",
              "    <tr>\n",
              "      <th>Not Provided</th>\n",
              "      <td>44.986482</td>\n",
              "    </tr>\n",
              "    <tr>\n",
              "      <th>Bachelor's Degree</th>\n",
              "      <td>29.652051</td>\n",
              "    </tr>\n",
              "    <tr>\n",
              "      <th>High School or equivalent</th>\n",
              "      <td>11.226049</td>\n",
              "    </tr>\n",
              "    <tr>\n",
              "      <th>Unspecified</th>\n",
              "      <td>7.852357</td>\n",
              "    </tr>\n",
              "    <tr>\n",
              "      <th>Master's Degree</th>\n",
              "      <td>2.262842</td>\n",
              "    </tr>\n",
              "    <tr>\n",
              "      <th>Associate Degree</th>\n",
              "      <td>1.575173</td>\n",
              "    </tr>\n",
              "    <tr>\n",
              "      <th>Certification</th>\n",
              "      <td>0.887504</td>\n",
              "    </tr>\n",
              "    <tr>\n",
              "      <th>Some College Coursework Completed</th>\n",
              "      <td>0.581874</td>\n",
              "    </tr>\n",
              "    <tr>\n",
              "      <th>Professional</th>\n",
              "      <td>0.411426</td>\n",
              "    </tr>\n",
              "    <tr>\n",
              "      <th>Vocational</th>\n",
              "      <td>0.287998</td>\n",
              "    </tr>\n",
              "    <tr>\n",
              "      <th>Doctorate</th>\n",
              "      <td>0.146938</td>\n",
              "    </tr>\n",
              "    <tr>\n",
              "      <th>Vocational - HS Diploma</th>\n",
              "      <td>0.052898</td>\n",
              "    </tr>\n",
              "    <tr>\n",
              "      <th>Some High School Coursework</th>\n",
              "      <td>0.041143</td>\n",
              "    </tr>\n",
              "    <tr>\n",
              "      <th>Vocational - Degree</th>\n",
              "      <td>0.035265</td>\n",
              "    </tr>\n",
              "  </tbody>\n",
              "</table>\n",
              "</div><br><label><b>dtype:</b> float64</label>"
            ]
          },
          "metadata": {},
          "execution_count": 41
        }
      ]
    },
    {
      "cell_type": "code",
      "source": [
        "red_education_fake = job_desc_df[job_desc_df['fraudulent'] == 1]['required_education'].value_counts(normalize=True) * 100\n",
        "red_education_fake"
      ],
      "metadata": {
        "collapsed": true,
        "id": "POWIw0YM8EI4",
        "colab": {
          "base_uri": "https://localhost:8080/",
          "height": 460
        },
        "outputId": "cd4d70d8-ca39-401e-d91c-032cf624289e"
      },
      "execution_count": null,
      "outputs": [
        {
          "output_type": "execute_result",
          "data": {
            "text/plain": [
              "required_education\n",
              "Not Provided                         52.078522\n",
              "High School or equivalent            19.630485\n",
              "Bachelor's Degree                    11.547344\n",
              "Unspecified                           7.043880\n",
              "Master's Degree                       3.579677\n",
              "Some High School Coursework           2.309469\n",
              "Certification                         2.193995\n",
              "Associate Degree                      0.692841\n",
              "Professional                          0.461894\n",
              "Some College Coursework Completed     0.346420\n",
              "Doctorate                             0.115473\n",
              "Name: proportion, dtype: float64"
            ],
            "text/html": [
              "<div>\n",
              "<style scoped>\n",
              "    .dataframe tbody tr th:only-of-type {\n",
              "        vertical-align: middle;\n",
              "    }\n",
              "\n",
              "    .dataframe tbody tr th {\n",
              "        vertical-align: top;\n",
              "    }\n",
              "\n",
              "    .dataframe thead th {\n",
              "        text-align: right;\n",
              "    }\n",
              "</style>\n",
              "<table border=\"1\" class=\"dataframe\">\n",
              "  <thead>\n",
              "    <tr style=\"text-align: right;\">\n",
              "      <th></th>\n",
              "      <th>proportion</th>\n",
              "    </tr>\n",
              "    <tr>\n",
              "      <th>required_education</th>\n",
              "      <th></th>\n",
              "    </tr>\n",
              "  </thead>\n",
              "  <tbody>\n",
              "    <tr>\n",
              "      <th>Not Provided</th>\n",
              "      <td>52.078522</td>\n",
              "    </tr>\n",
              "    <tr>\n",
              "      <th>High School or equivalent</th>\n",
              "      <td>19.630485</td>\n",
              "    </tr>\n",
              "    <tr>\n",
              "      <th>Bachelor's Degree</th>\n",
              "      <td>11.547344</td>\n",
              "    </tr>\n",
              "    <tr>\n",
              "      <th>Unspecified</th>\n",
              "      <td>7.043880</td>\n",
              "    </tr>\n",
              "    <tr>\n",
              "      <th>Master's Degree</th>\n",
              "      <td>3.579677</td>\n",
              "    </tr>\n",
              "    <tr>\n",
              "      <th>Some High School Coursework</th>\n",
              "      <td>2.309469</td>\n",
              "    </tr>\n",
              "    <tr>\n",
              "      <th>Certification</th>\n",
              "      <td>2.193995</td>\n",
              "    </tr>\n",
              "    <tr>\n",
              "      <th>Associate Degree</th>\n",
              "      <td>0.692841</td>\n",
              "    </tr>\n",
              "    <tr>\n",
              "      <th>Professional</th>\n",
              "      <td>0.461894</td>\n",
              "    </tr>\n",
              "    <tr>\n",
              "      <th>Some College Coursework Completed</th>\n",
              "      <td>0.346420</td>\n",
              "    </tr>\n",
              "    <tr>\n",
              "      <th>Doctorate</th>\n",
              "      <td>0.115473</td>\n",
              "    </tr>\n",
              "  </tbody>\n",
              "</table>\n",
              "</div><br><label><b>dtype:</b> float64</label>"
            ]
          },
          "metadata": {},
          "execution_count": 42
        }
      ]
    },
    {
      "cell_type": "markdown",
      "source": [
        "## Next Steps in Model Creation"
      ],
      "metadata": {
        "id": "NbrBDNo9HTAH"
      }
    },
    {
      "cell_type": "markdown",
      "source": [
        "### Feature Importance Analysis"
      ],
      "metadata": {
        "id": "l_kVcvmpMN8U"
      }
    },
    {
      "cell_type": "code",
      "source": [
        "job_desc_df.columns.tolist()"
      ],
      "metadata": {
        "id": "DSTDxLBr3cAb",
        "colab": {
          "base_uri": "https://localhost:8080/"
        },
        "outputId": "51943606-fc8f-4323-c075-ca91e620a836"
      },
      "execution_count": null,
      "outputs": [
        {
          "output_type": "execute_result",
          "data": {
            "text/plain": [
              "['job_id',\n",
              " 'title',\n",
              " 'location',\n",
              " 'department',\n",
              " 'Standardized_Department',\n",
              " 'Standardized_Department_Administrative',\n",
              " 'Standardized_Department_Business Consulting',\n",
              " 'Standardized_Department_Creative & Design',\n",
              " 'Standardized_Department_Customer Service',\n",
              " 'Standardized_Department_Education & Training',\n",
              " 'Standardized_Department_Engineering',\n",
              " 'Standardized_Department_Finance & Accounting',\n",
              " 'Standardized_Department_Government & Public Sector',\n",
              " 'Standardized_Department_Healthcare',\n",
              " 'Standardized_Department_Hospitality & Food Services',\n",
              " 'Standardized_Department_Human Resources',\n",
              " 'Standardized_Department_IT',\n",
              " 'Standardized_Department_Legal & Compliance',\n",
              " 'Standardized_Department_Logistics & Supply Chain',\n",
              " 'Standardized_Department_Manufacturing & Production',\n",
              " 'Standardized_Department_Marketing',\n",
              " 'Standardized_Department_Media & Communications',\n",
              " 'Standardized_Department_Not Provided',\n",
              " 'Standardized_Department_Operations',\n",
              " 'Standardized_Department_Product Management & Development',\n",
              " 'Standardized_Department_Project Management',\n",
              " 'Standardized_Department_Quality Assurance & Testing',\n",
              " 'Standardized_Department_Research & Development',\n",
              " 'Standardized_Department_Retail & Consumer',\n",
              " 'Standardized_Department_Sales',\n",
              " 'Standardized_Department_Technology',\n",
              " 'salary_range',\n",
              " 'salary_diff',\n",
              " 'company_profile',\n",
              " 'description',\n",
              " 'job_desc_length',\n",
              " 'requirements',\n",
              " 'benefits',\n",
              " 'telecommuting',\n",
              " 'has_company_logo',\n",
              " 'has_questions',\n",
              " 'employment_type',\n",
              " 'employment_encoded',\n",
              " 'required_experience',\n",
              " 'required_education',\n",
              " 'education_encoded',\n",
              " 'industry',\n",
              " 'Standardized_Industry',\n",
              " 'Standardized_Industry_Agriculture',\n",
              " 'Standardized_Industry_Automotive',\n",
              " 'Standardized_Industry_Construction',\n",
              " 'Standardized_Industry_Consulting',\n",
              " 'Standardized_Industry_Consumer Goods',\n",
              " 'Standardized_Industry_Education',\n",
              " 'Standardized_Industry_Electronics',\n",
              " 'Standardized_Industry_Engineering',\n",
              " 'Standardized_Industry_Entertainment',\n",
              " 'Standardized_Industry_Environmental Services',\n",
              " 'Standardized_Industry_Finance',\n",
              " 'Standardized_Industry_Government',\n",
              " 'Standardized_Industry_Health Care',\n",
              " 'Standardized_Industry_IT Services',\n",
              " 'Standardized_Industry_Law',\n",
              " 'Standardized_Industry_Marketing',\n",
              " 'Standardized_Industry_Media',\n",
              " 'Standardized_Industry_Nonprofit',\n",
              " 'Standardized_Industry_Not Provided',\n",
              " 'Standardized_Industry_Real Estate',\n",
              " 'Standardized_Industry_Retail',\n",
              " 'Standardized_Industry_Security',\n",
              " 'Standardized_Industry_Transportation',\n",
              " 'function',\n",
              " 'fraudulent']"
            ]
          },
          "metadata": {},
          "execution_count": 43
        }
      ]
    },
    {
      "cell_type": "code",
      "source": [
        "job_desc_df['function'].unique()"
      ],
      "metadata": {
        "id": "kvib3IrR3p4j",
        "colab": {
          "base_uri": "https://localhost:8080/"
        },
        "outputId": "a80dce4e-aac5-44fd-945b-0a46fae4a2be"
      },
      "execution_count": null,
      "outputs": [
        {
          "output_type": "execute_result",
          "data": {
            "text/plain": [
              "array(['Marketing', 'Customer Service', 'Not Provided', 'Sales',\n",
              "       'Health Care Provider', 'Management', 'Information Technology',\n",
              "       'Other', 'Engineering', 'Administrative', 'Design', 'Production',\n",
              "       'Education', 'Supply Chain', 'Business Development',\n",
              "       'Product Management', 'Financial Analyst', 'Consulting',\n",
              "       'Human Resources', 'Project Management', 'Manufacturing',\n",
              "       'Public Relations', 'Strategy/Planning', 'Advertising', 'Finance',\n",
              "       'General Business', 'Research', 'Accounting/Auditing',\n",
              "       'Art/Creative', 'Quality Assurance', 'Data Analyst',\n",
              "       'Business Analyst', 'Writing/Editing', 'Distribution', 'Science',\n",
              "       'Training', 'Purchasing', 'Legal'], dtype=object)"
            ]
          },
          "metadata": {},
          "execution_count": 44
        }
      ]
    },
    {
      "cell_type": "code",
      "source": [
        "from sklearn.linear_model import LogisticRegression\n",
        "from sklearn.metrics import accuracy_score\n",
        "\n",
        "def evaluate_top_features(model, X_train_df, y_train, X_val_df, y_val, coef_threshold=0.1): # Using the original DataFrames\n",
        "    \"\"\"\n",
        "    Fits logistic regression models for individual features above a coefficient threshold,\n",
        "    evaluates their accuracy on the validation set, and plots the results.\n",
        "\n",
        "    Parameters:\n",
        "    - model: Trained logistic regression model\n",
        "    - X_train_df, y_train: Training data (DataFrame and target)\n",
        "    - X_val_df, y_val: Validation data (DataFrame and target)\n",
        "    - coef_threshold: Minimum absolute coefficient value to include a feature\n",
        "    \"\"\"\n",
        "    # Extract coefficients and feature names from the original DataFrame\n",
        "    coef_df = pd.DataFrame({\n",
        "        'Feature': X_train_df.columns,\n",
        "        'Coefficient': model.coef_.flatten()\n",
        "    })\n",
        "\n",
        "    # Filter features above the coefficient threshold\n",
        "    significant_features = coef_df[coef_df['Coefficient'].abs() >= coef_threshold]\n",
        "\n",
        "    print(f\"\\nFeatures with coefficients >= {coef_threshold}:\\n\", significant_features)\n",
        "\n",
        "    # Track accuracy scores\n",
        "    accuracy_scores = {}\n",
        "\n",
        "    # Iterate over selected features and fit a logistic regression model for each\n",
        "    for feature in significant_features['Feature']:\n",
        "        X_train_subset = X_train_df[[feature]]\n",
        "        X_val_subset = X_val_df[[feature]]\n",
        "\n",
        "        temp_model = LogisticRegression()\n",
        "        temp_model.fit(X_train_subset, y_train)\n",
        "\n",
        "        # Predict on validation data\n",
        "        y_val_pred = temp_model.predict(X_val_subset)\n",
        "        accuracy = accuracy_score(y_val, y_val_pred)\n",
        "        accuracy_scores[feature] = accuracy\n",
        "\n",
        "        print(f\"Feature: {feature} | Validation Accuracy: {accuracy:.4f}\")\n",
        "\n",
        "    # Sort features by accuracy\n",
        "    sorted_features = sorted(accuracy_scores.items(), key=lambda x: x[1], reverse=True)\n",
        "\n",
        "    # ... (rest of your function, including plotting if needed) ..."
      ],
      "metadata": {
        "id": "qBDS3vcyHRwY"
      },
      "execution_count": null,
      "outputs": []
    },
    {
      "cell_type": "markdown",
      "source": [
        "#### 0.1 Coefficient Threshold"
      ],
      "metadata": {
        "id": "uxytXHcCw6LS"
      }
    },
    {
      "cell_type": "code",
      "source": [
        "# Before scaling, store a copy of the DataFrame:\n",
        "X_train_df = train_df.drop(columns=['fraudulent', 'salary_range', 'job_id']).select_dtypes(include=['float64', 'int64'])\n",
        "X_val_df = val_df.drop(columns=['fraudulent', 'salary_range', 'job_id']).select_dtypes(include=['float64', 'int64'])\n",
        "\n",
        "# Call evaluate_top_features using the original DataFrames:\n",
        "#Ensure y_val and X_val_df have the same index to address the ValueError\n",
        "X_val_df = X_val_df[X_val_df.index.isin(y_val.index)]\n",
        "evaluate_top_features(model, X_train_df, y, X_val_df, y_val[X_val_df.index], coef_threshold=0.1) #y_val is filtered by X_val_df.index"
      ],
      "metadata": {
        "id": "bVAVuVNmJfSa",
        "colab": {
          "base_uri": "https://localhost:8080/"
        },
        "outputId": "8140d738-4c0e-4f54-f461-acdbf0da3f00"
      },
      "execution_count": null,
      "outputs": [
        {
          "output_type": "stream",
          "name": "stdout",
          "text": [
            "\n",
            "Features with coefficients >= 0.1:\n",
            "                                               Feature  Coefficient\n",
            "7   Standardized_Department_Government & Public Se...     0.122692\n",
            "17               Standardized_Department_Not Provided     0.228880\n",
            "27                                    job_desc_length     0.164307\n",
            "29                                   has_company_logo     0.101969\n",
            "31                                 employment_encoded     0.217896\n",
            "32                                  education_encoded     0.100182\n",
            "51                 Standardized_Industry_Not Provided     0.147457\n",
            "Feature: Standardized_Department_Government & Public Sector | Validation Accuracy: 0.9564\n",
            "Feature: Standardized_Department_Not Provided | Validation Accuracy: 0.9572\n",
            "Feature: job_desc_length | Validation Accuracy: 0.9572\n",
            "Feature: has_company_logo | Validation Accuracy: 0.9572\n",
            "Feature: employment_encoded | Validation Accuracy: 0.9572\n",
            "Feature: education_encoded | Validation Accuracy: 0.9572\n",
            "Feature: Standardized_Industry_Not Provided | Validation Accuracy: 0.9572\n"
          ]
        }
      ]
    },
    {
      "cell_type": "markdown",
      "source": [
        "#### 0.3 Coefficient Threshold"
      ],
      "metadata": {
        "id": "K2NEdWOtw97b"
      }
    },
    {
      "cell_type": "code",
      "source": [
        "# Before scaling, store a copy of the DataFrame:\n",
        "X_train_df = train_df.drop(columns=['fraudulent', 'salary_range', 'job_id']).select_dtypes(include=['float64', 'int64'])\n",
        "X_val_df = val_df.drop(columns=['fraudulent', 'salary_range', 'job_id']).select_dtypes(include=['float64', 'int64'])\n",
        "\n",
        "# Call evaluate_top_features using the original DataFrames:\n",
        "#Ensure y_val and X_val_df have the same index to address the ValueError\n",
        "X_val_df = X_val_df[X_val_df.index.isin(y_val.index)]\n",
        "evaluate_top_features(model, X_train_df, y, X_val_df, y_val[X_val_df.index], coef_threshold=0.3) #y_val is filtered by X_val_df.index"
      ],
      "metadata": {
        "id": "-3N3o_3GxWfv",
        "colab": {
          "base_uri": "https://localhost:8080/"
        },
        "outputId": "5f750721-60fa-495a-f90e-a20d3490c1c5"
      },
      "execution_count": null,
      "outputs": [
        {
          "output_type": "stream",
          "name": "stdout",
          "text": [
            "\n",
            "Features with coefficients >= 0.3:\n",
            " Empty DataFrame\n",
            "Columns: [Feature, Coefficient]\n",
            "Index: []\n"
          ]
        }
      ]
    },
    {
      "cell_type": "markdown",
      "source": [
        "#### 0.05 Coefficient Threshold"
      ],
      "metadata": {
        "id": "zhGFMu3zxdGW"
      }
    },
    {
      "cell_type": "code",
      "source": [
        "# Before scaling, store a copy of the DataFrame:\n",
        "X_train_df = train_df.drop(columns=['fraudulent', 'salary_range', 'job_id']).select_dtypes(include=['float64', 'int64'])\n",
        "X_val_df = val_df.drop(columns=['fraudulent', 'salary_range', 'job_id']).select_dtypes(include=['float64', 'int64'])\n",
        "\n",
        "# Call evaluate_top_features using the original DataFrames:\n",
        "#Ensure y_val and X_val_df have the same index to address the ValueError\n",
        "X_val_df = X_val_df[X_val_df.index.isin(y_val.index)]\n",
        "evaluate_top_features(model, X_train_df, y, X_val_df, y_val[X_val_df.index], coef_threshold=0.05) #y_val is filtered by X_val_df.index"
      ],
      "metadata": {
        "id": "s1REeFWyxgFZ",
        "colab": {
          "base_uri": "https://localhost:8080/"
        },
        "outputId": "78d41bd9-2bbe-446d-bfff-e7d8a3b3ec65"
      },
      "execution_count": null,
      "outputs": [
        {
          "output_type": "stream",
          "name": "stdout",
          "text": [
            "\n",
            "Features with coefficients >= 0.05:\n",
            "                                               Feature  Coefficient\n",
            "7   Standardized_Department_Government & Public Se...     0.122692\n",
            "17               Standardized_Department_Not Provided     0.228880\n",
            "27                                    job_desc_length     0.164307\n",
            "29                                   has_company_logo     0.101969\n",
            "30                                      has_questions     0.069135\n",
            "31                                 employment_encoded     0.217896\n",
            "32                                  education_encoded     0.100182\n",
            "51                 Standardized_Industry_Not Provided     0.147457\n",
            "Feature: Standardized_Department_Government & Public Sector | Validation Accuracy: 0.9564\n",
            "Feature: Standardized_Department_Not Provided | Validation Accuracy: 0.9572\n",
            "Feature: job_desc_length | Validation Accuracy: 0.9572\n",
            "Feature: has_company_logo | Validation Accuracy: 0.9572\n",
            "Feature: has_questions | Validation Accuracy: 0.9572\n",
            "Feature: employment_encoded | Validation Accuracy: 0.9572\n",
            "Feature: education_encoded | Validation Accuracy: 0.9572\n",
            "Feature: Standardized_Industry_Not Provided | Validation Accuracy: 0.9572\n"
          ]
        }
      ]
    },
    {
      "cell_type": "code",
      "source": [
        "import numpy as np\n",
        "import matplotlib.pyplot as plt\n",
        "\n",
        "# Extracting the coefficients and intercept from the trained logistic regression model\n",
        "coefficients = model.coef_[0]\n",
        "intercept = model.intercept_[0]\n",
        "\n",
        "# Compute z using the linear combination of features (mean values of X_train_df for simplicity)\n",
        "z = intercept + np.dot(X_train_df.mean(), coefficients)\n",
        "\n",
        "# Generate a range of z values centered around the computed mean z\n",
        "z_range = np.linspace(z - 5, z + 5, 300)\n",
        "\n",
        "# Compute sigmoid function\n",
        "sigmoid = 1 / (1 + np.exp(-z_range))\n",
        "\n",
        "# Plot the sigmoid function\n",
        "plt.figure(figsize=(8, 5))\n",
        "plt.plot(z_range, sigmoid, label=\"Sigmoid Function\", color=\"purple\")\n",
        "plt.axhline(y=0.5, color='red', linestyle='--', label=\"Decision Boundary (0.5)\")\n",
        "plt.xlabel(\"z (Linear Combination of Features)\")\n",
        "plt.ylabel(\"Predicted Probability of Fraudulent Job Posting\")\n",
        "plt.title(\"Logistic Regression Sigmoid Curve\")\n",
        "plt.legend()\n",
        "plt.grid()\n",
        "\n",
        "# Show the plot\n",
        "plt.show()\n"
      ],
      "metadata": {
        "id": "uOV1wzRtzPhO",
        "colab": {
          "base_uri": "https://localhost:8080/",
          "height": 487
        },
        "outputId": "8a40b6f5-ea5d-40e4-d3bc-524ab4daa04d"
      },
      "execution_count": null,
      "outputs": [
        {
          "output_type": "display_data",
          "data": {
            "text/plain": [
              "<Figure size 800x500 with 1 Axes>"
            ],
            "image/png": "[encoded data removed]"
          },
          "metadata": {}
        }
      ]
    },
    {
      "cell_type": "code",
      "source": [
        "\n",
        "# Extract coefficients for selected features\n",
        "selected_features = ['education_encoded', 'job_desc_length', 'employment_encoded']\n",
        "selected_indices = [X_train_df.columns.get_loc(f) for f in selected_features]\n",
        "selected_coefficients = model.coef_[0][selected_indices]\n",
        "intercept = model.intercept_[0]\n",
        "\n",
        "# Generate a range of values for each feature\n",
        "feature_ranges = {\n",
        "    'education_encoded': np.linspace(X_train_df['education_encoded'].min(), X_train_df['education_encoded'].max(), 100),\n",
        "    'job_desc_length': np.linspace(X_train_df['job_desc_length'].min(), X_train_df['job_desc_length'].max(), 100),\n",
        "    'employment_encoded': np.linspace(X_train_df['employment_encoded'].min(), X_train_df['employment_encoded'].max(), 100)\n",
        "}\n",
        "\n",
        "plt.figure(figsize=(12, 5))\n",
        "\n",
        "for i, feature in enumerate(selected_features):\n",
        "    z = intercept + selected_coefficients[i] * feature_ranges[feature]\n",
        "    probability = 1 / (1 + np.exp(-z))  # Sigmoid function\n",
        "\n",
        "    plt.subplot(1, 3, i + 1)\n",
        "    plt.plot(feature_ranges[feature], probability, label=f'Effect of {feature}')\n",
        "    plt.xlabel(feature)\n",
        "    plt.ylabel('Fraud Probability')\n",
        "    plt.ylim(0, 1)\n",
        "    plt.legend()\n",
        "    plt.title(f'Sigmoid Curve: {feature}')\n",
        "\n",
        "plt.tight_layout()\n",
        "plt.show()"
      ],
      "metadata": {
        "id": "XcMM5s060tQu",
        "colab": {
          "base_uri": "https://localhost:8080/",
          "height": 361
        },
        "outputId": "c9e75ece-8fbc-4ff2-9186-a45895355c73"
      },
      "execution_count": null,
      "outputs": [
        {
          "output_type": "display_data",
          "data": {
            "text/plain": [
              "<Figure size 1200x500 with 3 Axes>"
            ],
            "image/png": "[encoded data removed]"
          },
          "metadata": {}
        }
      ]
    },
    {
      "cell_type": "code",
      "source": [
        "from sklearn.model_selection import train_test_split\n",
        "from sklearn.linear_model import LogisticRegression\n",
        "from sklearn.metrics import accuracy_score\n",
        "from sklearn.impute import SimpleImputer\n",
        "\n",
        "# Assuming job_desc_df is your DataFrame with all features and target\n",
        "# Assuming 'fraudulent' is your target column\n",
        "\n",
        "# 1. Split the data\n",
        "X = job_desc_df.drop(columns=['fraudulent'])  # Features\n",
        "y = job_desc_df['fraudulent']  # Target\n",
        "\n",
        "X_train, X_test, y_train, y_test = train_test_split(X, y, test_size=0.3, random_state=42)  # Adjust test_size and random_state as needed\n",
        "\n",
        "\n",
        "# 2. Specify selected features\n",
        "selected_features = ['education_encoded', 'job_desc_length', 'employment_encoded']\n",
        "\n",
        "# 3. Subset the data using selected features\n",
        "X_train_selected = X_train[selected_features]\n",
        "X_test_selected = X_test[selected_features]\n",
        "\n",
        "# Create an imputer to fill NaN values (e.g., with the mean)\n",
        "imputer = SimpleImputer(strategy='mean')  # Or use 'median', 'most_frequent'\n",
        "\n",
        "# Fit the imputer on your training data and transform both train and test\n",
        "X_train_selected = imputer.fit_transform(X_train_selected)\n",
        "X_test_selected = imputer.transform(X_test_selected)\n",
        "\n",
        "\n",
        "# 4. Fit the model and predict for each individual feature\n",
        "for feature in selected_features:\n",
        "    # Create temporary train and test sets with only the current feature\n",
        "    X_train_single = X_train[[feature]]  # Double brackets to select a single column as a DataFrame\n",
        "    X_test_single = X_test[[feature]]\n",
        "\n",
        "    # Create an imputer for the single feature\n",
        "    imputer_single = SimpleImputer(strategy='mean')\n",
        "\n",
        "    # Fit and transform using the imputer for the single feature\n",
        "    X_train_single = imputer_single.fit_transform(X_train_single)\n",
        "    X_test_single = imputer_single.transform(X_test_single)\n",
        "\n",
        "    model = LogisticRegression()\n",
        "    model.fit(X_train_single, y_train)\n",
        "\n",
        "    y_pred_single = model.predict(X_test_single)\n",
        "    accuracy_single = accuracy_score(y_test, y_pred_single)\n",
        "    print(f'Accuracy Score for {feature}: {accuracy_single:.4f}')\n",
        "\n",
        "# 5. Fit the model and predict using all selected features\n",
        "model = LogisticRegression()\n",
        "model.fit(X_train_selected, y_train)\n",
        "\n",
        "y_pred = model.predict(X_test_selected)\n",
        "\n",
        "# 6. Evaluate accuracy for all selected features\n",
        "accuracy = accuracy_score(y_test, y_pred)\n",
        "print(f'Accuracy Score for Selected Features: {accuracy:.4f}')"
      ],
      "metadata": {
        "id": "qvY-60Qc1lYO",
        "colab": {
          "base_uri": "https://localhost:8080/"
        },
        "outputId": "9ede42a9-134a-4ad6-ae38-ffdb4dabfab4"
      },
      "execution_count": null,
      "outputs": [
        {
          "output_type": "stream",
          "name": "stdout",
          "text": [
            "Accuracy Score for education_encoded: 0.9495\n",
            "Accuracy Score for job_desc_length: 0.9495\n",
            "Accuracy Score for employment_encoded: 0.9495\n",
            "Accuracy Score for Selected Features: 0.9495\n"
          ]
        }
      ]
    },
    {
      "cell_type": "code",
      "source": [
        "from sklearn.metrics import ConfusionMatrixDisplay\n",
        "\n",
        "ConfusionMatrixDisplay.from_predictions(\n",
        "   y_test, y_pred, cmap='Blues')"
      ],
      "metadata": {
        "id": "J0mf5-yW4oj6",
        "colab": {
          "base_uri": "https://localhost:8080/",
          "height": 466
        },
        "outputId": "747e1e92-fdcd-4acc-ab76-99d600f19c00"
      },
      "execution_count": null,
      "outputs": [
        {
          "output_type": "execute_result",
          "data": {
            "text/plain": [
              "<sklearn.metrics._plot.confusion_matrix.ConfusionMatrixDisplay at 0x7e725a90b350>"
            ]
          },
          "metadata": {},
          "execution_count": 52
        },
        {
          "output_type": "display_data",
          "data": {
            "text/plain": [
              "<Figure size 640x480 with 2 Axes>"
            ],
            "image/png": "[encoded data removed]"
          },
          "metadata": {}
        }
      ]
    }
  ]
}